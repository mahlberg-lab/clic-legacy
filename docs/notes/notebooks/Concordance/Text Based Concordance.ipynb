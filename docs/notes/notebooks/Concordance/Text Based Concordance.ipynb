{
 "cells": [
  {
   "cell_type": "markdown",
   "metadata": {},
   "source": [
    "# Text based concordance\n",
    "## Sketchboard"
   ]
  },
  {
   "cell_type": "markdown",
   "metadata": {},
   "source": [
    "1. a tested querybuilder\n",
    "1. find all occurences\n",
    "\n",
    "ROUTE A\n",
    "1. take their txt elements\n",
    "1. parse these using regex to highlight the term/pattern\n",
    " - what with punctuation etc?\n",
    " - does the txt element contain xml tags? (for instance, quotes)\n",
    "    * is that necessary?\n",
    "1. make these into lines\n",
    "\n",
    "ROUTE B\n",
    "1. use the raw text\n",
    "1. use character offsets"
   ]
  },
  {
   "cell_type": "code",
   "execution_count": 1,
   "metadata": {
    "collapsed": false
   },
   "outputs": [],
   "source": [
    "class Concordance:\n",
    "    pass"
   ]
  },
  {
   "cell_type": "code",
   "execution_count": 2,
   "metadata": {
    "collapsed": false
   },
   "outputs": [],
   "source": [
    "class Corpus:\n",
    "    pass\n",
    "\n",
    "    def build_concordance(self, terms, search_type):\n",
    "        pass\n",
    "        #return concordance\n",
    "            "
   ]
  },
  {
   "cell_type": "markdown",
   "metadata": {},
   "source": [
    "Or use NLTK's built-in functions"
   ]
  },
  {
   "cell_type": "code",
   "execution_count": 3,
   "metadata": {
    "collapsed": false
   },
   "outputs": [],
   "source": [
    "import re\n",
    "\n",
    "test = 'Here is an important string; about an important topic.'\n",
    "# use \\b to match the start of a word\n",
    "results = re.finditer(r'\\ban', test)"
   ]
  },
  {
   "cell_type": "code",
   "execution_count": 4,
   "metadata": {
    "collapsed": false
   },
   "outputs": [
    {
     "name": "stdout",
     "output_type": "stream",
     "text": [
      "an\n",
      "an\n"
     ]
    }
   ],
   "source": [
    "def print_hits(results):\n",
    "    for hit in results:\n",
    "        start, end = hit.start(), hit.end()\n",
    "        print test[start:end]\n",
    "\n",
    "print_hits(results)"
   ]
  },
  {
   "cell_type": "code",
   "execution_count": 5,
   "metadata": {
    "collapsed": false
   },
   "outputs": [
    {
     "name": "stdout",
     "output_type": "stream",
     "text": [
      "['Here', 'is', 'an', 'important', 'string;', 'about', 'an', 'important', 'topic.']\n"
     ]
    }
   ],
   "source": [
    "def print_concordance(test, results):\n",
    "    raw_text = test.split()\n",
    "    print raw_text\n",
    "\n",
    "print_concordance(test, results)"
   ]
  },
  {
   "cell_type": "code",
   "execution_count": 6,
   "metadata": {
    "collapsed": false
   },
   "outputs": [
    {
     "name": "stdout",
     "output_type": "stream",
     "text": [
      "[2, 6]\n"
     ]
    }
   ],
   "source": [
    "def print_concordance(test, term):\n",
    "    #FIXME how would this handle phrases?\n",
    "    raw_text = test.split()\n",
    "    indices = [i for i, word in enumerate(raw_text) if word == term]\n",
    "    hits = indices\n",
    "    print hits\n",
    "\n",
    "print_concordance(test, 'an')"
   ]
  },
  {
   "cell_type": "code",
   "execution_count": 7,
   "metadata": {
    "collapsed": false
   },
   "outputs": [
    {
     "name": "stdout",
     "output_type": "stream",
     "text": [
      "[8, 35]\n"
     ]
    }
   ],
   "source": [
    "#TODO do this on strings!\n",
    "\n",
    "indices = [m.start() for m in re.finditer(r'\\ban', test)]\n",
    "print indices"
   ]
  },
  {
   "cell_type": "code",
   "execution_count": 8,
   "metadata": {
    "collapsed": false
   },
   "outputs": [
    {
     "name": "stdout",
     "output_type": "stream",
     "text": [
      "\tan\t\n",
      "\tan\t\n"
     ]
    }
   ],
   "source": [
    "for i in indices:\n",
    "    print test[-10:i] + '\\t' + 'an' + '\\t' + test[i+len('an'):10]"
   ]
  },
  {
   "cell_type": "code",
   "execution_count": 9,
   "metadata": {
    "collapsed": false
   },
   "outputs": [
    {
     "name": "stdout",
     "output_type": "stream",
     "text": [
      "Here is \tan\t important stri\n",
      " string; about \tan\t important topi\n"
     ]
    }
   ],
   "source": [
    "for i in indices:\n",
    "    left = test[:i]\n",
    "    right = test[i+len('an'):]\n",
    "    print left[-15:] + '\\t' + 'an' + '\\t' + right[:15]\n",
    "\n",
    "#todo whole words?"
   ]
  },
  {
   "cell_type": "code",
   "execution_count": 10,
   "metadata": {
    "collapsed": false
   },
   "outputs": [
    {
     "data": {
      "text/plain": [
       "'Here is an important string; about '"
      ]
     },
     "execution_count": 10,
     "metadata": {},
     "output_type": "execute_result"
    }
   ],
   "source": [
    "test[:35]"
   ]
  }
 ],
 "metadata": {
  "kernelspec": {
   "display_name": "Python 2",
   "language": "python",
   "name": "python2"
  },
  "language_info": {
   "codemirror_mode": {
    "name": "ipython",
    "version": 2
   },
   "file_extension": ".py",
   "mimetype": "text/x-python",
   "name": "python",
   "nbconvert_exporter": "python",
   "pygments_lexer": "ipython2",
   "version": "2.7.6"
  }
 },
 "nbformat": 4,
 "nbformat_minor": 0
}
