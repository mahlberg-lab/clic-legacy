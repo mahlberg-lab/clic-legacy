{
 "cells": [
  {
   "cell_type": "markdown",
   "metadata": {},
   "source": [
    "# Brand New Concordance"
   ]
  },
  {
   "cell_type": "markdown",
   "metadata": {},
   "source": [
    "A quick and dirty way of building a concordance"
   ]
  },
  {
   "cell_type": "code",
   "execution_count": 1,
   "metadata": {
    "collapsed": false
   },
   "outputs": [],
   "source": [
    "# coding: utf-8\n",
    "\n",
    "import os\n",
    "\n",
    "from cheshire3.baseObjects import Session\n",
    "from cheshire3.document import StringDocument\n",
    "from cheshire3.internal import cheshire3Root\n",
    "from cheshire3.server import SimpleServer   \n",
    "\n",
    "session = Session()\n",
    "session.database = 'db_dickens'\n",
    "serv = SimpleServer(session, os.path.join(cheshire3Root, 'configs', 'serverConfig.xml'))\n",
    "db = serv.get_object(session, session.database)\n",
    "qf = db.get_object(session, 'defaultQueryFactory')\n",
    "resultSetStore = db.get_object(session, 'resultSetStore')\n",
    "idxStore = db.get_object(session, 'indexStore')"
   ]
  },
  {
   "cell_type": "code",
   "execution_count": 2,
   "metadata": {
    "collapsed": false
   },
   "outputs": [],
   "source": [
    "def build_concordance(term, context):\n",
    "    \n",
    "    query = qf.get_query(session, \"\"\"(c3.subcorpus-idx all \"dickens\" and/proxinfo c3.chapter-idx all/proxinfo \"{}\" )\"\"\".format(term))\n",
    "    result_set = db.search(session, query)\n",
    "\n",
    "    concordance = []\n",
    "        \n",
    "    for result in result_set:\n",
    "        record = result.fetch_record(session)\n",
    "        tree = record.get_dom(session)\n",
    "        text_nodes = tree.xpath('//txt/text()')\n",
    "        text_only = ' '.join(sentence for sentence in text_nodes)\n",
    "            \n",
    "        for hit in result.proxInfo:\n",
    "            word_id = hit[0][1]  \n",
    "            char_location = hit[0][2]\n",
    "            concordance_line = text_only[char_location - context : char_location + len(term) + context]\n",
    "            #NOTE in these cases record.process_xpath(session, xpath) is not faster\n",
    "            #TODO check there is only one result\n",
    "            #sentence = tree.xpath('/div/descendant::w[%i]/ancestor-or-self::s/@id' % int(word_id + 1))\n",
    "            #paragraph = tree.xpath('/div/descendant::w[%i]/ancestor-or-self::p/@id' % int(word_id + 1))\n",
    "            #concordance.append((concordance_line, sentence[0], paragraph[0]))\n",
    "            concordance.append((hit, concordance_line, text_only, tree))\n",
    "    \n",
    "    return concordance"
   ]
  },
  {
   "cell_type": "code",
   "execution_count": 3,
   "metadata": {
    "collapsed": false
   },
   "outputs": [],
   "source": [
    "#%timeit -n6 concordance = build_concordance(\"fog\", 25)"
   ]
  },
  {
   "cell_type": "code",
   "execution_count": 4,
   "metadata": {
    "collapsed": false
   },
   "outputs": [
    {
     "name": "stdout",
     "output_type": "stream",
     "text": [
      "94\n"
     ]
    }
   ],
   "source": [
    "concordance = build_concordance(\"fog\", 25)\n",
    "print len(concordance)"
   ]
  },
  {
   "cell_type": "code",
   "execution_count": 5,
   "metadata": {
    "collapsed": false
   },
   "outputs": [
    {
     "data": {
      "text/plain": [
       "([[0, 3603, 19274, 15292, 15292]],\n",
       " \"pike lamp was a blur, quite out of the lamp's usual p\")"
      ]
     },
     "execution_count": 5,
     "metadata": {},
     "output_type": "execute_result"
    }
   ],
   "source": [
    "concordance[55][:2]"
   ]
  },
  {
   "cell_type": "code",
   "execution_count": 6,
   "metadata": {
    "collapsed": false
   },
   "outputs": [],
   "source": [
    "text = concordance[55][2]"
   ]
  },
  {
   "cell_type": "code",
   "execution_count": 7,
   "metadata": {
    "collapsed": false
   },
   "outputs": [
    {
     "name": "stdout",
     "output_type": "stream",
     "text": [
      "me about my business. But, unwilling to hazard the responsibility, she let me in, and presently brought the sharp message that I was to \"come up.\" Everything was unchanged, and Miss Havisham was alone. \"Well?\" said she, fixing her eyes upon me. \"I hope you want nothing? You'll get nothing.\" \"No, indeed, Miss Havisham. I only wanted you to know that I am doing very well in my apprenticeship, and am always much obliged to you.\" \"There, there!\" with the old restless fingers. \"Come now and then; come on your birthday. - Ay!\" she cried suddenly, turning herself and her chair towards me, \"You are looking round for Estella? Hey?\" I had been looking round - in fact, for Estella - and I stammered that I hoped she was well. \"Abroad,\" said Miss Havisham; \"educating for a lady; far out of reach; prettier than ever; admired by all who see her. Do you feel that you have lost her?\" There was such a malignant enjoyment in her utterance of the last words, and she broke into such a disagreeable laugh, that I was at a loss what to say. She spared me the trouble of considering, by dismissing me. When the gate was closed upon me by Sarah of the walnut-shell countenance, I felt more than ever dissatisfied with my home and with my trade and with everything; and that was all I took by that motion. As I was loitering along the High-street, looking in disconsolately at the shop windows, and thinking what I would buy if I were a gentleman, who should come out of the bookshop but Mr. Wopsle. Mr Wopsle had in his hand the affecting tragedy of George Barnwell, in which he had that moment invested sixpence, with the view of heaping every word of it on the head of Pumblechook, with whom he was going to drink tea. No sooner did he see me, than he appeared to consider that a special Providence had put a 'prentice in his way to be read at; and he laid hold of me, and insisted on my accompanying him to the Pumblechookian parlour. As I knew it would be miserable at home, and as the nights were dark and the way was dreary, and almost any companionship on the road was better than none, I made no great resistance; consequently, we turned into Pumblechook's just as the street and the shops were lighting up. As I never assisted at any other representation of George Barnwell, I don't know how long it may usually take; but I know very well that it took until half-past nine o' clock that night, and that when Mr. Wopsle got into Newgate, I thought he never would go to the scaffold, he became so much slower than at any former period of his disgraceful career. I thought it a little too much that he should complain of being cut short in his flower after all, as if he had not been running to seed, leaf after leaf, ever since his course began. This, however, was a mere question of length and wearisomeness. What stung me, was the identification of the whole affair with my unoffending self. When Barnwell began to go wrong, I declare that I felt positively apologetic, Pumblechook's indignant stare so taxed me with it. Wopsle, too, took pains to present me in the worst light. At once ferocious and maudlin, I was made to murder my uncle with no extenuating circumstances whatever; Millwood put me down in argument, on every occasion; it became sheer monomania in my master's daughter to care a button for me; and all I can say for my gasping and procrastinating conduct on the fatal morning, is, that it was worthy of the general feebleness of my character. Even after I was happily hanged and Wopsle had closed the book, Pumblechook sat staring at me, and shaking his head, and saying, \"Take warning, boy, take warning!\" as if it were a well-known fact that I contemplated murdering a near relation, provided I could only induce one to have the weakness to become my benefactor. It was a very dark night when it was all over, and when I set out with Mr. Wopsle on the walk home. Beyond town, we found a heavy mist out, and it fell wet and thick. The turnpike lamp was a blur, quite out of the lamp's usual place apparently, and its rays looked solid substance on the fog. We were noticing this, and saying how that the mist rose with a change of wind from a certain quarter of our marshes, when we came up\n"
     ]
    }
   ],
   "source": [
    "print text[15292:19500]\n",
    "# is the fourth element the number of w nodes?"
   ]
  },
  {
   "cell_type": "code",
   "execution_count": 8,
   "metadata": {
    "collapsed": false
   },
   "outputs": [],
   "source": [
    "from lxml import etree\n",
    "xmlstring = etree.tostring(concordance[55][3])"
   ]
  },
  {
   "cell_type": "code",
   "execution_count": 9,
   "metadata": {
    "collapsed": true
   },
   "outputs": [],
   "source": [
    "snippet = \"\"\"w o=\"94\">home</w><n>.</n></toks></s><s sid=\"194\" id=\"GE.c15.s194\" eid=\"456\"><txt>Beyond town, we found a heavy mist out, and it fell wet and thick.</txt><toks><w o=\"0\">Beyond</w><n> </n><w o=\"7\">town</w><n>,</n><n> </n><w o=\"13\">we</w><n> </n><w o=\"16\">found</w><n> </n><w o=\"22\">a</w><n> </n><w o=\"24\">heavy</w><n> </n><w o=\"30\">mist</w><n> </n><w o=\"35\">out</w><n>,</n><n> </n><w o=\"40\">and</w><n> </n><w o=\"44\">it</w><n> </n><w o=\"47\">fell</w><n> </n><w o=\"52\">wet</w><n> </n><w o=\"56\">and</w><n> </n><w o=\"60\">thick</w><n>.</n></toks></s><s sid=\"195\" id=\"GE.c15.s195\" eid=\"457\"><txt>The turnpike lamp was a blur, quite out of the lamp\\'s usual place apparently, and its rays looked solid substance on the fog.</txt><toks><w o=\"0\">The</w><n> </n><w o=\"4\">turnpike</w><n> </n><w o=\"13\">lamp</w><n> </n><w o=\"18\">was</w><n> </n><w o=\"22\">a</w><n> </n><w o=\"24\">blur</w><n>,</n><n> </n><w o=\"30\">quite</w><n> </n><w o=\"36\">out</w><n> </n><w o=\"40\">of</w><n> </n><w o=\"43\">the</w><n> </n><w o=\"47\">lamp\\'s</w><n> </n><w o=\"54\">usual</w><n> </n><w o=\"60\">place</w><n> </n><w o=\"66\">apparently</w><n>,</n><n> </n><w o=\"78\">and</w><n> </n><w o=\"82\">its</w><n> </n><w o=\"86\">rays</w><n> </n><w o=\"91\">looked</w><n> </n><w o=\"98\">solid</w><n> </n><w o=\"104\">substance</w><n> </n><w o=\"114\">on</w><n> </n><w o=\"117\">the</w><n> </n><w o=\"121\">fog</w><n>.</n></toks></s><s sid=\"196\" id=\"GE.c15.s196\" eid=\"458\"><txt>We were noticing this, and saying how that the mist rose with a change of wind from a certain quarter of our marshes, when we came upon a man, slouching under the lee of the turnpike house.</txt><toks><w o=\"0\">We</w><n> </n><w o=\"3\">were</w><n> </n><w o=\"8\">noticing</w><n> </n><w o=\"17\">this</w><n>,</n><n> </n><w o=\"23\">and</w><n> </n><w o=\"27\">saying</w><n> </n><w o=\"34\">how</w><n> </n><w o=\"38\">that</w><n> </n><w o=\"43\">the</w><n> </n><w o=\"47\">mist</w><n> </n><w o=\"52\">rose</w><n> </n><w o=\"57\">with</w><n> </n><w o=\"62\">a</w><n> </n><w o=\"64\">change</w><n> </n><w o=\"71\">of</w><n> </n><w o=\"74\">wind</w><n> </n><w o=\"79\">from</w><n> </n><w o=\"84\">a</w><n> </n><w o=\"86\">certain</w><n> </n><w o=\"94\">quarter</w><n> </n><w o=\"102\">of</w><n> </n><w o=\"105\">our</w><n> </n><w o=\"109\">marshes</w><n>,</n><n> </n><w o=\"118\">when</w><n> </n><w o=\"123\">we</w><n> </n><w o=\"126\">c\"\"\""
   ]
  },
  {
   "cell_type": "code",
   "execution_count": 10,
   "metadata": {
    "collapsed": false
   },
   "outputs": [
    {
     "name": "stdout",
     "output_type": "stream",
     "text": [
      "w o=\"94\">home</w><n>.</n></toks></s><s sid=\"194\" id=\"GE.c15.s194\" eid=\"456\"><txt>Beyond town, we found a heavy mist out, and it fell wet and thick.</txt><toks><w o=\"0\">Beyond</w><n> </n><w o=\"7\">town</w><n>,</n><n> </n><w o=\"13\">we</w><n> </n><w o=\"16\">found</w><n> </n><w o=\"22\">a</w><n> </n><w o=\"24\">heavy</w><n> </n><w o=\"30\">mist</w><n> </n><w o=\"35\">out</w><n>,</n><n> </n><w o=\"40\">and</w><n> </n><w o=\"44\">it</w><n> </n><w o=\"47\">fell</w><n> </n><w o=\"52\">wet</w><n> </n><w o=\"56\">and</w><n> </n><w o=\"60\">thick</w><n>.</n></toks></s><s sid=\"195\" id=\"GE.c15.s195\" eid=\"457\"><txt>The turnpike lamp was a blur, quite out of the lamp's usual place apparently, and its rays looked solid substance on the fog.</txt><toks><w o=\"0\">The</w><n> </n><w o=\"4\">turnpike</w><n> </n><w o=\"13\">lamp</w><n> </n><w o=\"18\">was</w><n> </n><w o=\"22\">a</w><n> </n><w o=\"24\">blur</w><n>,</n><n> </n><w o=\"30\">quite</w><n> </n><w o=\"36\">out</w><n> </n><w o=\"40\">of</w><n> </n><w o=\"43\">the</w><n> </n><w o=\"47\">lamp's</w><n> </n><w o=\"54\">usual</w><n> </n><w o=\"60\">place</w><n> </n><w o=\"66\">apparently</w><n>,</n><n> </n><w o=\"78\">and</w><n> </n><w o=\"82\">its</w><n> </n><w o=\"86\">rays</w><n> </n><w o=\"91\">looked</w><n> </n><w o=\"98\">solid</w><n> </n><w o=\"104\">substance</w><n> </n><w o=\"114\">on</w><n> </n><w o=\"117\">the</w><n> </n><w o=\"121\">fog</w><n>.</n></toks></s><s sid=\"196\" id=\"GE.c15.s196\" eid=\"458\"><txt>We were noticing this, and saying how that the mist rose with a change of wind from a certain quarter of our marshes, when we came upon a man, slouching under the lee of the turnpike house.</txt><toks><w o=\"0\">We</w><n> </n><w o=\"3\">were</w><n> </n><w o=\"8\">noticing</w><n> </n><w o=\"17\">this</w><n>,</n><n> </n><w o=\"23\">and</w><n> </n><w o=\"27\">saying</w><n> </n><w o=\"34\">how</w><n> </n><w o=\"38\">that</w><n> </n><w o=\"43\">the</w><n> </n><w o=\"47\">mist</w><n> </n><w o=\"52\">rose</w><n> </n><w o=\"57\">with</w><n> </n><w o=\"62\">a</w><n> </n><w o=\"64\">change</w><n> </n><w o=\"71\">of</w><n> </n><w o=\"74\">wind</w><n> </n><w o=\"79\">from</w><n> </n><w o=\"84\">a</w><n> </n><w o=\"86\">certain</w><n> </n><w o=\"94\">quarter</w><n> </n><w o=\"102\">of</w><n> </n><w o=\"105\">our</w><n> </n><w o=\"109\">marshes</w><n>,</n><n> </n><w o=\"118\">when</w><n> </n><w o=\"123\">we</w><n> </n><w o=\"126\">c\n"
     ]
    }
   ],
   "source": [
    "print snippet"
   ]
  },
  {
   "cell_type": "code",
   "execution_count": 11,
   "metadata": {
    "collapsed": true
   },
   "outputs": [],
   "source": [
    "# idea: use a tokenmerger?"
   ]
  },
  {
   "cell_type": "code",
   "execution_count": 12,
   "metadata": {
    "collapsed": false,
    "scrolled": true
   },
   "outputs": [
    {
     "data": {
      "text/plain": [
       "'<div id=\"GE.15\" book=\"GE\" type=\"chapter\" num=\"15\">\\n<title>Chapter 15</title>\\n\\n<p pid=\"1\" id=\"GE.c15.p1\" eid=\"1\"><s sid=\"1\" id=\"GE.c15.s1\" eid=\"2\"><txt>As I was getting too big for Mr. Wopsle\\'s great-aunt\\'s room, my education under that preposterous female terminated.</txt><toks><w o=\"0\">As</w><n> </n><w o=\"3\">I</w><n> </n><w o=\"5\">was</w><n> </n><w o=\"9\">getting</w><n> </n><w o=\"17\">too</w><n> </n><w o=\"21\">big</w><n> </n><w o=\"25\">for</w><n> </n><w o=\"29\">Mr</w><n>.</n><n> </n><w o=\"33\">Wopsle\\'s</w><n> </n><w o=\"42\">great-aunt\\'s</w><n> </n><w o=\"55\">room</w><n>,</n><n> </n><w o=\"61\">my</w><n> </n><w o=\"64\">education</w><n> </n><w o=\"74\">under</w><n> </n><w o=\"80\">that</w><n> </n><w o=\"85\">preposterous</w><n> </n><w o=\"98\">female</w><n> </n><w o=\"105\">terminated</w><n>.</n></toks></s><s sid=\"2\" id=\"GE.c15.s2\" eid=\"3\"><txt>Not, however, until Biddy had imparted to me everything she knew, from the little catalogue of prices, to a comic song she had once bought for a halfpenny.</txt><toks><w o=\"0\">Not</w><n>,</n><n> </n><w o=\"5\">however</w><n>,</n><n> </n><w o=\"14\">until</w><n> </n><w o=\"20\">Biddy</w><n> </n><w o=\"26\">had</w><n> </n><w o=\"30\">imparted</w><n> </n><w o=\"39\">to</w><n> </n><w o=\"42\">me</w><n> </n><w o=\"45\">everything</w><n> </n><w o=\"56\">she</w><n> </n><w o=\"60\">knew</w><n>,</n><n> </n><w o=\"66\">from</w><n> </n><w o=\"71\">the</w><n> </n><w o=\"75\">little</w><n> </n><w o=\"82\">catalogue</w><n> </n><w o=\"92\">of</w><n> </n><w o=\"95\">prices</w><n>,</n><n> </n><w o=\"103\">to</w><n> </n><w o=\"106\">a</w><n> </n><w o=\"108\">comic</w><n> </n><w o=\"114\">song</w><n> </n><w o=\"119\">she</w><n> </n><w o=\"123\">had</w><n> </n><w o=\"127\">once</w><n> </n><w o=\"132\">bought</w><n> </n><w o=\"139\">for</w><n> </n><w o=\"143\">a</w><n> </n><w o=\"145\">halfpenny</w><n>.</n></toks></s><s sid=\"3\" id=\"GE.c15.s3\" eid=\"4\"><txt>Although the only coherent part of the latter piece of literature were the opening lines,</txt><toks><w o=\"0\">Although</w><n> </n><w o=\"9\">the</w><n> </n><w o=\"13\">only</w><n> </n><w o=\"18\">coherent</w><n> </n><w o=\"27\">part</w><n> </n><w o=\"32\">of</w><n> </n><w o=\"35\">the</w><n> </n><w o=\"39\">latter</w><n> </n><w o=\"46\">piece</w><n> </n><w o=\"52\">of</w><n> </n><w o=\"55\">literature</w><n> </n><w o=\"66\">were</w><n> </n><w o=\"71\">the</w><n> </n><w o=\"75\">opening</w><n> </n><w o=\"83\">lines</w><n>,</n></toks></s></p>\\n\\n<p pid=\"2\" id=\"GE.c15.p2\" eid=\"5\"><s sid=\"4\" id=\"GE.c15.s4\" eid=\"6\"><txt>When I went to Lunnon town sirs, Too rul loo rul Too rul loo rul Wasn\\'t I done very brown sirs?</txt><toks><w o=\"0\">When</w><n> </n><w o=\"5\">I</w><n> </n><w o=\"7\">went</w><n> </n><w o=\"12\">to</w><n> </n><w o=\"15\">Lunnon</w><n> </n><w o=\"22\">town</w><n> </n><w o=\"27\">sirs</w><n>,</n><n> </n><w o=\"33\">Too</w><n> </n><w o=\"37\">rul</w><n> </n><w o=\"41\">loo</w><n> </n><w o=\"45\">rul</w><n> </n><w o=\"49\">Too</w><n> </n><w o=\"53\">rul</w><n> </n><w o=\"57\">loo</w><n> </n><w o=\"61\">rul</w><n> </n><w o=\"65\">Wasn\\'t</w><n> </n><w o=\"72\">I</w><n> </n><w o=\"74\">done</w><n> </n><w o=\"79\">very</w><n> </n><w o=\"84\">brown</w><n> </n><w o=\"90\">sirs</w><n>?</n></toks></s><s sid=\"5\" id=\"GE.c15.s5\" eid=\"7\"><txt>Too rul loo rul Too rul loo rul</txt><toks><w o=\"0\">Too</w><n> </n><w o=\"4\">rul</w><n> </n><w o=\"8\">loo</w><n> </n><w o=\"12\">rul</w><n> </n><w o=\"16\">Too</w><n> </n><w o=\"20\">rul</w><n> </n><w o=\"24\">loo</w><n> </n><w o=\"28\">rul</w></toks></s></p>\\n\\n<p pid=\"3\" id=\"GE.c15.p3\" eid=\"8\"><s sid=\"6\" id=\"GE.c15.s6\" eid=\"9\"><txt>- still, in my desire to be wiser, I got this composition by heart with the utmost gravity; nor do I recollect that I questioned its merit, except that I thought (as I still do) the amount of Too rul somewhat in excess of the poetry.</txt><toks><n>-</n><n> </n><w o=\"2\">still</w><n>,</n><n> </n><w o=\"9\">in</w><n> </n><w o=\"12\">my</w><n> </n><w o=\"15\">desire</w><n> </n><w o=\"22\">to</w><n> </n><w o=\"25\">be</w><n> </n><w o=\"28\">wiser</w><n>,</n><n> </n><w o=\"35\">I</w><n> </n><w o=\"37\">got</w><n> </n><w o=\"41\">this</w><n> </n><w o=\"46\">composition</w><n> </n><w o=\"58\">by</w><n> </n><w o=\"61\">heart</w><n> </n><w o=\"67\">with</w><n> </n><w o=\"72\">the</w><n> </n><w o=\"76\">utmost</w><n> </n><w o=\"83\">gravity</w><n>;</n><n> </n><w o=\"92\">nor</w><n> </n><w o=\"96\">do</w><n> </n><w o=\"99\">I</w><n> </n><w o=\"101\">recollect</w><n> </n><w o=\"111\">that</w><n> </n><w o=\"116\">I</w><n> </n><w o=\"118\">questioned</w><n> </n><w o=\"129\">its</w><n> </n><w o=\"133\">merit</w><n>,</n><n> </n><w o=\"140\">except</w><n> </n><w o=\"147\">that</w><n> </n><w o=\"152\">I</w><n> </n><w o=\"154\">thought</w><n> </n><n>(</n><w o=\"163\">as</w><n> </n><w o=\"166\">I</w><n> </n><w o=\"168\">still</w><n> </n><w o=\"174\">do</w><n>)</n><n> </n><w o=\"178\">the</w><n> </n><w o=\"182\">amount</w><n> </n><w o=\"189\">of</w><n> </n><w o=\"192\">Too</w><n> </n><w o=\"196\">rul</w><n> </n><w o=\"200\">somewhat</w><n> </n><w o=\"209\">in</w><n> </n><w o=\"212\">excess</w><n> </n><w o=\"219\">of</w><n> </n><w o=\"222\">the</w><n> </n><w o=\"226\">poetry</w><n>.</n></toks></s><s sid=\"7\" id=\"GE.c15.s7\" eid=\"10\"><txt>In my hunger for information, I made proposals to Mr. Wopsle to bestow some intellectual crumbs upon me; with which he kindly complied.</txt><toks><w o=\"0\">In</w><n> </n><w o=\"3\">my</w><n> </n><w o=\"6\">hunger</w><n> </n><w o=\"13\">for</w><n> </n><w o=\"17\">information</w><n>,</n><n> </n><w o=\"30\">I</w><n> </n><w o=\"32\">made</w><n> </n><w o=\"37\">proposals</w><n> </n><w o=\"47\">to</w><n> </n><w o=\"50\">Mr</w><n>.</n><n> </n><w o=\"54\">Wopsle</w><n> </n><w o=\"61\">to</w><n> </n><w o=\"64\">bestow</w><n> </n><w o=\"71\">some</w><n> </n><w o=\"76\">intellectual</w><n> </n><w o=\"89\">crumbs</w><n> </n><w o=\"96\">upon</w><n> </n><w o=\"101\">me</w><n>;</n><n> </n><w o=\"105\">with</w><n> </n><w o=\"110\">which</w><n> </n><w o=\"116\">he</w><n> </n><w o=\"119\">kindly</w><n> </n><w o=\"126\">complied</w><n>.</n></toks></s><s sid=\"8\" id=\"GE.c15.s8\" eid=\"11\"><txt>As it turned out, however, that he only wanted me for a dramatic lay-figure, to be contradicted and embraced and wept over and bullied and clutched and stabbed and knocked about in a variety of ways, I soon declined that course of instruction; though not until Mr. Wopsle in his poetic fury had severely mauled me.</txt><toks><w o=\"0\">As</w><n> </n><w o=\"3\">it</w><n> </n><w o=\"6\">turned</w><n> </n><w o=\"13\">out</w><n>,</n><n> </n><w o=\"18\">however</w><n>,</n><n> </n><w o=\"27\">that</w><n> </n><w o=\"32\">he</w><n> </n><w o=\"35\">only</w><n> </n><w o=\"40\">wanted</w><n> </n><w o=\"47\">me</w><n> </n><w o=\"50\">for</w><n> </n><w o=\"54\">a</w><n> </n><w o=\"56\">dramatic</w><n> </n><w o=\"65\">lay-figure</w><n>,</n><n> </n><w o=\"77\">to</w><n> </n><w o=\"80\">be</w><n> </n><w o=\"83\">contradicted</w><n> </n><w o=\"96\">and</w><n> </n><w o=\"100\">embraced</w><n> </n><w o=\"109\">and</w><n> </n><w o=\"113\">wept</w><n> </n><w o=\"118\">over</w><n> </n><w o=\"123\">and</w><n> </n><w o=\"127\">bullied</w><n> </n><w o=\"135\">and</w><n> </n><w o=\"139\">clutched</w><n> </n><w o=\"148\">and</w><n> </n><w o=\"152\">stabbed</w><n> </n><w o=\"160\">and</w><n> </n><w o=\"164\">knocked</w><n> </n><w o=\"172\">about</w><n> </n><w o=\"178\">in</w><n> </n><w o=\"181\">a</w><n> </n><w o=\"183\">variety</w><n> </n><w o=\"191\">of</w><n> </n><w o=\"194\">ways</w><n>,</n><n> </n><w o=\"200\">I</w><n> </n><w o=\"202\">soon</w><n> </n><w o=\"207\">declined</w><n> </n><w o=\"216\">that</w><n> </n><w o=\"221\">course</w><n> </n><w o=\"228\">of</w><n> </n><w o=\"231\">instruction</w><n>;</n><n> </n><w o=\"244\">though</w><n> </n><w o=\"251\">not</w><n> </n><w o=\"255\">until</w><n> </n><w o=\"261\">Mr</w><n>.</n><n> </n><w o=\"265\">Wopsle</w><n> </n><w o=\"272\">in</w><n> </n><w o=\"275\">his</w><n> </n><w o=\"279\">poetic</w><n> </n><w o=\"286\">fury</w><n> </n><w o=\"291\">had</w><n> </n><w o=\"295\">severely</w><n> </n><w o=\"304\">mauled</w><n> </n><w o=\"311\">me</w><n>.</n></toks></s></p>\\n\\n<p pid=\"4\" id=\"GE.c15.p4\" eid=\"12\"><s sid=\"9\" id=\"GE.c15.s9\" eid=\"13\"><txt>Whatever I acquired, I tried to impart to Joe.</txt><toks><w o=\"0\">Whatever</w><n> </n><w o=\"9\">I</w><n> </n><w o=\"11\">acquired</w><n>,</n><n> </n><w o=\"21\">I</w><n> </n><w o=\"23\">tried</w><n> </n><w o=\"29\">to</w><n> </n><w o=\"32\">impart</w><n> </n><w o=\"39\">to</w><n> </n><w o=\"42\">Joe</w><n>.</n></toks></s><s sid=\"10\" id=\"GE.c15.s10\" eid=\"14\"><txt>This statement sounds so well, that I cannot in my conscience let it pass unexplained.</txt><toks><w o=\"0\">This</w><n> </n><w o=\"5\">statement</w><n> </n><w o=\"15\">sounds</w><n> </n><w o=\"22\">so</w><n> </n><w o=\"25\">well</w><n>,</n><n> </n><w o=\"31\">that</w><n> </n><w o=\"36\">I</w><n> </n><w o=\"38\">cannot</w><n> </n><w o=\"45\">in</w><n> </n><w o=\"48\">my</w><n> </n><w o=\"51\">conscience</w><n> </n><w o=\"62\">let</w><n> </n><w o=\"66\">it</w><n> </n><w o=\"69\">pass</w><n> </n><w o=\"74\">unexplained</w><n>.</n></toks></s><s sid=\"11\" id=\"GE.c15.s11\" eid=\"15\"><txt>I wanted to make Joe less ignorant and common, that he might be worthier of my society and less open to Estella\\'s reproach.</txt><toks><w o=\"0\">I</w><n> </n><w o=\"2\">wanted</w><n> </n><w o=\"9\">to</w><n> </n><w o=\"12\">make</w><n> </n><w o=\"17\">Joe</w><n> </n><w o=\"21\">less</w><n> </n><w o=\"26\">ignorant</w><n> </n><w o=\"35\">and</w><n> </n><w o=\"39\">common</w><n>,</n><n> </n><w o=\"47\">that</w><n> </n><w o=\"52\">he</w><n> </n><w o=\"55\">might</w><n> </n><w o=\"61\">be</w><n> </n><w o=\"64\">worthier</w><n> </n><w o=\"73\">of</w><n> </n><w o=\"76\">my</w><n> </n><w o=\"79\">society</w><n> </n><w o=\"87\">and</w><n> </n><w o=\"91\">less</w><n> </n><w o=\"96\">open</w><n> </n><w o=\"101\">to</w><n> </n><w o=\"104\">Estella\\'s</w><n> </n><w o=\"114\">reproach</w><n>.</n></toks></s></p>\\n\\n<p pid=\"5\" id=\"GE.c15.p5\" eid=\"16\"><s sid=\"12\" id=\"GE.c15.s12\" eid=\"17\"><txt>The old Battery out on the marshes was our place of study, and a broken slate and a short piece of slate pencil were our educational implements: to which Joe always added a pipe of tobacco.</txt><toks><w o=\"0\">The</w><n> </n><w o=\"4\">old</w><n> </n><w o=\"8\">Battery</w><n> </n><w o=\"16\">out</w><n> </n><w o=\"20\">on</w><n> </n><w o=\"23\">the</w><n> </n><w o=\"27\">marshes</w><n> </n><w o=\"35\">was</w><n> </n><w o=\"39\">our</w><n> </n><w o=\"43\">place</w><n> </n><w o=\"49\">of</w><n> </n><w o=\"52\">study</w><n>,</n><n> </n><w o=\"59\">and</w><n> </n><w o=\"63\">a</w><n> </n><w o=\"65\">broken</w><n> </n><w o=\"72\">slate</w><n> </n><w o=\"78\">and</w><n> </n><w o=\"82\">a</w><n> </n><w o=\"84\">short</w><n> </n><w o=\"90\">piece</w><n> </n><w o=\"96\">of</w><n> </n><w o=\"99\">slate</w><n> </n><w o=\"105\">pencil</w><n> </n><w o=\"112\">were</w><n> </n><w o=\"117\">our</w><n> </n><w o=\"121\">educational</w><n> </n><w o=\"133\">implements</w><n>:</n><n> </n><w o=\"145\">to</w><n> </n><w o=\"148\">which</w><n> </n><w o=\"154\">Joe</w><n> </n><w o=\"158\">always</w><n> </n><w o=\"165\">added</w><n> </n><w o=\"171\">a</w><n> </n><w o=\"173\">pipe</w><n> </n><w o=\"178\">of</w><n> </n><w o=\"181\">tobacco</w><n>.</n></toks></s><s sid=\"13\" id=\"GE.c15.s13\" eid=\"18\"><txt>I never knew Joe to remember anything from one Sunday to another, or to acquire, under my tuition, any piece of information whatever.</txt><toks><w o=\"0\">I</w><n> </n><w o=\"2\">never</w><n> </n><w o=\"8\">knew</w><n> </n><w o=\"13\">Joe</w><n> </n><w o=\"17\">to</w><n> </n><w o=\"20\">remember</w><n> </n><w o=\"29\">anything</w><n> </n><w o=\"38\">from</w><n> </n><w o=\"43\">one</w><n> </n><w o=\"47\">Sunday</w><n> </n><w o=\"54\">to</w><n> </n><w o=\"57\">another</w><n>,</n><n> </n><w o=\"66\">or</w><n> </n><w o=\"69\">to</w><n> </n><w o=\"72\">acquire</w><n>,</n><n> </n><w o=\"81\">under</w><n> </n><w o=\"87\">my</w><n> </n><w o=\"90\">tuition</w><n>,</n><n> </n><w o=\"99\">any</w><n> </n><w o=\"103\">piece</w><n> </n><w o=\"109\">of</w><n> </n><w o=\"112\">information</w><n> </n><w o=\"124\">whatever</w><n>.</n></toks></s><s sid=\"14\" id=\"GE.c15.s14\" eid=\"19\"><txt>Yet he would smoke his pipe at the Battery with a far more sagacious air than anywhere else - even with a learned air - as if he considered himself to be advancing immensely.</txt><toks><w o=\"0\">Yet</w><n> </n><w o=\"4\">he</w><n> </n><w o=\"7\">would</w><n> </n><w o=\"13\">smoke</w><n> </n><w o=\"19\">his</w><n> </n><w o=\"23\">pipe</w><n> </n><w o=\"28\">at</w><n> </n><w o=\"31\">the</w><n> </n><w o=\"35\">Battery</w><n> </n><w o=\"43\">with</w><n> </n><w o=\"48\">a</w><n> </n><w o=\"50\">far</w><n> </n><w o=\"54\">more</w><n> </n><w o=\"59\">sagacious</w><n> </n><w o=\"69\">air</w><n> </n><w o=\"73\">than</w><n> </n><w o=\"78\">anywhere</w><n> </n><w o=\"87\">else</w><n> </n><n>-</n><n> </n><w o=\"94\">even</w><n> </n><w o=\"99\">with</w><n> </n><w o=\"104\">a</w><n> </n><w o=\"106\">learned</w><n> </n><w o=\"114\">air</w><n> </n><n>-</n><n> </n><w o=\"120\">as</w><n> </n><w o=\"123\">if</w><n> </n><w o=\"126\">he</w><n> </n><w o=\"129\">considered</w><n> </n><w o=\"140\">himself</w><n> </n><w o=\"148\">to</w><n> </n><w o=\"151\">be</w><n> </n><w o=\"154\">advancing</w><n> </n><w o=\"164\">immensely</w><n>.</n></toks></s><s sid=\"15\" id=\"GE.c15.s15\" eid=\"20\"><txt>Dear fellow, I hope he did.</txt><toks><w o=\"0\">Dear</w><n> </n><w o=\"5\">fellow</w><n>,</n><n> </n><w o=\"13\">I</w><n> </n><w o=\"15\">hope</w><n> </n><w o=\"20\">he</w><n> </n><w o=\"23\">did</w><n>.</n></toks></s></p>\\n\\n<p pid=\"6\" id=\"GE.c15.p6\" eid=\"21\"><s sid=\"16\" id=\"GE.c15.s16\" eid=\"22\"><txt>It was pleasant and quiet, out there with the sails on the river passing beyond the earthwork, and sometimes, when the tide was low, looking as if they belonged to sunken ships that were still sailing on at the bottom of the water.</txt><toks><w o=\"0\">It</w><n> </n><w o=\"3\">was</w><n> </n><w o=\"7\">pleasant</w><n> </n><w o=\"16\">and</w><n> </n><w o=\"20\">quiet</w><n>,</n><n> </n><w o=\"27\">out</w><n> </n><w o=\"31\">there</w><n> </n><w o=\"37\">with</w><n> </n><w o=\"42\">the</w><n> </n><w o=\"46\">sails</w><n> </n><w o=\"52\">on</w><n> </n><w o=\"55\">the</w><n> </n><w o=\"59\">river</w><n> </n><w o=\"65\">passing</w><n> </n><w o=\"73\">beyond</w><n> </n><w o=\"80\">the</w><n> </n><w o=\"84\">earthwork</w><n>,</n><n> </n><w o=\"95\">and</w><n> </n><w o=\"99\">sometimes</w><n>,</n><n> </n><w o=\"110\">when</w><n> </n><w o=\"115\">the</w><n> </n><w o=\"119\">tide</w><n> </n><w o=\"124\">was</w><n> </n><w o=\"128\">low</w><n>,</n><n> </n><w o=\"133\">looking</w><n> </n><w o=\"141\">as</w><n> </n><w o=\"144\">if</w><n> </n><w o=\"147\">they</w><n> </n><w o=\"152\">belonged</w><n> </n><w o=\"161\">to</w><n> </n><w o=\"164\">sunken</w><n> </n><w o=\"171\">ships</w><n> </n><w o=\"177\">that</w><n> </n><w o=\"182\">were</w><n> </n><w o=\"187\">still</w><n> </n><w o=\"193\">sailing</w><n> </n><w o=\"201\">on</w><n> </n><w o=\"204\">at</w><n> </n><w o=\"207\">the</w><n> </n><w o=\"211\">bottom</w><n> </n><w o=\"218\">of</w><n> </n><w o=\"221\">the</w><n> </n><w o=\"225\">water</w><n>.</n></toks></s><s sid=\"17\" id=\"GE.c15.s17\" eid=\"23\"><txt>Whenever I watched the vessels standing out to sea with their white sails spread, I somehow thought of Miss Havisham and Estella; and whenever the light struck aslant, afar off, upon a cloud or sail or green hill-side or water-line, it was just the same.</txt><toks><w o=\"0\">Whenever</w><n> </n><w o=\"9\">I</w><n> </n><w o=\"11\">watched</w><n> </n><w o=\"19\">the</w><n> </n><w o=\"23\">vessels</w><n> </n><w o=\"31\">standing</w><n> </n><w o=\"40\">out</w><n> </n><w o=\"44\">to</w><n> </n><w o=\"47\">sea</w><n> </n><w o=\"51\">with</w><n> </n><w o=\"56\">their</w><n> </n><w o=\"62\">white</w><n> </n><w o=\"68\">sails</w><n> </n><w o=\"74\">spread</w><n>,</n><n> </n><w o=\"82\">I</w><n> </n><w o=\"84\">somehow</w><n> </n><w o=\"92\">thought</w><n> </n><w o=\"100\">of</w><n> </n><w o=\"103\">Miss</w><n> </n><w o=\"108\">Havisham</w><n> </n><w o=\"117\">and</w><n> </n><w o=\"121\">Estella</w><n>;</n><n> </n><w o=\"130\">and</w><n> </n><w o=\"134\">whenever</w><n> </n><w o=\"143\">the</w><n> </n><w o=\"147\">light</w><n> </n><w o=\"153\">struck</w><n> </n><w o=\"160\">aslant</w><n>,</n><n> </n><w o=\"168\">afar</w><n> </n><w o=\"173\">off</w><n>,</n><n> </n><w o=\"178\">upon</w><n> </n><w o=\"183\">a</w><n> </n><w o=\"185\">cloud</w><n> </n><w o=\"191\">or</w><n> </n><w o=\"194\">sail</w><n> </n><w o=\"199\">or</w><n> </n><w o=\"202\">green</w><n> </n><w o=\"208\">hill-side</w><n> </n><w o=\"218\">or</w><n> </n><w o=\"221\">water-line</w><n>,</n><n> </n><w o=\"233\">it</w><n> </n><w o=\"236\">was</w><n> </n><w o=\"240\">just</w><n> </n><w o=\"245\">the</w><n> </n><w o=\"249\">same</w><n>.</n></toks></s><s sid=\"18\" id=\"GE.c15.s18\" eid=\"24\"><txt>- Miss Havisham and Estella and the strange house and the strange life appeared to have something to do with everything that was picturesque.</txt><toks><n>-</n><n> </n><w o=\"2\">Miss</w><n> </n><w o=\"7\">Havisham</w><n> </n><w o=\"16\">and</w><n> </n><w o=\"20\">Estella</w><n> </n><w o=\"28\">and</w><n> </n><w o=\"32\">the</w><n> </n><w o=\"36\">strange</w><n> </n><w o=\"44\">house</w><n> </n><w o=\"50\">and</w><n> </n><w o=\"54\">the</w><n> </n><w o=\"58\">strange</w><n> </n><w o=\"66\">life</w><n> </n><w o=\"71\">appeared</w><n> </n><w o=\"80\">to</w><n> </n><w o=\"83\">have</w><n> </n><w o=\"88\">something</w><n> </n><w o=\"98\">to</w><n> </n><w o=\"101\">do</w><n> </n><w o=\"104\">with</w><n> </n><w o=\"109\">everything</w><n> </n><w o=\"120\">that</w><n> </n><w o=\"125\">was</w><n> </n><w o=\"129\">picturesque</w><n>.</n></toks></s></p>\\n\\n<p pid=\"7\" id=\"GE.c15.p7\" type=\"speech\" eid=\"25\"><s sid=\"19\" id=\"GE.c15.s19\" eid=\"26\"><txt>One Sunday when Joe, greatly enjoying his pipe, had so plumed himself on being \"most awful dull,\" that I had given him up for the day, I lay on the earthwork for some time with my chin on my hand, descrying traces of Miss Havisham and Estella all over the prospect, in the sky and in the water, until at last I resolved to mention a thought concerning them that had been much in my head.</txt><toks><w o=\"0\">One</w><n> </n><w o=\"4\">Sunday</w><n> </n><w o=\"11\">when</w><n> </n><w o=\"16\">Joe</w><n>,</n><n> </n><w o=\"21\">greatly</w><n> </n><w o=\"29\">enjoying</w><n> </n><w o=\"38\">his</w><n> </n><w o=\"42\">pipe</w><n>,</n><n> </n><w o=\"48\">had</w><n> </n><w o=\"52\">so</w><n> </n><w o=\"55\">plumed</w><n> </n><w o=\"62\">himself</w><n> </n><w o=\"70\">on</w><n> </n><w o=\"73\">being</w><qs eid=\"27\" offset=\"2670\" wordOffset=\"483\"/><n> </n><n>\"</n><w o=\"80\">most</w><n> </n><w o=\"85\">awful</w><n> </n><w o=\"91\">dull</w><qe eid=\"28\" offset=\"2688\" wordOffset=\"486\"/><n>,\"</n><n> </n><w o=\"98\">that</w><n> </n><w o=\"103\">I</w><n> </n><w o=\"105\">had</w><n> </n><w o=\"109\">given</w><n> </n><w o=\"115\">him</w><n> </n><w o=\"119\">up</w><n> </n><w o=\"122\">for</w><n> </n><w o=\"126\">the</w><n> </n><w o=\"130\">day</w><n>,</n><n> </n><w o=\"135\">I</w><n> </n><w o=\"137\">lay</w><n> </n><w o=\"141\">on</w><n> </n><w o=\"144\">the</w><n> </n><w o=\"148\">earthwork</w><n> </n><w o=\"158\">for</w><n> </n><w o=\"162\">some</w><n> </n><w o=\"167\">time</w><n> </n><w o=\"172\">with</w><n> </n><w o=\"177\">my</w><n> </n><w o=\"180\">chin</w><n> </n><w o=\"185\">on</w><n> </n><w o=\"188\">my</w><n> </n><w o=\"191\">hand</w><n>,</n><n> </n><w o=\"197\">descrying</w><n> </n><w o=\"207\">traces</w><n> </n><w o=\"214\">of</w><n> </n><w o=\"217\">Miss</w><n> </n><w o=\"222\">Havisham</w><n> </n><w o=\"231\">and</w><n> </n><w o=\"235\">Estella</w><n> </n><w o=\"243\">all</w><n> </n><w o=\"247\">over</w><n> </n><w o=\"252\">the</w><n> </n><w o=\"256\">prospect</w><n>,</n><n> </n><w o=\"266\">in</w><n> </n><w o=\"269\">the</w><n> </n><w o=\"273\">sky</w><n> </n><w o=\"277\">and</w><n> </n><w o=\"281\">in</w><n> </n><w o=\"284\">the</w><n> </n><w o=\"288\">water</w><n>,</n><n> </n><w o=\"295\">until</w><n> </n><w o=\"301\">at</w><n> </n><w o=\"304\">last</w><n> </n><w o=\"309\">I</w><n> </n><w o=\"311\">resolved</w><n> </n><w o=\"320\">to</w><n> </n><w o=\"323\">mention</w><n> </n><w o=\"331\">a</w><n> </n><w o=\"333\">thought</w><n> </n><w o=\"341\">concerning</w><n> </n><w o=\"352\">them</w><n> </n><w o=\"357\">that</w><n> </n><w o=\"362\">had</w><n> </n><w o=\"366\">been</w><n> </n><w o=\"371\">much</w><n> </n><w o=\"376\">in</w><n> </n><w o=\"379\">my</w><n> </n><w o=\"382\">head</w><n>.</n></toks></s></p><p pid=\"8\" id=\"GE.c15.p8\" type=\"speech\" eid=\"29\"><s sid=\"20\" id=\"GE.c15.s20\" eid=\"30\"><txt>\"Joe,\" said I; \"don\\'t you think I ought to make Miss Havisham a visit?\"</txt><toks><qs eid=\"31\" offset=\"2979\" wordOffset=\"545\"/><n>\"</n><w o=\"1\">Joe</w><qe eid=\"32\" offset=\"2985\" wordOffset=\"546\"/><sss eid=\"33\" offset=\"2985\" wordOffset=\"546\"/><n>,\"</n><n> </n><w o=\"7\">said</w><n> </n><w o=\"12\">I</w><sse eid=\"34\" offset=\"2994\" wordOffset=\"548\"/><qs eid=\"35\" offset=\"2994\" wordOffset=\"548\"/><n>;</n><n> </n><n>\"</n><w o=\"16\">don\\'t</w><n> </n><w o=\"22\">you</w><n> </n><w o=\"26\">think</w><n> </n><w o=\"32\">I</w><n> </n><w o=\"34\">ought</w><n> </n><w o=\"40\">to</w><n> </n><w o=\"43\">make</w><n> </n><w o=\"48\">Miss</w><n> </n><w o=\"53\">Havisham</w><n> </n><w o=\"62\">a</w><n> </n><w o=\"64\">visit</w><n>?\"</n></toks></s></p><p pid=\"9\" id=\"GE.c15.p9\" type=\"speech\" eid=\"37\"><s sid=\"21\" id=\"GE.c15.s21\" eid=\"38\"><txt>\"Well, Pip,\" returned Joe, slowly considering.</txt><toks><qe eid=\"36\" wordOffset=\"559\" offset=\"3051\"/><qs eid=\"39\" offset=\"3051\" wordOffset=\"559\"/><n>\"</n><w o=\"1\">Well</w><n>,</n><n> </n><w o=\"7\">Pip</w><qe eid=\"40\" offset=\"3063\" wordOffset=\"561\"/><n>,\"</n><n> </n><w o=\"13\">returned</w><n> </n><w o=\"22\">Joe</w><n>,</n><n> </n><w o=\"27\">slowly</w><n> </n><w o=\"34\">considering</w><n>.</n></toks></s><s sid=\"22\" id=\"GE.c15.s22\" eid=\"41\"><txt>\"What for?\"</txt><toks><qs eid=\"42\" offset=\"3098\" wordOffset=\"565\"/><n>\"</n><w o=\"1\">What</w><n> </n><w o=\"6\">for</w><n>?\"</n></toks></s></p><p pid=\"10\" id=\"GE.c15.p10\" type=\"speech\" eid=\"44\"><s sid=\"23\" id=\"GE.c15.s23\" eid=\"45\"><txt>\"What for, Joe?</txt><toks><qe eid=\"43\" wordOffset=\"567\" offset=\"3110\"/><qs eid=\"46\" offset=\"3110\" wordOffset=\"567\"/><n>\"</n><w o=\"1\">What</w><n> </n><w o=\"6\">for</w><n>,</n><n> </n><w o=\"11\">Joe</w><n>?</n></toks></s><s sid=\"24\" id=\"GE.c15.s24\" eid=\"47\"><txt>What is any visit made for?\"</txt><toks><w o=\"0\">What</w><n> </n><w o=\"5\">is</w><n> </n><w o=\"8\">any</w><n> </n><w o=\"12\">visit</w><n> </n><w o=\"18\">made</w><n> </n><w o=\"23\">for</w><n>?\"</n></toks></s></p><p pid=\"11\" id=\"GE.c15.p11\" type=\"speech\" eid=\"49\"><s sid=\"25\" id=\"GE.c15.s25\" eid=\"50\"><txt>\"There is some wisits, p\\'r\\'aps,\" said Joe, \"as for ever remains open to the question, Pip.</txt><toks><qe eid=\"48\" wordOffset=\"576\" offset=\"3155\"/><qs eid=\"51\" offset=\"3155\" wordOffset=\"576\"/><n>\"</n><w o=\"1\">There</w><n> </n><w o=\"7\">is</w><n> </n><w o=\"10\">some</w><n> </n><w o=\"15\">wisits</w><n>,</n><n> </n><w o=\"23\">p</w><n>\\'</n><w o=\"25\">r</w><n>\\'</n><w o=\"27\">aps</w><qe eid=\"52\" offset=\"3187\" wordOffset=\"583\"/><sss eid=\"53\" offset=\"3187\" wordOffset=\"583\"/><n>,\"</n><n> </n><w o=\"33\">said</w><n> </n><w o=\"38\">Joe</w><sse eid=\"54\" offset=\"3198\" wordOffset=\"585\"/><qs eid=\"55\" offset=\"3198\" wordOffset=\"585\"/><n>,</n><n> </n><n>\"</n><w o=\"44\">as</w><n> </n><w o=\"47\">for</w><n> </n><w o=\"51\">ever</w><n> </n><w o=\"56\">remains</w><n> </n><w o=\"64\">open</w><n> </n><w o=\"69\">to</w><n> </n><w o=\"72\">the</w><n> </n><w o=\"76\">question</w><n>,</n><n> </n><w o=\"86\">Pip</w><n>.</n></toks></s><s sid=\"26\" id=\"GE.c15.s26\" eid=\"56\"><txt>But in regard to wisiting Miss Havisham.</txt><toks><w o=\"0\">But</w><n> </n><w o=\"4\">in</w><n> </n><w o=\"7\">regard</w><n> </n><w o=\"14\">to</w><n> </n><w o=\"17\">wisiting</w><n> </n><w o=\"26\">Miss</w><n> </n><w o=\"31\">Havisham</w><n>.</n></toks></s><s sid=\"27\" id=\"GE.c15.s27\" eid=\"57\"><txt>She might think you wanted something - expected something of her.\"</txt><toks><w o=\"0\">She</w><n> </n><w o=\"4\">might</w><n> </n><w o=\"10\">think</w><n> </n><w o=\"16\">you</w><n> </n><w o=\"20\">wanted</w><n> </n><w o=\"27\">something</w><n> </n><n>-</n><n> </n><w o=\"39\">expected</w><n> </n><w o=\"48\">something</w><n> </n><w o=\"58\">of</w><n> </n><w o=\"61\">her</w><n>.\"</n></toks></s></p><p pid=\"12\" id=\"GE.c15.p12\" type=\"speech\" eid=\"59\"><s sid=\"28\" id=\"GE.c15.s28\" eid=\"60\"><txt>\"Don\\'t you think I might say that I did not, Joe?\"</txt><toks><qe eid=\"58\" wordOffset=\"611\" offset=\"3354\"/><qs eid=\"61\" offset=\"3354\" wordOffset=\"611\"/><n>\"</n><w o=\"1\">Don\\'t</w><n> </n><w o=\"7\">you</w><n> </n><w o=\"11\">think</w><n> </n><w o=\"17\">I</w><n> </n><w o=\"19\">might</w><n> </n><w o=\"25\">say</w><n> </n><w o=\"29\">that</w><n> </n><w o=\"34\">I</w><n> </n><w o=\"36\">did</w><n> </n><w o=\"40\">not</w><n>,</n><n> </n><w o=\"45\">Joe</w><n>?\"</n></toks></s></p><p pid=\"13\" id=\"GE.c15.p13\" type=\"speech\" eid=\"63\"><s sid=\"29\" id=\"GE.c15.s29\" eid=\"64\"><txt>\"You might, old chap,\" said Joe.</txt><toks><qe eid=\"62\" wordOffset=\"622\" offset=\"3405\"/><qs eid=\"65\" offset=\"3405\" wordOffset=\"622\"/><n>\"</n><w o=\"1\">You</w><n> </n><w o=\"5\">might</w><n>,</n><n> </n><w o=\"12\">old</w><n> </n><w o=\"16\">chap</w><qe eid=\"66\" offset=\"3427\" wordOffset=\"626\"/><n>,\"</n><n> </n><w o=\"23\">said</w><n> </n><w o=\"28\">Joe</w><n>.</n></toks></s><s sid=\"30\" id=\"GE.c15.s30\" eid=\"67\"><txt>\"And she might credit it.</txt><toks><qs eid=\"68\" offset=\"3438\" wordOffset=\"628\"/><n>\"</n><w o=\"1\">And</w><n> </n><w o=\"5\">she</w><n> </n><w o=\"9\">might</w><n> </n><w o=\"15\">credit</w><n> </n><w o=\"22\">it</w><n>.</n></toks></s><s sid=\"31\" id=\"GE.c15.s31\" eid=\"69\"><txt>Similarly she mightn\\'t.\"</txt><toks><w o=\"0\">Similarly</w><n> </n><w o=\"10\">she</w><n> </n><w o=\"14\">mightn\\'t</w><n>.\"</n></toks></s></p><p pid=\"14\" id=\"GE.c15.p14\" eid=\"71\"><s sid=\"32\" id=\"GE.c15.s32\" eid=\"72\"><txt>Joe felt, as I did, that he had made a point there, and he pulled hard at his pipe to keep himself from weakening it by repetition.</txt><toks><qe eid=\"70\" wordOffset=\"636\" offset=\"3488\"/><w o=\"0\">Joe</w><n> </n><w o=\"4\">felt</w><n>,</n><n> </n><w o=\"10\">as</w><n> </n><w o=\"13\">I</w><n> </n><w o=\"15\">did</w><n>,</n><n> </n><w o=\"20\">that</w><n> </n><w o=\"25\">he</w><n> </n><w o=\"28\">had</w><n> </n><w o=\"32\">made</w><n> </n><w o=\"37\">a</w><n> </n><w o=\"39\">point</w><n> </n><w o=\"45\">there</w><n>,</n><n> </n><w o=\"52\">and</w><n> </n><w o=\"56\">he</w><n> </n><w o=\"59\">pulled</w><n> </n><w o=\"66\">hard</w><n> </n><w o=\"71\">at</w><n> </n><w o=\"74\">his</w><n> </n><w o=\"78\">pipe</w><n> </n><w o=\"83\">to</w><n> </n><w o=\"86\">keep</w><n> </n><w o=\"91\">himself</w><n> </n><w o=\"99\">from</w><n> </n><w o=\"104\">weakening</w><n> </n><w o=\"114\">it</w><n> </n><w o=\"117\">by</w><n> </n><w o=\"120\">repetition</w><n>.</n></toks></s></p>\\n\\n<p pid=\"15\" id=\"GE.c15.p15\" type=\"speech\" eid=\"73\"><s sid=\"33\" id=\"GE.c15.s33\" eid=\"74\"><txt>\"You see, Pip,\" Joe pursued, as soon as he was past that danger, \"Miss Havisham done the handsome thing by you.</txt><toks><qs eid=\"75\" offset=\"3621\" wordOffset=\"663\"/><n>\"</n><w o=\"1\">You</w><n> </n><w o=\"5\">see</w><n>,</n><n> </n><w o=\"10\">Pip</w><qe eid=\"76\" offset=\"3636\" wordOffset=\"666\"/><sls eid=\"77\" offset=\"3636\" wordOffset=\"666\"/><n>,\"</n><n> </n><w o=\"16\">Joe</w><n> </n><w o=\"20\">pursued</w><n>,</n><n> </n><w o=\"29\">as</w><n> </n><w o=\"32\">soon</w><n> </n><w o=\"37\">as</w><n> </n><w o=\"40\">he</w><n> </n><w o=\"43\">was</w><n> </n><w o=\"47\">past</w><n> </n><w o=\"52\">that</w><n> </n><w o=\"57\">danger</w><sle eid=\"78\" offset=\"3686\" wordOffset=\"676\"/><qs eid=\"79\" offset=\"3686\" wordOffset=\"676\"/><n>,</n><n> </n><n>\"</n><w o=\"66\">Miss</w><n> </n><w o=\"71\">Havisham</w><n> </n><w o=\"80\">done</w><n> </n><w o=\"85\">the</w><n> </n><w o=\"89\">handsome</w><n> </n><w o=\"98\">thing</w><n> </n><w o=\"104\">by</w><n> </n><w o=\"107\">you</w><n>.</n></toks></s><s sid=\"34\" id=\"GE.c15.s34\" eid=\"80\"><txt>When Miss Havisham done the handsome thing by you, she called me back to say to me as that were all.\"</txt><toks><w o=\"0\">When</w><n> </n><w o=\"5\">Miss</w><n> </n><w o=\"10\">Havisham</w><n> </n><w o=\"19\">done</w><n> </n><w o=\"24\">the</w><n> </n><w o=\"28\">handsome</w><n> </n><w o=\"37\">thing</w><n> </n><w o=\"43\">by</w><n> </n><w o=\"46\">you</w><n>,</n><n> </n><w o=\"51\">she</w><n> </n><w o=\"55\">called</w><n> </n><w o=\"62\">me</w><n> </n><w o=\"65\">back</w><n> </n><w o=\"70\">to</w><n> </n><w o=\"73\">say</w><n> </n><w o=\"77\">to</w><n> </n><w o=\"80\">me</w><n> </n><w o=\"83\">as</w><n> </n><w o=\"86\">that</w><n> </n><w o=\"91\">were</w><n> </n><w o=\"96\">all</w><n>.\"</n></toks></s></p><p pid=\"16\" id=\"GE.c15.p16\" type=\"speech\" eid=\"82\"><s sid=\"35\" id=\"GE.c15.s35\" eid=\"83\"><txt>\"Yes, Joe.</txt><toks><qe eid=\"81\" wordOffset=\"705\" offset=\"3835\"/><qs eid=\"84\" offset=\"3835\" wordOffset=\"705\"/><n>\"</n><w o=\"1\">Yes</w><n>,</n><n> </n><w o=\"6\">Joe</w><n>.</n></toks></s><s sid=\"36\" id=\"GE.c15.s36\" eid=\"85\"><txt>I heard her.\"</txt><toks><w o=\"0\">I</w><n> </n><w o=\"2\">heard</w><n> </n><w o=\"8\">her</w><n>.\"</n></toks></s></p><p pid=\"17\" id=\"GE.c15.p17\" type=\"speech\" eid=\"87\"><s sid=\"37\" id=\"GE.c15.s37\" eid=\"88\"><txt>\"ALL,\" Joe repeated, very emphatically.</txt><toks><qe eid=\"86\" wordOffset=\"710\" offset=\"3860\"/><qs eid=\"89\" offset=\"3860\" wordOffset=\"710\"/><n>\"</n><w o=\"1\">ALL</w><qe eid=\"90\" offset=\"3866\" wordOffset=\"711\"/><n>,\"</n><n> </n><w o=\"7\">Joe</w><n> </n><w o=\"11\">repeated</w><n>,</n><n> </n><w o=\"21\">very</w><n> </n><w o=\"26\">emphatically</w><n>.</n></toks></s></p><p pid=\"18\" id=\"GE.c15.p18\" type=\"speech\" eid=\"91\"><s sid=\"38\" id=\"GE.c15.s38\" eid=\"92\"><txt>\"Yes, Joe.</txt><toks><qs eid=\"93\" offset=\"3900\" wordOffset=\"715\"/><n>\"</n><w o=\"1\">Yes</w><n>,</n><n> </n><w o=\"6\">Joe</w><n>.</n></toks></s><s sid=\"39\" id=\"GE.c15.s39\" eid=\"94\"><txt>I tell you, I heard her.\"</txt><toks><w o=\"0\">I</w><n> </n><w o=\"2\">tell</w><n> </n><w o=\"7\">you</w><n>,</n><n> </n><w o=\"12\">I</w><n> </n><w o=\"14\">heard</w><n> </n><w o=\"20\">her</w><n>.\"</n></toks></s></p><p pid=\"19\" id=\"GE.c15.p19\" type=\"speech\" eid=\"96\"><s sid=\"40\" id=\"GE.c15.s40\" eid=\"97\"><txt>\"Which I meantersay, Pip, it might be that her meaning were - Make a end on it!</txt><toks><qe eid=\"95\" wordOffset=\"723\" offset=\"3937\"/><qs eid=\"98\" offset=\"3937\" wordOffset=\"723\"/><n>\"</n><w o=\"1\">Which</w><n> </n><w o=\"7\">I</w><n> </n><w o=\"9\">meantersay</w><n>,</n><n> </n><w o=\"21\">Pip</w><n>,</n><n> </n><w o=\"26\">it</w><n> </n><w o=\"29\">might</w><n> </n><w o=\"35\">be</w><n> </n><w o=\"38\">that</w><n> </n><w o=\"43\">her</w><n> </n><w o=\"47\">meaning</w><n> </n><w o=\"55\">were</w><n> </n><n>-</n><n> </n><w o=\"62\">Make</w><n> </n><w o=\"67\">a</w><n> </n><w o=\"69\">end</w><n> </n><w o=\"73\">on</w><n> </n><w o=\"76\">it</w><n>!</n></toks></s><s sid=\"41\" id=\"GE.c15.s41\" eid=\"99\"><txt>- As you was!</txt><toks><n>-</n><n> </n><w o=\"2\">As</w><n> </n><w o=\"5\">you</w><n> </n><w o=\"9\">was</w><n>!</n></toks></s><s sid=\"42\" id=\"GE.c15.s42\" eid=\"100\"><txt>- Me to the North, and you to the South!</txt><toks><n>-</n><n> </n><w o=\"2\">Me</w><n> </n><w o=\"5\">to</w><n> </n><w o=\"8\">the</w><n> </n><w o=\"12\">North</w><n>,</n><n> </n><w o=\"19\">and</w><n> </n><w o=\"23\">you</w><n> </n><w o=\"27\">to</w><n> </n><w o=\"30\">the</w><n> </n><w o=\"34\">South</w><n>!</n></toks></s><s sid=\"43\" id=\"GE.c15.s43\" eid=\"101\"><txt>- Keep in sunders!\"</txt><toks><n>-</n><n> </n><w o=\"2\">Keep</w><n> </n><w o=\"7\">in</w><n> </n><w o=\"10\">sunders</w><n>!\"</n></toks></s></p><p pid=\"20\" id=\"GE.c15.p20\" eid=\"103\"><s sid=\"44\" id=\"GE.c15.s44\" eid=\"104\"><txt>I had thought of that too, and it was very far from comforting to me to find that he had thought of it; for it seemed to render it more probable.</txt><toks><qe eid=\"102\" wordOffset=\"754\" offset=\"4091\"/><w o=\"0\">I</w><n> </n><w o=\"2\">had</w><n> </n><w o=\"6\">thought</w><n> </n><w o=\"14\">of</w><n> </n><w o=\"17\">that</w><n> </n><w o=\"22\">too</w><n>,</n><n> </n><w o=\"27\">and</w><n> </n><w o=\"31\">it</w><n> </n><w o=\"34\">was</w><n> </n><w o=\"38\">very</w><n> </n><w o=\"43\">far</w><n> </n><w o=\"47\">from</w><n> </n><w o=\"52\">comforting</w><n> </n><w o=\"63\">to</w><n> </n><w o=\"66\">me</w><n> </n><w o=\"69\">to</w><n> </n><w o=\"72\">find</w><n> </n><w o=\"77\">that</w><n> </n><w o=\"82\">he</w><n> </n><w o=\"85\">had</w><n> </n><w o=\"89\">thought</w><n> </n><w o=\"97\">of</w><n> </n><w o=\"100\">it</w><n>;</n><n> </n><w o=\"104\">for</w><n> </n><w o=\"108\">it</w><n> </n><w o=\"111\">seemed</w><n> </n><w o=\"118\">to</w><n> </n><w o=\"121\">render</w><n> </n><w o=\"128\">it</w><n> </n><w o=\"131\">more</w><n> </n><w o=\"136\">probable</w><n>.</n></toks></s></p>\\n\\n<p pid=\"21\" id=\"GE.c15.p21\" type=\"speech\" eid=\"105\"><s sid=\"45\" id=\"GE.c15.s45\" eid=\"106\"><txt>\"But, Joe.\"</txt><toks><qs eid=\"107\" offset=\"4238\" wordOffset=\"785\"/><n>\"</n><w o=\"1\">But</w><n>,</n><n> </n><w o=\"6\">Joe</w><n>.\"</n></toks></s></p><p pid=\"22\" id=\"GE.c15.p22\" type=\"speech\" eid=\"109\"><s sid=\"46\" id=\"GE.c15.s46\" eid=\"110\"><txt>\"Yes, old chap.\"</txt><toks><qe eid=\"108\" wordOffset=\"787\" offset=\"4250\"/><qs eid=\"111\" offset=\"4250\" wordOffset=\"787\"/><n>\"</n><w o=\"1\">Yes</w><n>,</n><n> </n><w o=\"6\">old</w><n> </n><w o=\"10\">chap</w><n>.\"</n></toks></s></p><p pid=\"23\" id=\"GE.c15.p23\" type=\"speech\" eid=\"113\"><s sid=\"47\" id=\"GE.c15.s47\" eid=\"114\"><txt>\"Here am I, getting on in the first year of my time, and, since the day of my being bound, I have never thanked Miss Havisham, or asked after her, or shown that I remember her.\"</txt><toks><qe eid=\"112\" wordOffset=\"790\" offset=\"4267\"/><qs eid=\"115\" offset=\"4267\" wordOffset=\"790\"/><n>\"</n><w o=\"1\">Here</w><n> </n><w o=\"6\">am</w><n> </n><w o=\"9\">I</w><n>,</n><n> </n><w o=\"12\">getting</w><n> </n><w o=\"20\">on</w><n> </n><w o=\"23\">in</w><n> </n><w o=\"26\">the</w><n> </n><w o=\"30\">first</w><n> </n><w o=\"36\">year</w><n> </n><w o=\"41\">of</w><n> </n><w o=\"44\">my</w><n> </n><w o=\"47\">time</w><n>,</n><n> </n><w o=\"53\">and</w><n>,</n><n> </n><w o=\"58\">since</w><n> </n><w o=\"64\">the</w><n> </n><w o=\"68\">day</w><n> </n><w o=\"72\">of</w><n> </n><w o=\"75\">my</w><n> </n><w o=\"78\">being</w><n> </n><w o=\"84\">bound</w><n>,</n><n> </n><w o=\"91\">I</w><n> </n><w o=\"93\">have</w><n> </n><w o=\"98\">never</w><n> </n><w o=\"104\">thanked</w><n> </n><w o=\"112\">Miss</w><n> </n><w o=\"117\">Havisham</w><n>,</n><n> </n><w o=\"127\">or</w><n> </n><w o=\"130\">asked</w><n> </n><w o=\"136\">after</w><n> </n><w o=\"142\">her</w><n>,</n><n> </n><w o=\"147\">or</w><n> </n><w o=\"150\">shown</w><n> </n><w o=\"156\">that</w><n> </n><w o=\"161\">I</w><n> </n><w o=\"163\">remember</w><n> </n><w o=\"172\">her</w><n>.\"</n></toks></s></p><p pid=\"24\" id=\"GE.c15.p24\" type=\"speech\" eid=\"117\"><s sid=\"48\" id=\"GE.c15.s48\" eid=\"118\"><txt>\"That\\'s true, Pip; and unless you was to turn her out a set of shoes all four round - and which I meantersay as even a set of shoes all four round might not be acceptable as a present, in a total wacancy of hoofs--\"</txt><toks><qe eid=\"116\" wordOffset=\"826\" offset=\"4445\"/><qs eid=\"119\" offset=\"4445\" wordOffset=\"826\"/><n>\"</n><w o=\"1\">That\\'s</w><n> </n><w o=\"8\">true</w><n>,</n><n> </n><w o=\"14\">Pip</w><n>;</n><n> </n><w o=\"19\">and</w><n> </n><w o=\"23\">unless</w><n> </n><w o=\"30\">you</w><n> </n><w o=\"34\">was</w><n> </n><w o=\"38\">to</w><n> </n><w o=\"41\">turn</w><n> </n><w o=\"46\">her</w><n> </n><w o=\"50\">out</w><n> </n><w o=\"54\">a</w><n> </n><w o=\"56\">set</w><n> </n><w o=\"60\">of</w><n> </n><w o=\"63\">shoes</w><n> </n><w o=\"69\">all</w><n> </n><w o=\"73\">four</w><n> </n><w o=\"78\">round</w><n> </n><n>-</n><n> </n><w o=\"86\">and</w><n> </n><w o=\"90\">which</w><n> </n><w o=\"96\">I</w><n> </n><w o=\"98\">meantersay</w><n> </n><w o=\"109\">as</w><n> </n><w o=\"112\">even</w><n> </n><w o=\"117\">a</w><n> </n><w o=\"119\">set</w><n> </n><w o=\"123\">of</w><n> </n><w o=\"126\">shoes</w><n> </n><w o=\"132\">all</w><n> </n><w o=\"136\">four</w><n> </n><w o=\"141\">round</w><n> </n><w o=\"147\">might</w><n> </n><w o=\"153\">not</w><n> </n><w o=\"157\">be</w><n> </n><w o=\"160\">acceptable</w><n> </n><w o=\"171\">as</w><n> </n><w o=\"174\">a</w><n> </n><w o=\"176\">present</w><n>,</n><n> </n><w o=\"185\">in</w><n> </n><w o=\"188\">a</w><n> </n><w o=\"190\">total</w><n> </n><w o=\"196\">wacancy</w><n> </n><w o=\"204\">of</w><n> </n><w o=\"207\">hoofs</w><n>--\"</n></toks></s></p><p pid=\"25\" id=\"GE.c15.p25\" type=\"speech\" eid=\"121\"><s sid=\"49\" id=\"GE.c15.s49\" eid=\"122\"><txt>\"I don\\'t mean that sort of remembrance, Joe; I don\\'t mean a present.\"</txt><toks><qe eid=\"120\" wordOffset=\"870\" offset=\"4661\"/><qs eid=\"123\" offset=\"4661\" wordOffset=\"870\"/><n>\"</n><w o=\"1\">I</w><n> </n><w o=\"3\">don\\'t</w><n> </n><w o=\"9\">mean</w><n> </n><w o=\"14\">that</w><n> </n><w o=\"19\">sort</w><n> </n><w o=\"24\">of</w><n> </n><w o=\"27\">remembrance</w><n>,</n><n> </n><w o=\"40\">Joe</w><n>;</n><n> </n><w o=\"45\">I</w><n> </n><w o=\"47\">don\\'t</w><n> </n><w o=\"53\">mean</w><n> </n><w o=\"58\">a</w><n> </n><w o=\"60\">present</w><n>.\"</n></toks></s></p><p pid=\"26\" id=\"GE.c15.p26\" type=\"speech\" eid=\"125\"><s sid=\"50\" id=\"GE.c15.s50\" eid=\"126\"><txt>But Joe had got the idea of a present in his head and must harp upon it.</txt><toks><qe eid=\"124\" wordOffset=\"883\" offset=\"4730\"/><w o=\"0\">But</w><n> </n><w o=\"4\">Joe</w><n> </n><w o=\"8\">had</w><n> </n><w o=\"12\">got</w><n> </n><w o=\"16\">the</w><n> </n><w o=\"20\">idea</w><n> </n><w o=\"25\">of</w><n> </n><w o=\"28\">a</w><n> </n><w o=\"30\">present</w><n> </n><w o=\"38\">in</w><n> </n><w o=\"41\">his</w><n> </n><w o=\"45\">head</w><n> </n><w o=\"50\">and</w><n> </n><w o=\"54\">must</w><n> </n><w o=\"59\">harp</w><n> </n><w o=\"64\">upon</w><n> </n><w o=\"69\">it</w><n>.</n></toks></s><s sid=\"51\" id=\"GE.c15.s51\" eid=\"127\"><txt>\"Or even,\" said he, \"if you was helped to knocking her up a new chain for the front door - or say a gross or two of shark-headed screws for general use - or some light fancy article, such as a toasting-fork when she took her muffins - or a gridiron when she took a sprat or such like--\"</txt><toks><qs eid=\"128\" offset=\"4804\" wordOffset=\"900\"/><n>\"</n><w o=\"1\">Or</w><n> </n><w o=\"4\">even</w><qe eid=\"129\" offset=\"4814\" wordOffset=\"902\"/><sss eid=\"130\" offset=\"4814\" wordOffset=\"902\"/><n>,\"</n><n> </n><w o=\"11\">said</w><n> </n><w o=\"16\">he</w><sse eid=\"131\" offset=\"4824\" wordOffset=\"904\"/><qs eid=\"132\" offset=\"4824\" wordOffset=\"904\"/><n>,</n><n> </n><n>\"</n><w o=\"21\">if</w><n> </n><w o=\"24\">you</w><n> </n><w o=\"28\">was</w><n> </n><w o=\"32\">helped</w><n> </n><w o=\"39\">to</w><n> </n><w o=\"42\">knocking</w><n> </n><w o=\"51\">her</w><n> </n><w o=\"55\">up</w><n> </n><w o=\"58\">a</w><n> </n><w o=\"60\">new</w><n> </n><w o=\"64\">chain</w><n> </n><w o=\"70\">for</w><n> </n><w o=\"74\">the</w><n> </n><w o=\"78\">front</w><n> </n><w o=\"84\">door</w><n> </n><n>-</n><n> </n><w o=\"91\">or</w><n> </n><w o=\"94\">say</w><n> </n><w o=\"98\">a</w><n> </n><w o=\"100\">gross</w><n> </n><w o=\"106\">or</w><n> </n><w o=\"109\">two</w><n> </n><w o=\"113\">of</w><n> </n><w o=\"116\">shark-headed</w><n> </n><w o=\"129\">screws</w><n> </n><w o=\"136\">for</w><n> </n><w o=\"140\">general</w><n> </n><w o=\"148\">use</w><n> </n><n>-</n><n> </n><w o=\"154\">or</w><n> </n><w o=\"157\">some</w><n> </n><w o=\"162\">light</w><n> </n><w o=\"168\">fancy</w><n> </n><w o=\"174\">article</w><n>,</n><n> </n><w o=\"183\">such</w><n> </n><w o=\"188\">as</w><n> </n><w o=\"191\">a</w><n> </n><w o=\"193\">toasting-fork</w><n> </n><w o=\"207\">when</w><n> </n><w o=\"212\">she</w><n> </n><w o=\"216\">took</w><n> </n><w o=\"221\">her</w><n> </n><w o=\"225\">muffins</w><n> </n><n>-</n><n> </n><w o=\"235\">or</w><n> </n><w o=\"238\">a</w><n> </n><w o=\"240\">gridiron</w><n> </n><w o=\"249\">when</w><n> </n><w o=\"254\">she</w><n> </n><w o=\"258\">took</w><n> </n><w o=\"263\">a</w><n> </n><w o=\"265\">sprat</w><n> </n><w o=\"271\">or</w><n> </n><w o=\"274\">such</w><n> </n><w o=\"279\">like</w><n>--\"</n></toks></s></p><p pid=\"27\" id=\"GE.c15.p27\" type=\"speech\" eid=\"134\"><s sid=\"52\" id=\"GE.c15.s52\" eid=\"135\"><txt>\"I don\\'t mean any present at all, Joe,\" I interposed.</txt><toks><qe eid=\"133\" wordOffset=\"956\" offset=\"5091\"/><qs eid=\"136\" offset=\"5091\" wordOffset=\"956\"/><n>\"</n><w o=\"1\">I</w><n> </n><w o=\"3\">don\\'t</w><n> </n><w o=\"9\">mean</w><n> </n><w o=\"14\">any</w><n> </n><w o=\"18\">present</w><n> </n><w o=\"26\">at</w><n> </n><w o=\"29\">all</w><n>,</n><n> </n><w o=\"34\">Joe</w><qe eid=\"137\" offset=\"5130\" wordOffset=\"964\"/><n>,\"</n><n> </n><w o=\"40\">I</w><n> </n><w o=\"42\">interposed</w><n>.</n></toks></s></p><p pid=\"28\" id=\"GE.c15.p28\" type=\"speech\" eid=\"138\"><s sid=\"53\" id=\"GE.c15.s53\" eid=\"139\"><txt>\"Well,\" said Joe, still harping on it as though I had particularly pressed it, \"if I was yourself, Pip, I wouldn\\'t.</txt><toks><qs eid=\"140\" offset=\"5145\" wordOffset=\"966\"/><n>\"</n><w o=\"1\">Well</w><qe eid=\"141\" offset=\"5152\" wordOffset=\"967\"/><sls eid=\"142\" offset=\"5152\" wordOffset=\"967\"/><n>,\"</n><n> </n><w o=\"8\">said</w><n> </n><w o=\"13\">Joe</w><n>,</n><n> </n><w o=\"18\">still</w><n> </n><w o=\"24\">harping</w><n> </n><w o=\"32\">on</w><n> </n><w o=\"35\">it</w><n> </n><w o=\"38\">as</w><n> </n><w o=\"41\">though</w><n> </n><w o=\"48\">I</w><n> </n><w o=\"50\">had</w><n> </n><w o=\"54\">particularly</w><n> </n><w o=\"67\">pressed</w><n> </n><w o=\"75\">it</w><sle eid=\"143\" offset=\"5224\" wordOffset=\"980\"/><qs eid=\"144\" offset=\"5224\" wordOffset=\"980\"/><n>,</n><n> </n><n>\"</n><w o=\"80\">if</w><n> </n><w o=\"83\">I</w><n> </n><w o=\"85\">was</w><n> </n><w o=\"89\">yourself</w><n>,</n><n> </n><w o=\"99\">Pip</w><n>,</n><n> </n><w o=\"104\">I</w><n> </n><w o=\"106\">wouldn\\'t</w><n>.</n></toks></s><s sid=\"54\" id=\"GE.c15.s54\" eid=\"145\"><txt>No, I would not.</txt><toks><w o=\"0\">No</w><n>,</n><n> </n><w o=\"4\">I</w><n> </n><w o=\"6\">would</w><n> </n><w o=\"12\">not</w><n>.</n></toks></s><s sid=\"55\" id=\"GE.c15.s55\" eid=\"146\"><txt>For what\\'s a door-chain when she\\'s got one always up?</txt><toks><w o=\"0\">For</w><n> </n><w o=\"4\">what\\'s</w><n> </n><w o=\"11\">a</w><n> </n><w o=\"13\">door-chain</w><n> </n><w o=\"24\">when</w><n> </n><w o=\"29\">she\\'s</w><n> </n><w o=\"35\">got</w><n> </n><w o=\"39\">one</w><n> </n><w o=\"43\">always</w><n> </n><w o=\"50\">up</w><n>?</n></toks></s><s sid=\"56\" id=\"GE.c15.s56\" eid=\"147\"><txt>And shark-headers is open to misrepresentations.</txt><toks><w o=\"0\">And</w><n> </n><w o=\"4\">shark-headers</w><n> </n><w o=\"18\">is</w><n> </n><w o=\"21\">open</w><n> </n><w o=\"26\">to</w><n> </n><w o=\"29\">misrepresentations</w><n>.</n></toks></s><s sid=\"57\" id=\"GE.c15.s57\" eid=\"148\"><txt>And if it was a toasting-fork, you\\'d go into brass and do yourself no credit.</txt><toks><w o=\"0\">And</w><n> </n><w o=\"4\">if</w><n> </n><w o=\"7\">it</w><n> </n><w o=\"10\">was</w><n> </n><w o=\"14\">a</w><n> </n><w o=\"16\">toasting-fork</w><n>,</n><n> </n><w o=\"31\">you\\'d</w><n> </n><w o=\"37\">go</w><n> </n><w o=\"40\">into</w><n> </n><w o=\"45\">brass</w><n> </n><w o=\"51\">and</w><n> </n><w o=\"55\">do</w><n> </n><w o=\"58\">yourself</w><n> </n><w o=\"67\">no</w><n> </n><w o=\"70\">credit</w><n>.</n></toks></s><s sid=\"58\" id=\"GE.c15.s58\" eid=\"149\"><txt>And the oncommonest workman can\\'t show himself oncommon in a gridiron - for a gridiron IS a gridiron,\" said Joe, steadfastly impressing it upon me, as if he were endeavouring to rouse me from a fixed delusion, \"and you may haim at what you like, but a gridiron it will come out, either by your leave or again your leave, and you can\\'t help yourself--\"</txt><toks><w o=\"0\">And</w><n> </n><w o=\"4\">the</w><n> </n><w o=\"8\">oncommonest</w><n> </n><w o=\"20\">workman</w><n> </n><w o=\"28\">can\\'t</w><n> </n><w o=\"34\">show</w><n> </n><w o=\"39\">himself</w><n> </n><w o=\"47\">oncommon</w><n> </n><w o=\"56\">in</w><n> </n><w o=\"59\">a</w><n> </n><w o=\"61\">gridiron</w><n> </n><n>-</n><n> </n><w o=\"72\">for</w><n> </n><w o=\"76\">a</w><n> </n><w o=\"78\">gridiron</w><n> </n><w o=\"87\">IS</w><n> </n><w o=\"90\">a</w><n> </n><w o=\"92\">gridiron</w><qe eid=\"150\" offset=\"5561\" wordOffset=\"1039\"/><sls eid=\"151\" offset=\"5561\" wordOffset=\"1039\"/><n>,\"</n><n> </n><w o=\"103\">said</w><n> </n><w o=\"108\">Joe</w><n>,</n><n> </n><w o=\"113\">steadfastly</w><n> </n><w o=\"125\">impressing</w><n> </n><w o=\"136\">it</w><n> </n><w o=\"139\">upon</w><n> </n><w o=\"144\">me</w><n>,</n><n> </n><w o=\"148\">as</w><n> </n><w o=\"151\">if</w><n> </n><w o=\"154\">he</w><n> </n><w o=\"157\">were</w><n> </n><w o=\"162\">endeavouring</w><n> </n><w o=\"175\">to</w><n> </n><w o=\"178\">rouse</w><n> </n><w o=\"184\">me</w><n> </n><w o=\"187\">from</w><n> </n><w o=\"192\">a</w><n> </n><w o=\"194\">fixed</w><n> </n><w o=\"200\">delusion</w><sle eid=\"152\" offset=\"5669\" wordOffset=\"1058\"/><qs eid=\"153\" offset=\"5669\" wordOffset=\"1058\"/><n>,</n><n> </n><n>\"</n><w o=\"211\">and</w><n> </n><w o=\"215\">you</w><n> </n><w o=\"219\">may</w><n> </n><w o=\"223\">haim</w><n> </n><w o=\"228\">at</w><n> </n><w o=\"231\">what</w><n> </n><w o=\"236\">you</w><n> </n><w o=\"240\">like</w><n>,</n><n> </n><w o=\"246\">but</w><n> </n><w o=\"250\">a</w><n> </n><w o=\"252\">gridiron</w><n> </n><w o=\"261\">it</w><n> </n><w o=\"264\">will</w><n> </n><w o=\"269\">come</w><n> </n><w o=\"274\">out</w><n>,</n><n> </n><w o=\"279\">either</w><n> </n><w o=\"286\">by</w><n> </n><w o=\"289\">your</w><n> </n><w o=\"294\">leave</w><n> </n><w o=\"300\">or</w><n> </n><w o=\"303\">again</w><n> </n><w o=\"309\">your</w><n> </n><w o=\"314\">leave</w><n>,</n><n> </n><w o=\"321\">and</w><n> </n><w o=\"325\">you</w><n> </n><w o=\"329\">can\\'t</w><n> </n><w o=\"335\">help</w><n> </n><w o=\"340\">yourself</w><n>--\"</n></toks></s></p><p pid=\"29\" id=\"GE.c15.p29\" type=\"speech\" eid=\"155\"><s sid=\"59\" id=\"GE.c15.s59\" eid=\"156\"><txt>\"My dear Joe,\" I cried, in desperation, taking hold of his coat, \"don\\'t go on in that way.</txt><toks><qe eid=\"154\" wordOffset=\"1086\" offset=\"5811\"/><qs eid=\"157\" offset=\"5811\" wordOffset=\"1086\"/><n>\"</n><w o=\"1\">My</w><n> </n><w o=\"4\">dear</w><n> </n><w o=\"9\">Joe</w><qe eid=\"158\" offset=\"5825\" wordOffset=\"1089\"/><sls eid=\"159\" offset=\"5825\" wordOffset=\"1089\"/><n>,\"</n><n> </n><w o=\"15\">I</w><n> </n><w o=\"17\">cried</w><n>,</n><n> </n><w o=\"24\">in</w><n> </n><w o=\"27\">desperation</w><n>,</n><n> </n><w o=\"40\">taking</w><n> </n><w o=\"47\">hold</w><n> </n><w o=\"52\">of</w><n> </n><w o=\"55\">his</w><n> </n><w o=\"59\">coat</w><sle eid=\"160\" offset=\"5876\" wordOffset=\"1098\"/><qs eid=\"161\" offset=\"5876\" wordOffset=\"1098\"/><n>,</n><n> </n><n>\"</n><w o=\"66\">don\\'t</w><n> </n><w o=\"72\">go</w><n> </n><w o=\"75\">on</w><n> </n><w o=\"78\">in</w><n> </n><w o=\"81\">that</w><n> </n><w o=\"86\">way</w><n>.</n></toks></s><s sid=\"60\" id=\"GE.c15.s60\" eid=\"162\"><txt>I never thought of making Miss Havisham any present.\"</txt><toks><w o=\"0\">I</w><n> </n><w o=\"2\">never</w><n> </n><w o=\"8\">thought</w><n> </n><w o=\"16\">of</w><n> </n><w o=\"19\">making</w><n> </n><w o=\"26\">Miss</w><n> </n><w o=\"31\">Havisham</w><n> </n><w o=\"40\">any</w><n> </n><w o=\"44\">present</w><n>.\"</n></toks></s></p><p pid=\"30\" id=\"GE.c15.p30\" type=\"speech\" eid=\"164\"><s sid=\"61\" id=\"GE.c15.s61\" eid=\"165\"><txt>\"No, Pip,\" Joe assented, as if he had been contending for that, all along; \"and what I say to you is, you are right, Pip.\"</txt><toks><qe eid=\"163\" wordOffset=\"1113\" offset=\"5956\"/><qs eid=\"166\" offset=\"5956\" wordOffset=\"1113\"/><n>\"</n><w o=\"1\">No</w><n>,</n><n> </n><w o=\"5\">Pip</w><qe eid=\"167\" offset=\"5966\" wordOffset=\"1115\"/><sls eid=\"168\" offset=\"5966\" wordOffset=\"1115\"/><n>,\"</n><n> </n><w o=\"11\">Joe</w><n> </n><w o=\"15\">assented</w><n>,</n><n> </n><w o=\"25\">as</w><n> </n><w o=\"28\">if</w><n> </n><w o=\"31\">he</w><n> </n><w o=\"34\">had</w><n> </n><w o=\"38\">been</w><n> </n><w o=\"43\">contending</w><n> </n><w o=\"54\">for</w><n> </n><w o=\"58\">that</w><n>,</n><n> </n><w o=\"64\">all</w><n> </n><w o=\"68\">along</w><sle eid=\"169\" offset=\"6031\" wordOffset=\"1127\"/><qs eid=\"170\" offset=\"6031\" wordOffset=\"1127\"/><n>;</n><n> </n><n>\"</n><w o=\"76\">and</w><n> </n><w o=\"80\">what</w><n> </n><w o=\"85\">I</w><n> </n><w o=\"87\">say</w><n> </n><w o=\"91\">to</w><n> </n><w o=\"94\">you</w><n> </n><w o=\"98\">is</w><n>,</n><n> </n><w o=\"102\">you</w><n> </n><w o=\"106\">are</w><n> </n><w o=\"110\">right</w><n>,</n><n> </n><w o=\"117\">Pip</w><n>.\"</n></toks></s></p><p pid=\"31\" id=\"GE.c15.p31\" type=\"speech\" eid=\"172\"><s sid=\"62\" id=\"GE.c15.s62\" eid=\"173\"><txt>\"Yes, Joe; but what I wanted to say, was, that as we are rather slack just now, if you would give me a half-holiday to-morrow, I think I would go up-town and make a call on Miss Est - Havisham.\"</txt><toks><qe eid=\"171\" wordOffset=\"1138\" offset=\"6079\"/><qs eid=\"174\" offset=\"6079\" wordOffset=\"1138\"/><n>\"</n><w o=\"1\">Yes</w><n>,</n><n> </n><w o=\"6\">Joe</w><n>;</n><n> </n><w o=\"11\">but</w><n> </n><w o=\"15\">what</w><n> </n><w o=\"20\">I</w><n> </n><w o=\"22\">wanted</w><n> </n><w o=\"29\">to</w><n> </n><w o=\"32\">say</w><n>,</n><n> </n><w o=\"37\">was</w><n>,</n><n> </n><w o=\"42\">that</w><n> </n><w o=\"47\">as</w><n> </n><w o=\"50\">we</w><n> </n><w o=\"53\">are</w><n> </n><w o=\"57\">rather</w><n> </n><w o=\"64\">slack</w><n> </n><w o=\"70\">just</w><n> </n><w o=\"75\">now</w><n>,</n><n> </n><w o=\"80\">if</w><n> </n><w o=\"83\">you</w><n> </n><w o=\"87\">would</w><n> </n><w o=\"93\">give</w><n> </n><w o=\"98\">me</w><n> </n><w o=\"101\">a</w><n> </n><w o=\"103\">half-holiday</w><n> </n><w o=\"116\">to-morrow</w><n>,</n><n> </n><w o=\"127\">I</w><n> </n><w o=\"129\">think</w><n> </n><w o=\"135\">I</w><n> </n><w o=\"137\">would</w><n> </n><w o=\"143\">go</w><n> </n><w o=\"146\">up-town</w><n> </n><w o=\"154\">and</w><n> </n><w o=\"158\">make</w><n> </n><w o=\"163\">a</w><n> </n><w o=\"165\">call</w><n> </n><w o=\"170\">on</w><n> </n><w o=\"173\">Miss</w><n> </n><w o=\"178\">Est</w><n> </n><n>-</n><n> </n><w o=\"184\">Havisham</w><n>.\"</n></toks></s></p><p pid=\"32\" id=\"GE.c15.p32\" type=\"speech\" eid=\"176\"><s sid=\"63\" id=\"GE.c15.s63\" eid=\"177\"><txt>\"Which her name,\" said Joe, gravely, \"ain\\'t Estavisham, Pip, unless she have been rechris\\'ened.\"</txt><toks><qe eid=\"175\" wordOffset=\"1177\" offset=\"6274\"/><qs eid=\"178\" offset=\"6274\" wordOffset=\"1177\"/><n>\"</n><w o=\"1\">Which</w><n> </n><w o=\"7\">her</w><n> </n><w o=\"11\">name</w><qe eid=\"179\" offset=\"6291\" wordOffset=\"1180\"/><sss eid=\"180\" offset=\"6291\" wordOffset=\"1180\"/><n>,\"</n><n> </n><w o=\"18\">said</w><n> </n><w o=\"23\">Joe</w><n>,</n><n> </n><w o=\"28\">gravely</w><sse eid=\"181\" offset=\"6311\" wordOffset=\"1183\"/><qs eid=\"182\" offset=\"6311\" wordOffset=\"1183\"/><n>,</n><n> </n><n>\"</n><w o=\"38\">ain\\'t</w><n> </n><w o=\"44\">Estavisham</w><n>,</n><n> </n><w o=\"56\">Pip</w><n>,</n><n> </n><w o=\"61\">unless</w><n> </n><w o=\"68\">she</w><n> </n><w o=\"72\">have</w><n> </n><w o=\"77\">been</w><n> </n><w o=\"82\">rechris</w><n>\\'</n><w o=\"90\">ened</w><n>.\"</n></toks></s></p><p pid=\"33\" id=\"GE.c15.p33\" type=\"speech\" eid=\"184\"><s sid=\"64\" id=\"GE.c15.s64\" eid=\"185\"><txt>\"I know, Joe, I know.</txt><toks><qe eid=\"183\" wordOffset=\"1192\" offset=\"6371\"/><qs eid=\"186\" offset=\"6371\" wordOffset=\"1192\"/><n>\"</n><w o=\"1\">I</w><n> </n><w o=\"3\">know</w><n>,</n><n> </n><w o=\"9\">Joe</w><n>,</n><n> </n><w o=\"14\">I</w><n> </n><w o=\"16\">know</w><n>.</n></toks></s><s sid=\"65\" id=\"GE.c15.s65\" eid=\"187\"><txt>It was a slip of mine.</txt><toks><w o=\"0\">It</w><n> </n><w o=\"3\">was</w><n> </n><w o=\"7\">a</w><n> </n><w o=\"9\">slip</w><n> </n><w o=\"14\">of</w><n> </n><w o=\"17\">mine</w><n>.</n></toks></s><s sid=\"66\" id=\"GE.c15.s66\" eid=\"188\"><txt>What do you think of it, Joe?\"</txt><toks><w o=\"0\">What</w><n> </n><w o=\"5\">do</w><n> </n><w o=\"8\">you</w><n> </n><w o=\"12\">think</w><n> </n><w o=\"18\">of</w><n> </n><w o=\"21\">it</w><n>,</n><n> </n><w o=\"25\">Joe</w><n>?\"</n></toks></s></p><p pid=\"34\" id=\"GE.c15.p34\" eid=\"190\"><s sid=\"67\" id=\"GE.c15.s67\" eid=\"191\"><txt>In brief, Joe thought that if I thought well of it, he thought well of it.</txt><toks><qe eid=\"189\" wordOffset=\"1210\" offset=\"6446\"/><w o=\"0\">In</w><n> </n><w o=\"3\">brief</w><n>,</n><n> </n><w o=\"10\">Joe</w><n> </n><w o=\"14\">thought</w><n> </n><w o=\"22\">that</w><n> </n><w o=\"27\">if</w><n> </n><w o=\"30\">I</w><n> </n><w o=\"32\">thought</w><n> </n><w o=\"40\">well</w><n> </n><w o=\"45\">of</w><n> </n><w o=\"48\">it</w><n>,</n><n> </n><w o=\"52\">he</w><n> </n><w o=\"55\">thought</w><n> </n><w o=\"63\">well</w><n> </n><w o=\"68\">of</w><n> </n><w o=\"71\">it</w><n>.</n></toks></s><s sid=\"68\" id=\"GE.c15.s68\" eid=\"192\"><txt>But, he was particular in stipulating that if I were not received with cordiality, or if I were not encouraged to repeat my visit as a visit which had no ulterior object but was simply one of gratitude for a favour received, then this experimental trip should have no successor.</txt><toks><w o=\"0\">But</w><n>,</n><n> </n><w o=\"5\">he</w><n> </n><w o=\"8\">was</w><n> </n><w o=\"12\">particular</w><n> </n><w o=\"23\">in</w><n> </n><w o=\"26\">stipulating</w><n> </n><w o=\"38\">that</w><n> </n><w o=\"43\">if</w><n> </n><w o=\"46\">I</w><n> </n><w o=\"48\">were</w><n> </n><w o=\"53\">not</w><n> </n><w o=\"57\">received</w><n> </n><w o=\"66\">with</w><n> </n><w o=\"71\">cordiality</w><n>,</n><n> </n><w o=\"83\">or</w><n> </n><w o=\"86\">if</w><n> </n><w o=\"89\">I</w><n> </n><w o=\"91\">were</w><n> </n><w o=\"96\">not</w><n> </n><w o=\"100\">encouraged</w><n> </n><w o=\"111\">to</w><n> </n><w o=\"114\">repeat</w><n> </n><w o=\"121\">my</w><n> </n><w o=\"124\">visit</w><n> </n><w o=\"130\">as</w><n> </n><w o=\"133\">a</w><n> </n><w o=\"135\">visit</w><n> </n><w o=\"141\">which</w><n> </n><w o=\"147\">had</w><n> </n><w o=\"151\">no</w><n> </n><w o=\"154\">ulterior</w><n> </n><w o=\"163\">object</w><n> </n><w o=\"170\">but</w><n> </n><w o=\"174\">was</w><n> </n><w o=\"178\">simply</w><n> </n><w o=\"185\">one</w><n> </n><w o=\"189\">of</w><n> </n><w o=\"192\">gratitude</w><n> </n><w o=\"202\">for</w><n> </n><w o=\"206\">a</w><n> </n><w o=\"208\">favour</w><n> </n><w o=\"215\">received</w><n>,</n><n> </n><w o=\"225\">then</w><n> </n><w o=\"230\">this</w><n> </n><w o=\"235\">experimental</w><n> </n><w o=\"248\">trip</w><n> </n><w o=\"253\">should</w><n> </n><w o=\"260\">have</w><n> </n><w o=\"265\">no</w><n> </n><w o=\"268\">successor</w><n>.</n></toks></s><s sid=\"69\" id=\"GE.c15.s69\" eid=\"193\"><txt>By these conditions I promised to abide.</txt><toks><w o=\"0\">By</w><n> </n><w o=\"3\">these</w><n> </n><w o=\"9\">conditions</w><n> </n><w o=\"20\">I</w><n> </n><w o=\"22\">promised</w><n> </n><w o=\"31\">to</w><n> </n><w o=\"34\">abide</w><n>.</n></toks></s></p>\\n\\n<p pid=\"35\" id=\"GE.c15.p35\" eid=\"194\"><s sid=\"70\" id=\"GE.c15.s70\" eid=\"195\"><txt>Now, Joe kept a journeyman at weekly wages whose name was Orlick.</txt><toks><w o=\"0\">Now</w><n>,</n><n> </n><w o=\"5\">Joe</w><n> </n><w o=\"9\">kept</w><n> </n><w o=\"14\">a</w><n> </n><w o=\"16\">journeyman</w><n> </n><w o=\"27\">at</w><n> </n><w o=\"30\">weekly</w><n> </n><w o=\"37\">wages</w><n> </n><w o=\"43\">whose</w><n> </n><w o=\"49\">name</w><n> </n><w o=\"54\">was</w><n> </n><w o=\"58\">Orlick</w><n>.</n></toks></s><s sid=\"71\" id=\"GE.c15.s71\" eid=\"196\"><txt>He pretended that his Christian name was Dolge - a clear impossibility - but he was a fellow of that obstinate disposition that I believe him to have been the prey of no delusion in this particular, but wilfully to have imposed that name upon the village as an affront to its understanding.</txt><toks><w o=\"0\">He</w><n> </n><w o=\"3\">pretended</w><n> </n><w o=\"13\">that</w><n> </n><w o=\"18\">his</w><n> </n><w o=\"22\">Christian</w><n> </n><w o=\"32\">name</w><n> </n><w o=\"37\">was</w><n> </n><w o=\"41\">Dolge</w><n> </n><n>-</n><n> </n><w o=\"49\">a</w><n> </n><w o=\"51\">clear</w><n> </n><w o=\"57\">impossibility</w><n> </n><n>-</n><n> </n><w o=\"73\">but</w><n> </n><w o=\"77\">he</w><n> </n><w o=\"80\">was</w><n> </n><w o=\"84\">a</w><n> </n><w o=\"86\">fellow</w><n> </n><w o=\"93\">of</w><n> </n><w o=\"96\">that</w><n> </n><w o=\"101\">obstinate</w><n> </n><w o=\"111\">disposition</w><n> </n><w o=\"123\">that</w><n> </n><w o=\"128\">I</w><n> </n><w o=\"130\">believe</w><n> </n><w o=\"138\">him</w><n> </n><w o=\"142\">to</w><n> </n><w o=\"145\">have</w><n> </n><w o=\"150\">been</w><n> </n><w o=\"155\">the</w><n> </n><w o=\"159\">prey</w><n> </n><w o=\"164\">of</w><n> </n><w o=\"167\">no</w><n> </n><w o=\"170\">delusion</w><n> </n><w o=\"179\">in</w><n> </n><w o=\"182\">this</w><n> </n><w o=\"187\">particular</w><n>,</n><n> </n><w o=\"199\">but</w><n> </n><w o=\"203\">wilfully</w><n> </n><w o=\"212\">to</w><n> </n><w o=\"215\">have</w><n> </n><w o=\"220\">imposed</w><n> </n><w o=\"228\">that</w><n> </n><w o=\"233\">name</w><n> </n><w o=\"238\">upon</w><n> </n><w o=\"243\">the</w><n> </n><w o=\"247\">village</w><n> </n><w o=\"255\">as</w><n> </n><w o=\"258\">an</w><n> </n><w o=\"261\">affront</w><n> </n><w o=\"269\">to</w><n> </n><w o=\"272\">its</w><n> </n><w o=\"276\">understanding</w><n>.</n></toks></s><s sid=\"72\" id=\"GE.c15.s72\" eid=\"197\"><txt>He was a broadshouldered loose-limbed swarthy fellow of great strength, never in a hurry, and always slouching.</txt><toks><w o=\"0\">He</w><n> </n><w o=\"3\">was</w><n> </n><w o=\"7\">a</w><n> </n><w o=\"9\">broadshouldered</w><n> </n><w o=\"25\">loose-limbed</w><n> </n><w o=\"38\">swarthy</w><n> </n><w o=\"46\">fellow</w><n> </n><w o=\"53\">of</w><n> </n><w o=\"56\">great</w><n> </n><w o=\"62\">strength</w><n>,</n><n> </n><w o=\"72\">never</w><n> </n><w o=\"78\">in</w><n> </n><w o=\"81\">a</w><n> </n><w o=\"83\">hurry</w><n>,</n><n> </n><w o=\"90\">and</w><n> </n><w o=\"94\">always</w><n> </n><w o=\"101\">slouching</w><n>.</n></toks></s><s sid=\"73\" id=\"GE.c15.s73\" eid=\"198\"><txt>He never even seemed to come to his work on purpose, but would slouch in as if by mere accident; and when he went to the Jolly Bargemen to eat his dinner, or went away at night, he would slouch out, like Cain or the Wandering Jew, as if he had no idea where he was going and no intention of ever coming back.</txt><toks><w o=\"0\">He</w><n> </n><w o=\"3\">never</w><n> </n><w o=\"9\">even</w><n> </n><w o=\"14\">seemed</w><n> </n><w o=\"21\">to</w><n> </n><w o=\"24\">come</w><n> </n><w o=\"29\">to</w><n> </n><w o=\"32\">his</w><n> </n><w o=\"36\">work</w><n> </n><w o=\"41\">on</w><n> </n><w o=\"44\">purpose</w><n>,</n><n> </n><w o=\"53\">but</w><n> </n><w o=\"57\">would</w><n> </n><w o=\"63\">slouch</w><n> </n><w o=\"70\">in</w><n> </n><w o=\"73\">as</w><n> </n><w o=\"76\">if</w><n> </n><w o=\"79\">by</w><n> </n><w o=\"82\">mere</w><n> </n><w o=\"87\">accident</w><n>;</n><n> </n><w o=\"97\">and</w><n> </n><w o=\"101\">when</w><n> </n><w o=\"106\">he</w><n> </n><w o=\"109\">went</w><n> </n><w o=\"114\">to</w><n> </n><w o=\"117\">the</w><n> </n><w o=\"121\">Jolly</w><n> </n><w o=\"127\">Bargemen</w><n> </n><w o=\"136\">to</w><n> </n><w o=\"139\">eat</w><n> </n><w o=\"143\">his</w><n> </n><w o=\"147\">dinner</w><n>,</n><n> </n><w o=\"155\">or</w><n> </n><w o=\"158\">went</w><n> </n><w o=\"163\">away</w><n> </n><w o=\"168\">at</w><n> </n><w o=\"171\">night</w><n>,</n><n> </n><w o=\"178\">he</w><n> </n><w o=\"181\">would</w><n> </n><w o=\"187\">slouch</w><n> </n><w o=\"194\">out</w><n>,</n><n> </n><w o=\"199\">like</w><n> </n><w o=\"204\">Cain</w><n> </n><w o=\"209\">or</w><n> </n><w o=\"212\">the</w><n> </n><w o=\"216\">Wandering</w><n> </n><w o=\"226\">Jew</w><n>,</n><n> </n><w o=\"231\">as</w><n> </n><w o=\"234\">if</w><n> </n><w o=\"237\">he</w><n> </n><w o=\"240\">had</w><n> </n><w o=\"244\">no</w><n> </n><w o=\"247\">idea</w><n> </n><w o=\"252\">where</w><n> </n><w o=\"258\">he</w><n> </n><w o=\"261\">was</w><n> </n><w o=\"265\">going</w><n> </n><w o=\"271\">and</w><n> </n><w o=\"275\">no</w><n> </n><w o=\"278\">intention</w><n> </n><w o=\"288\">of</w><n> </n><w o=\"291\">ever</w><n> </n><w o=\"296\">coming</w><n> </n><w o=\"303\">back</w><n>.</n></toks></s><s sid=\"74\" id=\"GE.c15.s74\" eid=\"199\"><txt>He lodged at a sluice-keeper\\'s out on the marshes, and on working days would come slouching from his hermitage, with his hands in his pockets and his dinner loosely tied in a bundle round his neck and dangling on his back.</txt><toks><w o=\"0\">He</w><n> </n><w o=\"3\">lodged</w><n> </n><w o=\"10\">at</w><n> </n><w o=\"13\">a</w><n> </n><w o=\"15\">sluice-keeper\\'s</w><n> </n><w o=\"31\">out</w><n> </n><w o=\"35\">on</w><n> </n><w o=\"38\">the</w><n> </n><w o=\"42\">marshes</w><n>,</n><n> </n><w o=\"51\">and</w><n> </n><w o=\"55\">on</w><n> </n><w o=\"58\">working</w><n> </n><w o=\"66\">days</w><n> </n><w o=\"71\">would</w><n> </n><w o=\"77\">come</w><n> </n><w o=\"82\">slouching</w><n> </n><w o=\"92\">from</w><n> </n><w o=\"97\">his</w><n> </n><w o=\"101\">hermitage</w><n>,</n><n> </n><w o=\"112\">with</w><n> </n><w o=\"117\">his</w><n> </n><w o=\"121\">hands</w><n> </n><w o=\"127\">in</w><n> </n><w o=\"130\">his</w><n> </n><w o=\"134\">pockets</w><n> </n><w o=\"142\">and</w><n> </n><w o=\"146\">his</w><n> </n><w o=\"150\">dinner</w><n> </n><w o=\"157\">loosely</w><n> </n><w o=\"165\">tied</w><n> </n><w o=\"170\">in</w><n> </n><w o=\"173\">a</w><n> </n><w o=\"175\">bundle</w><n> </n><w o=\"182\">round</w><n> </n><w o=\"188\">his</w><n> </n><w o=\"192\">neck</w><n> </n><w o=\"197\">and</w><n> </n><w o=\"201\">dangling</w><n> </n><w o=\"210\">on</w><n> </n><w o=\"213\">his</w><n> </n><w o=\"217\">back</w><n>.</n></toks></s><s sid=\"75\" id=\"GE.c15.s75\" eid=\"200\"><txt>On Sundays he mostly lay all day on the sluice-gates, or stood against ricks and barns.</txt><toks><w o=\"0\">On</w><n> </n><w o=\"3\">Sundays</w><n> </n><w o=\"11\">he</w><n> </n><w o=\"14\">mostly</w><n> </n><w o=\"21\">lay</w><n> </n><w o=\"25\">all</w><n> </n><w o=\"29\">day</w><n> </n><w o=\"33\">on</w><n> </n><w o=\"36\">the</w><n> </n><w o=\"40\">sluice-gates</w><n>,</n><n> </n><w o=\"54\">or</w><n> </n><w o=\"57\">stood</w><n> </n><w o=\"63\">against</w><n> </n><w o=\"71\">ricks</w><n> </n><w o=\"77\">and</w><n> </n><w o=\"81\">barns</w><n>.</n></toks></s><s sid=\"76\" id=\"GE.c15.s76\" eid=\"201\"><txt>He always slouched, locomotively, with his eyes on the ground; and, when accosted or otherwise required to raise them, he looked up in a half resentful, half puzzled way, as though the only thought he ever had, was, that it was rather an odd and injurious fact that he should never be thinking.</txt><toks><w o=\"0\">He</w><n> </n><w o=\"3\">always</w><n> </n><w o=\"10\">slouched</w><n>,</n><n> </n><w o=\"20\">locomotively</w><n>,</n><n> </n><w o=\"34\">with</w><n> </n><w o=\"39\">his</w><n> </n><w o=\"43\">eyes</w><n> </n><w o=\"48\">on</w><n> </n><w o=\"51\">the</w><n> </n><w o=\"55\">ground</w><n>;</n><n> </n><w o=\"63\">and</w><n>,</n><n> </n><w o=\"68\">when</w><n> </n><w o=\"73\">accosted</w><n> </n><w o=\"82\">or</w><n> </n><w o=\"85\">otherwise</w><n> </n><w o=\"95\">required</w><n> </n><w o=\"104\">to</w><n> </n><w o=\"107\">raise</w><n> </n><w o=\"113\">them</w><n>,</n><n> </n><w o=\"119\">he</w><n> </n><w o=\"122\">looked</w><n> </n><w o=\"129\">up</w><n> </n><w o=\"132\">in</w><n> </n><w o=\"135\">a</w><n> </n><w o=\"137\">half</w><n> </n><w o=\"142\">resentful</w><n>,</n><n> </n><w o=\"153\">half</w><n> </n><w o=\"158\">puzzled</w><n> </n><w o=\"166\">way</w><n>,</n><n> </n><w o=\"171\">as</w><n> </n><w o=\"174\">though</w><n> </n><w o=\"181\">the</w><n> </n><w o=\"185\">only</w><n> </n><w o=\"190\">thought</w><n> </n><w o=\"198\">he</w><n> </n><w o=\"201\">ever</w><n> </n><w o=\"206\">had</w><n>,</n><n> </n><w o=\"211\">was</w><n>,</n><n> </n><w o=\"216\">that</w><n> </n><w o=\"221\">it</w><n> </n><w o=\"224\">was</w><n> </n><w o=\"228\">rather</w><n> </n><w o=\"235\">an</w><n> </n><w o=\"238\">odd</w><n> </n><w o=\"242\">and</w><n> </n><w o=\"246\">injurious</w><n> </n><w o=\"256\">fact</w><n> </n><w o=\"261\">that</w><n> </n><w o=\"266\">he</w><n> </n><w o=\"269\">should</w><n> </n><w o=\"276\">never</w><n> </n><w o=\"282\">be</w><n> </n><w o=\"285\">thinking</w><n>.</n></toks></s></p>\\n\\n<p pid=\"36\" id=\"GE.c15.p36\" eid=\"202\"><s sid=\"77\" id=\"GE.c15.s77\" eid=\"203\"><txt>This morose journeyman had no liking for me.</txt><toks><w o=\"0\">This</w><n> </n><w o=\"5\">morose</w><n> </n><w o=\"12\">journeyman</w><n> </n><w o=\"23\">had</w><n> </n><w o=\"27\">no</w><n> </n><w o=\"30\">liking</w><n> </n><w o=\"37\">for</w><n> </n><w o=\"41\">me</w><n>.</n></toks></s><s sid=\"78\" id=\"GE.c15.s78\" eid=\"204\"><txt>When I was very small and timid, he gave me to understand that the Devil lived in a black corner of the forge, and that he knew the fiend very well: also that it was necessary to make up the fire, once in seven years, with a live boy, and that I might consider myself fuel.</txt><toks><w o=\"0\">When</w><n> </n><w o=\"5\">I</w><n> </n><w o=\"7\">was</w><n> </n><w o=\"11\">very</w><n> </n><w o=\"16\">small</w><n> </n><w o=\"22\">and</w><n> </n><w o=\"26\">timid</w><n>,</n><n> </n><w o=\"33\">he</w><n> </n><w o=\"36\">gave</w><n> </n><w o=\"41\">me</w><n> </n><w o=\"44\">to</w><n> </n><w o=\"47\">understand</w><n> </n><w o=\"58\">that</w><n> </n><w o=\"63\">the</w><n> </n><w o=\"67\">Devil</w><n> </n><w o=\"73\">lived</w><n> </n><w o=\"79\">in</w><n> </n><w o=\"82\">a</w><n> </n><w o=\"84\">black</w><n> </n><w o=\"90\">corner</w><n> </n><w o=\"97\">of</w><n> </n><w o=\"100\">the</w><n> </n><w o=\"104\">forge</w><n>,</n><n> </n><w o=\"111\">and</w><n> </n><w o=\"115\">that</w><n> </n><w o=\"120\">he</w><n> </n><w o=\"123\">knew</w><n> </n><w o=\"128\">the</w><n> </n><w o=\"132\">fiend</w><n> </n><w o=\"138\">very</w><n> </n><w o=\"143\">well</w><n>:</n><n> </n><w o=\"149\">also</w><n> </n><w o=\"154\">that</w><n> </n><w o=\"159\">it</w><n> </n><w o=\"162\">was</w><n> </n><w o=\"166\">necessary</w><n> </n><w o=\"176\">to</w><n> </n><w o=\"179\">make</w><n> </n><w o=\"184\">up</w><n> </n><w o=\"187\">the</w><n> </n><w o=\"191\">fire</w><n>,</n><n> </n><w o=\"197\">once</w><n> </n><w o=\"202\">in</w><n> </n><w o=\"205\">seven</w><n> </n><w o=\"211\">years</w><n>,</n><n> </n><w o=\"218\">with</w><n> </n><w o=\"223\">a</w><n> </n><w o=\"225\">live</w><n> </n><w o=\"230\">boy</w><n>,</n><n> </n><w o=\"235\">and</w><n> </n><w o=\"239\">that</w><n> </n><w o=\"244\">I</w><n> </n><w o=\"246\">might</w><n> </n><w o=\"252\">consider</w><n> </n><w o=\"261\">myself</w><n> </n><w o=\"268\">fuel</w><n>.</n></toks></s><s sid=\"79\" id=\"GE.c15.s79\" eid=\"205\"><txt>When I became Joe\\'s \\'prentice, Orlick was perhaps confirmed in some suspicion that I should displace him; howbeit, he liked me still less.</txt><toks><w o=\"0\">When</w><n> </n><w o=\"5\">I</w><n> </n><w o=\"7\">became</w><n> </n><w o=\"14\">Joe\\'s</w><n> </n><n>\\'</n><w o=\"21\">prentice</w><n>,</n><n> </n><w o=\"31\">Orlick</w><n> </n><w o=\"38\">was</w><n> </n><w o=\"42\">perhaps</w><n> </n><w o=\"50\">confirmed</w><n> </n><w o=\"60\">in</w><n> </n><w o=\"63\">some</w><n> </n><w o=\"68\">suspicion</w><n> </n><w o=\"78\">that</w><n> </n><w o=\"83\">I</w><n> </n><w o=\"85\">should</w><n> </n><w o=\"92\">displace</w><n> </n><w o=\"101\">him</w><n>;</n><n> </n><w o=\"106\">howbeit</w><n>,</n><n> </n><w o=\"115\">he</w><n> </n><w o=\"118\">liked</w><n> </n><w o=\"124\">me</w><n> </n><w o=\"127\">still</w><n> </n><w o=\"133\">less</w><n>.</n></toks></s><s sid=\"80\" id=\"GE.c15.s80\" eid=\"206\"><txt>Not that he ever said anything, or did anything, openly importing hostility; I only noticed that he always beat his sparks in my direction, and that whenever I sang Old Clem, he came in out of time.</txt><toks><w o=\"0\">Not</w><n> </n><w o=\"4\">that</w><n> </n><w o=\"9\">he</w><n> </n><w o=\"12\">ever</w><n> </n><w o=\"17\">said</w><n> </n><w o=\"22\">anything</w><n>,</n><n> </n><w o=\"32\">or</w><n> </n><w o=\"35\">did</w><n> </n><w o=\"39\">anything</w><n>,</n><n> </n><w o=\"49\">openly</w><n> </n><w o=\"56\">importing</w><n> </n><w o=\"66\">hostility</w><n>;</n><n> </n><w o=\"77\">I</w><n> </n><w o=\"79\">only</w><n> </n><w o=\"84\">noticed</w><n> </n><w o=\"92\">that</w><n> </n><w o=\"97\">he</w><n> </n><w o=\"100\">always</w><n> </n><w o=\"107\">beat</w><n> </n><w o=\"112\">his</w><n> </n><w o=\"116\">sparks</w><n> </n><w o=\"123\">in</w><n> </n><w o=\"126\">my</w><n> </n><w o=\"129\">direction</w><n>,</n><n> </n><w o=\"140\">and</w><n> </n><w o=\"144\">that</w><n> </n><w o=\"149\">whenever</w><n> </n><w o=\"158\">I</w><n> </n><w o=\"160\">sang</w><n> </n><w o=\"165\">Old</w><n> </n><w o=\"169\">Clem</w><n>,</n><n> </n><w o=\"175\">he</w><n> </n><w o=\"178\">came</w><n> </n><w o=\"183\">in</w><n> </n><w o=\"186\">out</w><n> </n><w o=\"190\">of</w><n> </n><w o=\"193\">time</w><n>.</n></toks></s></p>\\n\\n<p pid=\"37\" id=\"GE.c15.p37\" eid=\"207\"><s sid=\"81\" id=\"GE.c15.s81\" eid=\"208\"><txt>Dolge Orlick was at work and present, next day, when I reminded Joe of my half-holiday.</txt><toks><w o=\"0\">Dolge</w><n> </n><w o=\"6\">Orlick</w><n> </n><w o=\"13\">was</w><n> </n><w o=\"17\">at</w><n> </n><w o=\"20\">work</w><n> </n><w o=\"25\">and</w><n> </n><w o=\"29\">present</w><n>,</n><n> </n><w o=\"38\">next</w><n> </n><w o=\"43\">day</w><n>,</n><n> </n><w o=\"48\">when</w><n> </n><w o=\"53\">I</w><n> </n><w o=\"55\">reminded</w><n> </n><w o=\"64\">Joe</w><n> </n><w o=\"68\">of</w><n> </n><w o=\"71\">my</w><n> </n><w o=\"74\">half-holiday</w><n>.</n></toks></s><s sid=\"82\" id=\"GE.c15.s82\" eid=\"209\"><txt>He said nothing at the moment, for he and Joe had just got a piece of hot iron between them, and I was at the bellows; but by-and-by he said, leaning on his hammer:</txt><toks><w o=\"0\">He</w><n> </n><w o=\"3\">said</w><n> </n><w o=\"8\">nothing</w><n> </n><w o=\"16\">at</w><n> </n><w o=\"19\">the</w><n> </n><w o=\"23\">moment</w><n>,</n><n> </n><w o=\"31\">for</w><n> </n><w o=\"35\">he</w><n> </n><w o=\"38\">and</w><n> </n><w o=\"42\">Joe</w><n> </n><w o=\"46\">had</w><n> </n><w o=\"50\">just</w><n> </n><w o=\"55\">got</w><n> </n><w o=\"59\">a</w><n> </n><w o=\"61\">piece</w><n> </n><w o=\"67\">of</w><n> </n><w o=\"70\">hot</w><n> </n><w o=\"74\">iron</w><n> </n><w o=\"79\">between</w><n> </n><w o=\"87\">them</w><n>,</n><n> </n><w o=\"93\">and</w><n> </n><w o=\"97\">I</w><n> </n><w o=\"99\">was</w><n> </n><w o=\"103\">at</w><n> </n><w o=\"106\">the</w><n> </n><w o=\"110\">bellows</w><n>;</n><n> </n><w o=\"119\">but</w><n> </n><w o=\"123\">by-and-by</w><n> </n><w o=\"133\">he</w><n> </n><w o=\"136\">said</w><n>,</n><n> </n><w o=\"142\">leaning</w><n> </n><w o=\"150\">on</w><n> </n><w o=\"153\">his</w><n> </n><w o=\"157\">hammer</w><n>:</n></toks></s></p>\\n\\n<p pid=\"38\" id=\"GE.c15.p38\" type=\"speech\" eid=\"210\"><s sid=\"83\" id=\"GE.c15.s83\" eid=\"211\"><txt>\"Now, master!</txt><toks><qs eid=\"212\" offset=\"9136\" wordOffset=\"1711\"/><n>\"</n><w o=\"1\">Now</w><n>,</n><n> </n><w o=\"6\">master</w><n>!</n></toks></s><s sid=\"84\" id=\"GE.c15.s84\" eid=\"213\"><txt>Sure you\\'re not a-going to favour only one of us.</txt><toks><w o=\"0\">Sure</w><n> </n><w o=\"5\">you\\'re</w><n> </n><w o=\"12\">not</w><n> </n><w o=\"16\">a-going</w><n> </n><w o=\"24\">to</w><n> </n><w o=\"27\">favour</w><n> </n><w o=\"34\">only</w><n> </n><w o=\"39\">one</w><n> </n><w o=\"43\">of</w><n> </n><w o=\"46\">us</w><n>.</n></toks></s><s sid=\"85\" id=\"GE.c15.s85\" eid=\"214\"><txt>If Young Pip has a half-holiday, do as much for Old Orlick.\"</txt><toks><w o=\"0\">If</w><n> </n><w o=\"3\">Young</w><n> </n><w o=\"9\">Pip</w><n> </n><w o=\"13\">has</w><n> </n><w o=\"17\">a</w><n> </n><w o=\"19\">half-holiday</w><n>,</n><n> </n><w o=\"33\">do</w><n> </n><w o=\"36\">as</w><n> </n><w o=\"39\">much</w><n> </n><w o=\"44\">for</w><n> </n><w o=\"48\">Old</w><n> </n><w o=\"52\">Orlick</w><n>.\"</n></toks></s><s sid=\"86\" id=\"GE.c15.s86\" eid=\"216\"><txt>I suppose he was about five-and-twenty, but he usually spoke of himself as an ancient person.</txt><toks><qe eid=\"215\" wordOffset=\"1735\" offset=\"9260\"/><w o=\"0\">I</w><n> </n><w o=\"2\">suppose</w><n> </n><w o=\"10\">he</w><n> </n><w o=\"13\">was</w><n> </n><w o=\"17\">about</w><n> </n><w o=\"23\">five-and-twenty</w><n>,</n><n> </n><w o=\"40\">but</w><n> </n><w o=\"44\">he</w><n> </n><w o=\"47\">usually</w><n> </n><w o=\"55\">spoke</w><n> </n><w o=\"61\">of</w><n> </n><w o=\"64\">himself</w><n> </n><w o=\"72\">as</w><n> </n><w o=\"75\">an</w><n> </n><w o=\"78\">ancient</w><n> </n><w o=\"86\">person</w><n>.</n></toks></s></p><p pid=\"39\" id=\"GE.c15.p39\" type=\"speech\" eid=\"217\"><s sid=\"87\" id=\"GE.c15.s87\" eid=\"218\"><txt>\"Why, what\\'ll you do with a half-holiday, if you get it?\" said Joe.</txt><toks><qs eid=\"219\" offset=\"9355\" wordOffset=\"1751\"/><n>\"</n><w o=\"1\">Why</w><n>,</n><n> </n><w o=\"6\">what\\'ll</w><n> </n><w o=\"14\">you</w><n> </n><w o=\"18\">do</w><n> </n><w o=\"21\">with</w><n> </n><w o=\"26\">a</w><n> </n><w o=\"28\">half-holiday</w><n>,</n><n> </n><w o=\"42\">if</w><n> </n><w o=\"45\">you</w><n> </n><w o=\"49\">get</w><n> </n><w o=\"53\">it</w><qe eid=\"220\" offset=\"9412\" wordOffset=\"1762\"/><n>?\"</n><n> </n><w o=\"58\">said</w><n> </n><w o=\"63\">Joe</w><n>.</n></toks></s></p><p pid=\"40\" id=\"GE.c15.p40\" type=\"speech\" eid=\"221\"><s sid=\"88\" id=\"GE.c15.s88\" eid=\"222\"><txt>\"What\\'ll I do with it!</txt><toks><qs eid=\"223\" offset=\"9423\" wordOffset=\"1764\"/><n>\"</n><w o=\"1\">What\\'ll</w><n> </n><w o=\"9\">I</w><n> </n><w o=\"11\">do</w><n> </n><w o=\"14\">with</w><n> </n><w o=\"19\">it</w><n>!</n></toks></s><s sid=\"89\" id=\"GE.c15.s89\" eid=\"224\"><txt>What\\'ll he do with it?</txt><toks><w o=\"0\">What\\'ll</w><n> </n><w o=\"8\">he</w><n> </n><w o=\"11\">do</w><n> </n><w o=\"14\">with</w><n> </n><w o=\"19\">it</w><n>?</n></toks></s><s sid=\"90\" id=\"GE.c15.s90\" eid=\"225\"><txt>I\\'ll do as much with it as him,\" said Orlick.</txt><toks><w o=\"0\">I\\'ll</w><n> </n><w o=\"5\">do</w><n> </n><w o=\"8\">as</w><n> </n><w o=\"11\">much</w><n> </n><w o=\"16\">with</w><n> </n><w o=\"21\">it</w><n> </n><w o=\"24\">as</w><n> </n><w o=\"27\">him</w><qe eid=\"226\" offset=\"9501\" wordOffset=\"1782\"/><n>,\"</n><n> </n><w o=\"33\">said</w><n> </n><w o=\"38\">Orlick</w><n>.</n></toks></s></p><p pid=\"41\" id=\"GE.c15.p41\" type=\"speech\" eid=\"227\"><s sid=\"91\" id=\"GE.c15.s91\" eid=\"228\"><txt>\"As to Pip, he\\'s going up-town,\" said Joe.</txt><toks><qs eid=\"229\" offset=\"9515\" wordOffset=\"1784\"/><n>\"</n><w o=\"1\">As</w><n> </n><w o=\"4\">to</w><n> </n><w o=\"7\">Pip</w><n>,</n><n> </n><w o=\"12\">he\\'s</w><n> </n><w o=\"17\">going</w><n> </n><w o=\"23\">up-town</w><qe eid=\"230\" offset=\"9547\" wordOffset=\"1790\"/><n>,\"</n><n> </n><w o=\"33\">said</w><n> </n><w o=\"38\">Joe</w><n>.</n></toks></s></p><p pid=\"42\" id=\"GE.c15.p42\" type=\"speech\" eid=\"231\"><s sid=\"92\" id=\"GE.c15.s92\" eid=\"232\"><txt>\"Well then, as to Old Orlick, he\\'s a-going up-town,\" retorted that worthy.</txt><toks><qs eid=\"233\" offset=\"9558\" wordOffset=\"1792\"/><n>\"</n><w o=\"1\">Well</w><n> </n><w o=\"6\">then</w><n>,</n><n> </n><w o=\"12\">as</w><n> </n><w o=\"15\">to</w><n> </n><w o=\"18\">Old</w><n> </n><w o=\"22\">Orlick</w><n>,</n><n> </n><w o=\"30\">he\\'s</w><n> </n><w o=\"35\">a-going</w><n> </n><w o=\"43\">up-town</w><qe eid=\"234\" offset=\"9610\" wordOffset=\"1801\"/><n>,\"</n><n> </n><w o=\"53\">retorted</w><n> </n><w o=\"62\">that</w><n> </n><w o=\"67\">worthy</w><n>.</n></toks></s><s sid=\"93\" id=\"GE.c15.s93\" eid=\"235\"><txt>\"Two can go up-town.</txt><toks><n>\"</n><w o=\"1\">Two</w><n> </n><w o=\"5\">can</w><n> </n><w o=\"9\">go</w><n> </n><w o=\"12\">up-town</w><n>.</n></toks></s><s sid=\"94\" id=\"GE.c15.s94\" eid=\"236\"><txt>Tan\\'t only one wot can go up-town.</txt><toks><w o=\"0\">Tan\\'t</w><n> </n><w o=\"6\">only</w><n> </n><w o=\"11\">one</w><n> </n><w o=\"15\">wot</w><n> </n><w o=\"19\">can</w><n> </n><w o=\"23\">go</w><n> </n><w o=\"26\">up-town</w><n>.</n></toks></s></p><p pid=\"43\" id=\"GE.c15.p43\" type=\"speech\" eid=\"237\"><s sid=\"95\" id=\"GE.c15.s95\" eid=\"238\"><txt>\"Don\\'t lose your temper,\" said Joe.</txt><toks><qs eid=\"239\" offset=\"9689\" wordOffset=\"1815\"/><n>\"</n><w o=\"1\">Don\\'t</w><n> </n><w o=\"7\">lose</w><n> </n><w o=\"12\">your</w><n> </n><w o=\"17\">temper</w><qe eid=\"240\" offset=\"9714\" wordOffset=\"1819\"/><n>,\"</n><n> </n><w o=\"26\">said</w><n> </n><w o=\"31\">Joe</w><n>.</n></toks></s></p><p pid=\"44\" id=\"GE.c15.p44\" type=\"speech\" eid=\"241\"><s sid=\"96\" id=\"GE.c15.s96\" eid=\"242\"><txt>\"Shall if I like,\" growled Orlick.</txt><toks><qs eid=\"243\" offset=\"9725\" wordOffset=\"1821\"/><n>\"</n><w o=\"1\">Shall</w><n> </n><w o=\"7\">if</w><n> </n><w o=\"10\">I</w><n> </n><w o=\"12\">like</w><qe eid=\"244\" offset=\"9743\" wordOffset=\"1825\"/><n>,\"</n><n> </n><w o=\"19\">growled</w><n> </n><w o=\"27\">Orlick</w><n>.</n></toks></s><s sid=\"97\" id=\"GE.c15.s97\" eid=\"245\"><txt>\"Some and their up-towning!</txt><toks><qs eid=\"246\" offset=\"9760\" wordOffset=\"1827\"/><n>\"</n><w o=\"1\">Some</w><n> </n><w o=\"6\">and</w><n> </n><w o=\"10\">their</w><n> </n><w o=\"16\">up-towning</w><n>!</n></toks></s><s sid=\"98\" id=\"GE.c15.s98\" eid=\"247\"><txt>Now, master!</txt><toks><w o=\"0\">Now</w><n>,</n><n> </n><w o=\"5\">master</w><n>!</n></toks></s><s sid=\"99\" id=\"GE.c15.s99\" eid=\"248\"><txt>Come.</txt><toks><w o=\"0\">Come</w><n>.</n></toks></s><s sid=\"100\" id=\"GE.c15.s100\" eid=\"249\"><txt>No favouring in this shop.</txt><toks><w o=\"0\">No</w><n> </n><w o=\"3\">favouring</w><n> </n><w o=\"13\">in</w><n> </n><w o=\"16\">this</w><n> </n><w o=\"21\">shop</w><n>.</n></toks></s><s sid=\"101\" id=\"GE.c15.s101\" eid=\"250\"><txt>Be a man!\"</txt><toks><w o=\"0\">Be</w><n> </n><w o=\"3\">a</w><n> </n><w o=\"5\">man</w><n>!\"</n></toks></s></p><p pid=\"45\" id=\"GE.c15.p45\" eid=\"252\"><s sid=\"102\" id=\"GE.c15.s102\" eid=\"253\"><txt>The master refusing to entertain the subject until the journeyman was in a better temper, Orlick plunged at the furnace, drew out a red-hot bar, made at me with it as if he were going to run it through my body, whisked it round my head, laid it on the anvil, hammered it out - as if it were I, I thought, and the sparks were my spirting blood - and finally said, when he had hammered himself hot and the iron cold, and he again leaned on his hammer:</txt><toks><qe eid=\"251\" wordOffset=\"1842\" offset=\"9844\"/><w o=\"0\">The</w><n> </n><w o=\"4\">master</w><n> </n><w o=\"11\">refusing</w><n> </n><w o=\"20\">to</w><n> </n><w o=\"23\">entertain</w><n> </n><w o=\"33\">the</w><n> </n><w o=\"37\">subject</w><n> </n><w o=\"45\">until</w><n> </n><w o=\"51\">the</w><n> </n><w o=\"55\">journeyman</w><n> </n><w o=\"66\">was</w><n> </n><w o=\"70\">in</w><n> </n><w o=\"73\">a</w><n> </n><w o=\"75\">better</w><n> </n><w o=\"82\">temper</w><n>,</n><n> </n><w o=\"90\">Orlick</w><n> </n><w o=\"97\">plunged</w><n> </n><w o=\"105\">at</w><n> </n><w o=\"108\">the</w><n> </n><w o=\"112\">furnace</w><n>,</n><n> </n><w o=\"121\">drew</w><n> </n><w o=\"126\">out</w><n> </n><w o=\"130\">a</w><n> </n><w o=\"132\">red-hot</w><n> </n><w o=\"140\">bar</w><n>,</n><n> </n><w o=\"145\">made</w><n> </n><w o=\"150\">at</w><n> </n><w o=\"153\">me</w><n> </n><w o=\"156\">with</w><n> </n><w o=\"161\">it</w><n> </n><w o=\"164\">as</w><n> </n><w o=\"167\">if</w><n> </n><w o=\"170\">he</w><n> </n><w o=\"173\">were</w><n> </n><w o=\"178\">going</w><n> </n><w o=\"184\">to</w><n> </n><w o=\"187\">run</w><n> </n><w o=\"191\">it</w><n> </n><w o=\"194\">through</w><n> </n><w o=\"202\">my</w><n> </n><w o=\"205\">body</w><n>,</n><n> </n><w o=\"211\">whisked</w><n> </n><w o=\"219\">it</w><n> </n><w o=\"222\">round</w><n> </n><w o=\"228\">my</w><n> </n><w o=\"231\">head</w><n>,</n><n> </n><w o=\"237\">laid</w><n> </n><w o=\"242\">it</w><n> </n><w o=\"245\">on</w><n> </n><w o=\"248\">the</w><n> </n><w o=\"252\">anvil</w><n>,</n><n> </n><w o=\"259\">hammered</w><n> </n><w o=\"268\">it</w><n> </n><w o=\"271\">out</w><n> </n><n>-</n><n> </n><w o=\"277\">as</w><n> </n><w o=\"280\">if</w><n> </n><w o=\"283\">it</w><n> </n><w o=\"286\">were</w><n> </n><w o=\"291\">I</w><n>,</n><n> </n><w o=\"294\">I</w><n> </n><w o=\"296\">thought</w><n>,</n><n> </n><w o=\"305\">and</w><n> </n><w o=\"309\">the</w><n> </n><w o=\"313\">sparks</w><n> </n><w o=\"320\">were</w><n> </n><w o=\"325\">my</w><n> </n><w o=\"328\">spirting</w><n> </n><w o=\"337\">blood</w><n> </n><n>-</n><n> </n><w o=\"345\">and</w><n> </n><w o=\"349\">finally</w><n> </n><w o=\"357\">said</w><n>,</n><n> </n><w o=\"363\">when</w><n> </n><w o=\"368\">he</w><n> </n><w o=\"371\">had</w><n> </n><w o=\"375\">hammered</w><n> </n><w o=\"384\">himself</w><n> </n><w o=\"392\">hot</w><n> </n><w o=\"396\">and</w><n> </n><w o=\"400\">the</w><n> </n><w o=\"404\">iron</w><n> </n><w o=\"409\">cold</w><n>,</n><n> </n><w o=\"415\">and</w><n> </n><w o=\"419\">he</w><n> </n><w o=\"422\">again</w><n> </n><w o=\"428\">leaned</w><n> </n><w o=\"435\">on</w><n> </n><w o=\"438\">his</w><n> </n><w o=\"442\">hammer</w><n>:</n></toks></s></p>\\n\\n<p pid=\"46\" id=\"GE.c15.p46\" type=\"speech\" eid=\"254\"><s sid=\"103\" id=\"GE.c15.s103\" eid=\"255\"><txt>\"Now, master!\"</txt><toks><qs eid=\"256\" offset=\"10295\" wordOffset=\"1930\"/><n>\"</n><w o=\"1\">Now</w><n>,</n><n> </n><w o=\"6\">master</w><n>!\"</n></toks></s></p><p pid=\"47\" id=\"GE.c15.p47\" type=\"speech\" eid=\"258\"><s sid=\"104\" id=\"GE.c15.s104\" eid=\"259\"><txt>\"Are you all right now?\" demanded Joe.</txt><toks><qe eid=\"257\" wordOffset=\"1932\" offset=\"10310\"/><qs eid=\"260\" offset=\"10310\" wordOffset=\"1932\"/><n>\"</n><w o=\"1\">Are</w><n> </n><w o=\"5\">you</w><n> </n><w o=\"9\">all</w><n> </n><w o=\"13\">right</w><n> </n><w o=\"19\">now</w><qe eid=\"261\" offset=\"10334\" wordOffset=\"1937\"/><n>?\"</n><n> </n><w o=\"25\">demanded</w><n> </n><w o=\"34\">Joe</w><n>.</n></toks></s></p><p pid=\"48\" id=\"GE.c15.p48\" type=\"speech\" eid=\"262\"><s sid=\"105\" id=\"GE.c15.s105\" eid=\"263\"><txt>\"Ah!</txt><toks><qs eid=\"264\" offset=\"10349\" wordOffset=\"1939\"/><n>\"</n><w o=\"1\">Ah</w><n>!</n></toks></s><s sid=\"106\" id=\"GE.c15.s106\" eid=\"265\"><txt>I am all right,\" said gruff Old Orlick.</txt><toks><w o=\"0\">I</w><n> </n><w o=\"2\">am</w><n> </n><w o=\"5\">all</w><n> </n><w o=\"9\">right</w><qe eid=\"266\" offset=\"10370\" wordOffset=\"1944\"/><n>,\"</n><n> </n><w o=\"17\">said</w><n> </n><w o=\"22\">gruff</w><n> </n><w o=\"28\">Old</w><n> </n><w o=\"32\">Orlick</w><n>.</n></toks></s></p><p pid=\"49\" id=\"GE.c15.p49\" type=\"speech\" eid=\"267\"><s sid=\"107\" id=\"GE.c15.s107\" eid=\"268\"><txt>\"Then, as in general you stick to your work as well as most men,\" said Joe, \"let it be a half-holiday for all.\"</txt><toks><qs eid=\"269\" offset=\"10394\" wordOffset=\"1948\"/><n>\"</n><w o=\"1\">Then</w><n>,</n><n> </n><w o=\"7\">as</w><n> </n><w o=\"10\">in</w><n> </n><w o=\"13\">general</w><n> </n><w o=\"21\">you</w><n> </n><w o=\"25\">stick</w><n> </n><w o=\"31\">to</w><n> </n><w o=\"34\">your</w><n> </n><w o=\"39\">work</w><n> </n><w o=\"44\">as</w><n> </n><w o=\"47\">well</w><n> </n><w o=\"52\">as</w><n> </n><w o=\"55\">most</w><n> </n><w o=\"60\">men</w><qe eid=\"270\" offset=\"10459\" wordOffset=\"1962\"/><sss eid=\"271\" offset=\"10459\" wordOffset=\"1962\"/><n>,\"</n><n> </n><w o=\"66\">said</w><n> </n><w o=\"71\">Joe</w><sse eid=\"272\" offset=\"10470\" wordOffset=\"1964\"/><qs eid=\"273\" offset=\"10470\" wordOffset=\"1964\"/><n>,</n><n> </n><n>\"</n><w o=\"77\">let</w><n> </n><w o=\"81\">it</w><n> </n><w o=\"84\">be</w><n> </n><w o=\"87\">a</w><n> </n><w o=\"89\">half-holiday</w><n> </n><w o=\"102\">for</w><n> </n><w o=\"106\">all</w><n>.\"</n></toks></s></p><p pid=\"50\" id=\"GE.c15.p50\" eid=\"275\"><s sid=\"108\" id=\"GE.c15.s108\" eid=\"276\"><txt>My sister had been standing silent in the yard, within hearing - she was a most unscrupulous spy and listener - and she instantly looked in at one of the windows.</txt><toks><qe eid=\"274\" wordOffset=\"1971\" offset=\"10505\"/><w o=\"0\">My</w><n> </n><w o=\"3\">sister</w><n> </n><w o=\"10\">had</w><n> </n><w o=\"14\">been</w><n> </n><w o=\"19\">standing</w><n> </n><w o=\"28\">silent</w><n> </n><w o=\"35\">in</w><n> </n><w o=\"38\">the</w><n> </n><w o=\"42\">yard</w><n>,</n><n> </n><w o=\"48\">within</w><n> </n><w o=\"55\">hearing</w><n> </n><n>-</n><n> </n><w o=\"65\">she</w><n> </n><w o=\"69\">was</w><n> </n><w o=\"73\">a</w><n> </n><w o=\"75\">most</w><n> </n><w o=\"80\">unscrupulous</w><n> </n><w o=\"93\">spy</w><n> </n><w o=\"97\">and</w><n> </n><w o=\"101\">listener</w><n> </n><n>-</n><n> </n><w o=\"112\">and</w><n> </n><w o=\"116\">she</w><n> </n><w o=\"120\">instantly</w><n> </n><w o=\"130\">looked</w><n> </n><w o=\"137\">in</w><n> </n><w o=\"140\">at</w><n> </n><w o=\"143\">one</w><n> </n><w o=\"147\">of</w><n> </n><w o=\"150\">the</w><n> </n><w o=\"154\">windows</w><n>.</n></toks></s></p>\\n\\n<p pid=\"51\" id=\"GE.c15.p51\" type=\"speech\" eid=\"277\"><s sid=\"109\" id=\"GE.c15.s109\" eid=\"278\"><txt>\"Like you, you fool!\" said she to Joe, \"giving holidays to great idle hulkers like that.</txt><toks><qs eid=\"279\" offset=\"10669\" wordOffset=\"2000\"/><n>\"</n><w o=\"1\">Like</w><n> </n><w o=\"6\">you</w><n>,</n><n> </n><w o=\"11\">you</w><n> </n><w o=\"15\">fool</w><qe eid=\"280\" offset=\"10690\" wordOffset=\"2004\"/><sss eid=\"281\" offset=\"10690\" wordOffset=\"2004\"/><n>!\"</n><n> </n><w o=\"22\">said</w><n> </n><w o=\"27\">she</w><n> </n><w o=\"31\">to</w><n> </n><w o=\"34\">Joe</w><sse eid=\"282\" offset=\"10708\" wordOffset=\"2008\"/><qs eid=\"283\" offset=\"10708\" wordOffset=\"2008\"/><n>,</n><n> </n><n>\"</n><w o=\"40\">giving</w><n> </n><w o=\"47\">holidays</w><n> </n><w o=\"56\">to</w><n> </n><w o=\"59\">great</w><n> </n><w o=\"65\">idle</w><n> </n><w o=\"70\">hulkers</w><n> </n><w o=\"78\">like</w><n> </n><w o=\"83\">that</w><n>.</n></toks></s><s sid=\"110\" id=\"GE.c15.s110\" eid=\"284\"><txt>You are a rich man, upon my life, to waste wages in that way.</txt><toks><w o=\"0\">You</w><n> </n><w o=\"4\">are</w><n> </n><w o=\"8\">a</w><n> </n><w o=\"10\">rich</w><n> </n><w o=\"15\">man</w><n>,</n><n> </n><w o=\"20\">upon</w><n> </n><w o=\"25\">my</w><n> </n><w o=\"28\">life</w><n>,</n><n> </n><w o=\"34\">to</w><n> </n><w o=\"37\">waste</w><n> </n><w o=\"43\">wages</w><n> </n><w o=\"49\">in</w><n> </n><w o=\"52\">that</w><n> </n><w o=\"57\">way</w><n>.</n></toks></s><s sid=\"111\" id=\"GE.c15.s111\" eid=\"285\"><txt>I wish I was his master!\"</txt><toks><w o=\"0\">I</w><n> </n><w o=\"2\">wish</w><n> </n><w o=\"7\">I</w><n> </n><w o=\"9\">was</w><n> </n><w o=\"13\">his</w><n> </n><w o=\"17\">master</w><n>!\"</n></toks></s></p><p pid=\"52\" id=\"GE.c15.p52\" type=\"speech\" eid=\"287\"><s sid=\"112\" id=\"GE.c15.s112\" eid=\"288\"><txt>\"You\\'d be everybody\\'s master, if you durst,\" retorted Orlick, with an ill-favoured grin.</txt><toks><qe eid=\"286\" wordOffset=\"2036\" offset=\"10846\"/><qs eid=\"289\" offset=\"10846\" wordOffset=\"2036\"/><n>\"</n><w o=\"1\">You\\'d</w><n> </n><w o=\"7\">be</w><n> </n><w o=\"10\">everybody\\'s</w><n> </n><w o=\"22\">master</w><n>,</n><n> </n><w o=\"30\">if</w><n> </n><w o=\"33\">you</w><n> </n><w o=\"37\">durst</w><qe eid=\"290\" offset=\"10890\" wordOffset=\"2043\"/><n>,\"</n><n> </n><w o=\"45\">retorted</w><n> </n><w o=\"54\">Orlick</w><n>,</n><n> </n><w o=\"62\">with</w><n> </n><w o=\"67\">an</w><n> </n><w o=\"70\">ill-favoured</w><n> </n><w o=\"83\">grin</w><n>.</n></toks></s></p><p pid=\"53\" id=\"GE.c15.p53\" type=\"speech\" eid=\"291\"><s sid=\"113\" id=\"GE.c15.s113\" eid=\"292\"><txt>( \"Let her alone,\" said Joe.)</txt><toks><qs eid=\"293\" offset=\"10937\" wordOffset=\"2049\"/><n>(</n><n> </n><n>\"</n><w o=\"3\">Let</w><n> </n><w o=\"7\">her</w><n> </n><w o=\"11\">alone</w><qe eid=\"294\" offset=\"10953\" wordOffset=\"2052\"/><n>,\"</n><n> </n><w o=\"19\">said</w><n> </n><w o=\"24\">Joe</w><n>.)</n></toks></s></p><p pid=\"54\" id=\"GE.c15.p54\" type=\"speech\" eid=\"295\"><s sid=\"114\" id=\"GE.c15.s114\" eid=\"296\"><txt>\"I\\'d be a match for all noodles and all rogues,\" returned my sister, beginning to work herself into a mighty rage.</txt><toks><qs eid=\"297\" offset=\"10965\" wordOffset=\"2054\"/><n>\"</n><w o=\"1\">I\\'d</w><n> </n><w o=\"5\">be</w><n> </n><w o=\"8\">a</w><n> </n><w o=\"10\">match</w><n> </n><w o=\"16\">for</w><n> </n><w o=\"20\">all</w><n> </n><w o=\"24\">noodles</w><n> </n><w o=\"32\">and</w><n> </n><w o=\"36\">all</w><n> </n><w o=\"40\">rogues</w><qe eid=\"298\" offset=\"11013\" wordOffset=\"2064\"/><n>,\"</n><n> </n><w o=\"49\">returned</w><n> </n><w o=\"58\">my</w><n> </n><w o=\"61\">sister</w><n>,</n><n> </n><w o=\"69\">beginning</w><n> </n><w o=\"79\">to</w><n> </n><w o=\"82\">work</w><n> </n><w o=\"87\">herself</w><n> </n><w o=\"95\">into</w><n> </n><w o=\"100\">a</w><n> </n><w o=\"102\">mighty</w><n> </n><w o=\"109\">rage</w><n>.</n></toks></s><s sid=\"115\" id=\"GE.c15.s115\" eid=\"299\"><txt>\"And I couldn\\'t be a match for the noodles, without being a match for your master, who\\'s the dunder-headed king of the noodles.</txt><toks><qs eid=\"300\" offset=\"11080\" wordOffset=\"2075\"/><n>\"</n><w o=\"1\">And</w><n> </n><w o=\"5\">I</w><n> </n><w o=\"7\">couldn\\'t</w><n> </n><w o=\"16\">be</w><n> </n><w o=\"19\">a</w><n> </n><w o=\"21\">match</w><n> </n><w o=\"27\">for</w><n> </n><w o=\"31\">the</w><n> </n><w o=\"35\">noodles</w><n>,</n><n> </n><w o=\"44\">without</w><n> </n><w o=\"52\">being</w><n> </n><w o=\"58\">a</w><n> </n><w o=\"60\">match</w><n> </n><w o=\"66\">for</w><n> </n><w o=\"70\">your</w><n> </n><w o=\"75\">master</w><n>,</n><n> </n><w o=\"83\">who\\'s</w><n> </n><w o=\"89\">the</w><n> </n><w o=\"93\">dunder-headed</w><n> </n><w o=\"107\">king</w><n> </n><w o=\"112\">of</w><n> </n><w o=\"115\">the</w><n> </n><w o=\"119\">noodles</w><n>.</n></toks></s><s sid=\"116\" id=\"GE.c15.s116\" eid=\"301\"><txt>And I couldn\\'t be a match for the rogues, without being a match for you, who are the blackest-looking and the worst rogue between this and France.</txt><toks><w o=\"0\">And</w><n> </n><w o=\"4\">I</w><n> </n><w o=\"6\">couldn\\'t</w><n> </n><w o=\"15\">be</w><n> </n><w o=\"18\">a</w><n> </n><w o=\"20\">match</w><n> </n><w o=\"26\">for</w><n> </n><w o=\"30\">the</w><n> </n><w o=\"34\">rogues</w><n>,</n><n> </n><w o=\"42\">without</w><n> </n><w o=\"50\">being</w><n> </n><w o=\"56\">a</w><n> </n><w o=\"58\">match</w><n> </n><w o=\"64\">for</w><n> </n><w o=\"68\">you</w><n>,</n><n> </n><w o=\"73\">who</w><n> </n><w o=\"77\">are</w><n> </n><w o=\"81\">the</w><n> </n><w o=\"85\">blackest-looking</w><n> </n><w o=\"102\">and</w><n> </n><w o=\"106\">the</w><n> </n><w o=\"110\">worst</w><n> </n><w o=\"116\">rogue</w><n> </n><w o=\"122\">between</w><n> </n><w o=\"130\">this</w><n> </n><w o=\"135\">and</w><n> </n><w o=\"139\">France</w><n>.</n></toks></s><s sid=\"117\" id=\"GE.c15.s117\" eid=\"302\"><txt>Now!\"</txt><toks><w o=\"0\">Now</w><n>!\"</n></toks></s></p><p pid=\"55\" id=\"GE.c15.p55\" type=\"speech\" eid=\"304\"><s sid=\"118\" id=\"GE.c15.s118\" eid=\"305\"><txt>\"You\\'re a foul shrew, Mother Gargery,\" growled the journeyman.</txt><toks><qe eid=\"303\" wordOffset=\"2126\" offset=\"11361\"/><qs eid=\"306\" offset=\"11361\" wordOffset=\"2126\"/><n>\"</n><w o=\"1\">You\\'re</w><n> </n><w o=\"8\">a</w><n> </n><w o=\"10\">foul</w><n> </n><w o=\"15\">shrew</w><n>,</n><n> </n><w o=\"22\">Mother</w><n> </n><w o=\"29\">Gargery</w><qe eid=\"307\" offset=\"11399\" wordOffset=\"2132\"/><n>,\"</n><n> </n><w o=\"39\">growled</w><n> </n><w o=\"47\">the</w><n> </n><w o=\"51\">journeyman</w><n>.</n></toks></s><s sid=\"119\" id=\"GE.c15.s119\" eid=\"308\"><txt>\"If that makes a judge of rogues, you ought to be a good\\'un.\"</txt><toks><qs eid=\"309\" offset=\"11424\" wordOffset=\"2135\"/><n>\"</n><w o=\"1\">If</w><n> </n><w o=\"4\">that</w><n> </n><w o=\"9\">makes</w><n> </n><w o=\"15\">a</w><n> </n><w o=\"17\">judge</w><n> </n><w o=\"23\">of</w><n> </n><w o=\"26\">rogues</w><n>,</n><n> </n><w o=\"34\">you</w><n> </n><w o=\"38\">ought</w><n> </n><w o=\"44\">to</w><n> </n><w o=\"47\">be</w><n> </n><w o=\"50\">a</w><n> </n><w o=\"52\">good</w><n>\\'</n><w o=\"57\">un</w><n>.\"</n></toks></s></p><p pid=\"56\" id=\"GE.c15.p56\" type=\"speech\" eid=\"311\"><s sid=\"120\" id=\"GE.c15.s120\" eid=\"312\"><txt>( \"Let her alone, will you?\" said Joe.)</txt><toks><qe eid=\"310\" wordOffset=\"2149\" offset=\"11488\"/><qs eid=\"313\" offset=\"11488\" wordOffset=\"2149\"/><n>(</n><n> </n><n>\"</n><w o=\"3\">Let</w><n> </n><w o=\"7\">her</w><n> </n><w o=\"11\">alone</w><n>,</n><n> </n><w o=\"18\">will</w><n> </n><w o=\"23\">you</w><qe eid=\"314\" offset=\"11514\" wordOffset=\"2154\"/><n>?\"</n><n> </n><w o=\"29\">said</w><n> </n><w o=\"34\">Joe</w><n>.)</n></toks></s></p><p pid=\"57\" id=\"GE.c15.p57\" type=\"speech\" eid=\"315\"><s sid=\"121\" id=\"GE.c15.s121\" eid=\"316\"><txt>\"What did you say?\" cried my sister, beginning to scream.</txt><toks><qs eid=\"317\" offset=\"11526\" wordOffset=\"2156\"/><n>\"</n><w o=\"1\">What</w><n> </n><w o=\"6\">did</w><n> </n><w o=\"10\">you</w><n> </n><w o=\"14\">say</w><qe eid=\"318\" offset=\"11545\" wordOffset=\"2160\"/><n>?\"</n><n> </n><w o=\"20\">cried</w><n> </n><w o=\"26\">my</w><n> </n><w o=\"29\">sister</w><n>,</n><n> </n><w o=\"37\">beginning</w><n> </n><w o=\"47\">to</w><n> </n><w o=\"50\">scream</w><n>.</n></toks></s><s sid=\"122\" id=\"GE.c15.s122\" eid=\"319\"><txt>\"What did you say?</txt><toks><qs eid=\"320\" offset=\"11584\" wordOffset=\"2166\"/><n>\"</n><w o=\"1\">What</w><n> </n><w o=\"6\">did</w><n> </n><w o=\"10\">you</w><n> </n><w o=\"14\">say</w><n>?</n></toks></s><s sid=\"123\" id=\"GE.c15.s123\" eid=\"321\"><txt>What did that fellow Orlick say to me, Pip?</txt><toks><w o=\"0\">What</w><n> </n><w o=\"5\">did</w><n> </n><w o=\"9\">that</w><n> </n><w o=\"14\">fellow</w><n> </n><w o=\"21\">Orlick</w><n> </n><w o=\"28\">say</w><n> </n><w o=\"32\">to</w><n> </n><w o=\"35\">me</w><n>,</n><n> </n><w o=\"39\">Pip</w><n>?</n></toks></s><s sid=\"124\" id=\"GE.c15.s124\" eid=\"322\"><txt>What did he call me, with my husband standing by?</txt><toks><w o=\"0\">What</w><n> </n><w o=\"5\">did</w><n> </n><w o=\"9\">he</w><n> </n><w o=\"12\">call</w><n> </n><w o=\"17\">me</w><n>,</n><n> </n><w o=\"21\">with</w><n> </n><w o=\"26\">my</w><n> </n><w o=\"29\">husband</w><n> </n><w o=\"37\">standing</w><n> </n><w o=\"46\">by</w><n>?</n></toks></s><s sid=\"125\" id=\"GE.c15.s125\" eid=\"323\"><txt>O!</txt><toks><w o=\"0\">O</w><n>!</n></toks></s><s sid=\"126\" id=\"GE.c15.s126\" eid=\"324\"><txt>O!</txt><toks><w o=\"0\">O</w><n>!</n></toks></s><s sid=\"127\" id=\"GE.c15.s127\" eid=\"325\"><txt>O!\"</txt><toks><w o=\"0\">O</w><n>!\"</n></toks></s><s sid=\"128\" id=\"GE.c15.s128\" eid=\"327\"><txt>Each of these exclamations was a shriek; and I must remark of my sister, what is equally true of all the violent women I have ever seen, that passion was no excuse for her, because it is undeniable that instead of lapsing into passion, she consciously and deliberately took extraordinary pains to force herself into it, and became blindly furious by regular stages; \"what was the name he gave me before the base man who swore to defend me?</txt><toks><qe eid=\"326\" wordOffset=\"2192\" offset=\"11706\"/><w o=\"0\">Each</w><n> </n><w o=\"5\">of</w><n> </n><w o=\"8\">these</w><n> </n><w o=\"14\">exclamations</w><n> </n><w o=\"27\">was</w><n> </n><w o=\"31\">a</w><n> </n><w o=\"33\">shriek</w><n>;</n><n> </n><w o=\"41\">and</w><n> </n><w o=\"45\">I</w><n> </n><w o=\"47\">must</w><n> </n><w o=\"52\">remark</w><n> </n><w o=\"59\">of</w><n> </n><w o=\"62\">my</w><n> </n><w o=\"65\">sister</w><n>,</n><n> </n><w o=\"73\">what</w><n> </n><w o=\"78\">is</w><n> </n><w o=\"81\">equally</w><n> </n><w o=\"89\">true</w><n> </n><w o=\"94\">of</w><n> </n><w o=\"97\">all</w><n> </n><w o=\"101\">the</w><n> </n><w o=\"105\">violent</w><n> </n><w o=\"113\">women</w><n> </n><w o=\"119\">I</w><n> </n><w o=\"121\">have</w><n> </n><w o=\"126\">ever</w><n> </n><w o=\"131\">seen</w><n>,</n><n> </n><w o=\"137\">that</w><n> </n><w o=\"142\">passion</w><n> </n><w o=\"150\">was</w><n> </n><w o=\"154\">no</w><n> </n><w o=\"157\">excuse</w><n> </n><w o=\"164\">for</w><n> </n><w o=\"168\">her</w><n>,</n><n> </n><w o=\"173\">because</w><n> </n><w o=\"181\">it</w><n> </n><w o=\"184\">is</w><n> </n><w o=\"187\">undeniable</w><n> </n><w o=\"198\">that</w><n> </n><w o=\"203\">instead</w><n> </n><w o=\"211\">of</w><n> </n><w o=\"214\">lapsing</w><n> </n><w o=\"222\">into</w><n> </n><w o=\"227\">passion</w><n>,</n><n> </n><w o=\"236\">she</w><n> </n><w o=\"240\">consciously</w><n> </n><w o=\"252\">and</w><n> </n><w o=\"256\">deliberately</w><n> </n><w o=\"269\">took</w><n> </n><w o=\"274\">extraordinary</w><n> </n><w o=\"288\">pains</w><n> </n><w o=\"294\">to</w><n> </n><w o=\"297\">force</w><n> </n><w o=\"303\">herself</w><n> </n><w o=\"311\">into</w><n> </n><w o=\"316\">it</w><n>,</n><n> </n><w o=\"320\">and</w><n> </n><w o=\"324\">became</w><n> </n><w o=\"331\">blindly</w><n> </n><w o=\"339\">furious</w><n> </n><w o=\"347\">by</w><n> </n><w o=\"350\">regular</w><n> </n><w o=\"358\">stages</w><qs eid=\"328\" offset=\"12073\" wordOffset=\"2255\"/><n>;</n><n> </n><n>\"</n><w o=\"367\">what</w><n> </n><w o=\"372\">was</w><n> </n><w o=\"376\">the</w><n> </n><w o=\"380\">name</w><n> </n><w o=\"385\">he</w><n> </n><w o=\"388\">gave</w><n> </n><w o=\"393\">me</w><n> </n><w o=\"396\">before</w><n> </n><w o=\"403\">the</w><n> </n><w o=\"407\">base</w><n> </n><w o=\"412\">man</w><n> </n><w o=\"416\">who</w><n> </n><w o=\"420\">swore</w><n> </n><w o=\"426\">to</w><n> </n><w o=\"429\">defend</w><n> </n><w o=\"436\">me</w><n>?</n></toks></s><s sid=\"129\" id=\"GE.c15.s129\" eid=\"329\"><txt>O!</txt><toks><w o=\"0\">O</w><n>!</n></toks></s><s sid=\"130\" id=\"GE.c15.s130\" eid=\"330\"><txt>Hold me!</txt><toks><w o=\"0\">Hold</w><n> </n><w o=\"5\">me</w><n>!</n></toks></s><s sid=\"131\" id=\"GE.c15.s131\" eid=\"331\"><txt>O!\"</txt><toks><w o=\"0\">O</w><n>!\"</n></toks></s></p><p pid=\"58\" id=\"GE.c15.p58\" type=\"speech\" eid=\"333\"><s sid=\"132\" id=\"GE.c15.s132\" eid=\"334\"><txt>\"Ah-h-h!\" growled the journeyman, between his teeth, \"I\\'d hold you, if you was my wife.</txt><toks><qe eid=\"332\" wordOffset=\"2275\" offset=\"12163\"/><qs eid=\"335\" offset=\"12163\" wordOffset=\"2275\"/><n>\"</n><w o=\"1\">Ah-h-h</w><qe eid=\"336\" offset=\"12172\" wordOffset=\"2276\"/><sls eid=\"337\" offset=\"12172\" wordOffset=\"2276\"/><n>!\"</n><n> </n><w o=\"10\">growled</w><n> </n><w o=\"18\">the</w><n> </n><w o=\"22\">journeyman</w><n>,</n><n> </n><w o=\"34\">between</w><n> </n><w o=\"42\">his</w><n> </n><w o=\"46\">teeth</w><sle eid=\"338\" offset=\"12216\" wordOffset=\"2282\"/><qs eid=\"339\" offset=\"12216\" wordOffset=\"2282\"/><n>,</n><n> </n><n>\"</n><w o=\"54\">I\\'d</w><n> </n><w o=\"58\">hold</w><n> </n><w o=\"63\">you</w><n>,</n><n> </n><w o=\"68\">if</w><n> </n><w o=\"71\">you</w><n> </n><w o=\"75\">was</w><n> </n><w o=\"79\">my</w><n> </n><w o=\"82\">wife</w><n>.</n></toks></s><s sid=\"133\" id=\"GE.c15.s133\" eid=\"340\"><txt>I\\'d hold you under the pump, and choke it out of you.\"</txt><toks><w o=\"0\">I\\'d</w><n> </n><w o=\"4\">hold</w><n> </n><w o=\"9\">you</w><n> </n><w o=\"13\">under</w><n> </n><w o=\"19\">the</w><n> </n><w o=\"23\">pump</w><n>,</n><n> </n><w o=\"29\">and</w><n> </n><w o=\"33\">choke</w><n> </n><w o=\"39\">it</w><n> </n><w o=\"42\">out</w><n> </n><w o=\"46\">of</w><n> </n><w o=\"49\">you</w><n>.\"</n></toks></s></p><p pid=\"59\" id=\"GE.c15.p59\" type=\"speech\" eid=\"342\"><s sid=\"134\" id=\"GE.c15.s134\" eid=\"343\"><txt>( \"I tell you, let her alone,\" said Joe.)</txt><toks><qe eid=\"341\" wordOffset=\"2302\" offset=\"12308\"/><qs eid=\"344\" offset=\"12308\" wordOffset=\"2302\"/><n>(</n><n> </n><n>\"</n><w o=\"3\">I</w><n> </n><w o=\"5\">tell</w><n> </n><w o=\"10\">you</w><n>,</n><n> </n><w o=\"15\">let</w><n> </n><w o=\"19\">her</w><n> </n><w o=\"23\">alone</w><qe eid=\"345\" offset=\"12336\" wordOffset=\"2308\"/><n>,\"</n><n> </n><w o=\"31\">said</w><n> </n><w o=\"36\">Joe</w><n>.)</n></toks></s></p><p pid=\"60\" id=\"GE.c15.p60\" type=\"speech\" eid=\"346\"><s sid=\"135\" id=\"GE.c15.s135\" eid=\"347\"><txt>\"Oh!</txt><toks><qs eid=\"348\" offset=\"12348\" wordOffset=\"2310\"/><n>\"</n><w o=\"1\">Oh</w><n>!</n></toks></s><s sid=\"136\" id=\"GE.c15.s136\" eid=\"349\"><txt>To hear him!\" cried my sister, with a clap of her hands and a scream together - which was her next stage.</txt><toks><w o=\"0\">To</w><n> </n><w o=\"3\">hear</w><n> </n><w o=\"8\">him</w><qe eid=\"350\" offset=\"12366\" wordOffset=\"2314\"/><n>!\"</n><n> </n><w o=\"14\">cried</w><n> </n><w o=\"20\">my</w><n> </n><w o=\"23\">sister</w><n>,</n><n> </n><w o=\"31\">with</w><n> </n><w o=\"36\">a</w><n> </n><w o=\"38\">clap</w><n> </n><w o=\"43\">of</w><n> </n><w o=\"46\">her</w><n> </n><w o=\"50\">hands</w><n> </n><w o=\"56\">and</w><n> </n><w o=\"60\">a</w><n> </n><w o=\"62\">scream</w><n> </n><w o=\"69\">together</w><n> </n><n>-</n><n> </n><w o=\"80\">which</w><n> </n><w o=\"86\">was</w><n> </n><w o=\"90\">her</w><n> </n><w o=\"94\">next</w><n> </n><w o=\"99\">stage</w><n>.</n></toks></s><s sid=\"137\" id=\"GE.c15.s137\" eid=\"351\"><txt>\"To hear the names he\\'s giving me!</txt><toks><qs eid=\"352\" offset=\"12459\" wordOffset=\"2332\"/><n>\"</n><w o=\"1\">To</w><n> </n><w o=\"4\">hear</w><n> </n><w o=\"9\">the</w><n> </n><w o=\"13\">names</w><n> </n><w o=\"19\">he\\'s</w><n> </n><w o=\"24\">giving</w><n> </n><w o=\"31\">me</w><n>!</n></toks></s><s sid=\"138\" id=\"GE.c15.s138\" eid=\"353\"><txt>That Orlick!</txt><toks><w o=\"0\">That</w><n> </n><w o=\"5\">Orlick</w><n>!</n></toks></s><s sid=\"139\" id=\"GE.c15.s139\" eid=\"354\"><txt>In my own house!</txt><toks><w o=\"0\">In</w><n> </n><w o=\"3\">my</w><n> </n><w o=\"6\">own</w><n> </n><w o=\"10\">house</w><n>!</n></toks></s><s sid=\"140\" id=\"GE.c15.s140\" eid=\"355\"><txt>Me, a married woman!</txt><toks><w o=\"0\">Me</w><n>,</n><n> </n><w o=\"4\">a</w><n> </n><w o=\"6\">married</w><n> </n><w o=\"14\">woman</w><n>!</n></toks></s><s sid=\"141\" id=\"GE.c15.s141\" eid=\"356\"><txt>With my husband standing by!</txt><toks><w o=\"0\">With</w><n> </n><w o=\"5\">my</w><n> </n><w o=\"8\">husband</w><n> </n><w o=\"16\">standing</w><n> </n><w o=\"25\">by</w><n>!</n></toks></s><s sid=\"142\" id=\"GE.c15.s142\" eid=\"357\"><txt>O!</txt><toks><w o=\"0\">O</w><n>!</n></toks></s><s sid=\"143\" id=\"GE.c15.s143\" eid=\"358\"><txt>O!\"</txt><toks><w o=\"0\">O</w><n>!\"</n></toks></s><s sid=\"144\" id=\"GE.c15.s144\" eid=\"360\"><txt>Here my sister, after a fit of clappings and screamings, beat her hands upon her bosom and upon her knees, and threw her cap off, and pulled her hair down - which were the last stages on her road to frenzy.</txt><toks><qe eid=\"359\" wordOffset=\"2356\" offset=\"12580\"/><w o=\"0\">Here</w><n> </n><w o=\"5\">my</w><n> </n><w o=\"8\">sister</w><n>,</n><n> </n><w o=\"16\">after</w><n> </n><w o=\"22\">a</w><n> </n><w o=\"24\">fit</w><n> </n><w o=\"28\">of</w><n> </n><w o=\"31\">clappings</w><n> </n><w o=\"41\">and</w><n> </n><w o=\"45\">screamings</w><n>,</n><n> </n><w o=\"57\">beat</w><n> </n><w o=\"62\">her</w><n> </n><w o=\"66\">hands</w><n> </n><w o=\"72\">upon</w><n> </n><w o=\"77\">her</w><n> </n><w o=\"81\">bosom</w><n> </n><w o=\"87\">and</w><n> </n><w o=\"91\">upon</w><n> </n><w o=\"96\">her</w><n> </n><w o=\"100\">knees</w><n>,</n><n> </n><w o=\"107\">and</w><n> </n><w o=\"111\">threw</w><n> </n><w o=\"117\">her</w><n> </n><w o=\"121\">cap</w><n> </n><w o=\"125\">off</w><n>,</n><n> </n><w o=\"130\">and</w><n> </n><w o=\"134\">pulled</w><n> </n><w o=\"141\">her</w><n> </n><w o=\"145\">hair</w><n> </n><w o=\"150\">down</w><n> </n><n>-</n><n> </n><w o=\"157\">which</w><n> </n><w o=\"163\">were</w><n> </n><w o=\"168\">the</w><n> </n><w o=\"172\">last</w><n> </n><w o=\"177\">stages</w><n> </n><w o=\"184\">on</w><n> </n><w o=\"187\">her</w><n> </n><w o=\"191\">road</w><n> </n><w o=\"196\">to</w><n> </n><w o=\"199\">frenzy</w><n>.</n></toks></s><s sid=\"145\" id=\"GE.c15.s145\" eid=\"361\"><txt>Being by this time a perfect Fury and a complete success, she made a dash at the door, which I had fortunately locked.</txt><toks><w o=\"0\">Being</w><n> </n><w o=\"6\">by</w><n> </n><w o=\"9\">this</w><n> </n><w o=\"14\">time</w><n> </n><w o=\"19\">a</w><n> </n><w o=\"21\">perfect</w><n> </n><w o=\"29\">Fury</w><n> </n><w o=\"34\">and</w><n> </n><w o=\"38\">a</w><n> </n><w o=\"40\">complete</w><n> </n><w o=\"49\">success</w><n>,</n><n> </n><w o=\"58\">she</w><n> </n><w o=\"62\">made</w><n> </n><w o=\"67\">a</w><n> </n><w o=\"69\">dash</w><n> </n><w o=\"74\">at</w><n> </n><w o=\"77\">the</w><n> </n><w o=\"81\">door</w><n>,</n><n> </n><w o=\"87\">which</w><n> </n><w o=\"93\">I</w><n> </n><w o=\"95\">had</w><n> </n><w o=\"99\">fortunately</w><n> </n><w o=\"111\">locked</w><n>.</n></toks></s></p><p pid=\"61\" id=\"GE.c15.p61\" eid=\"362\"><s sid=\"146\" id=\"GE.c15.s146\" eid=\"363\"><txt>What could the wretched Joe do now, after his disregarded parenthetical interruptions, but stand up to his journeyman, and ask him what he meant by interfering betwixt himself and Mrs. Joe; and further whether he was man enough to come on?</txt><toks><w o=\"0\">What</w><n> </n><w o=\"5\">could</w><n> </n><w o=\"11\">the</w><n> </n><w o=\"15\">wretched</w><n> </n><w o=\"24\">Joe</w><n> </n><w o=\"28\">do</w><n> </n><w o=\"31\">now</w><n>,</n><n> </n><w o=\"36\">after</w><n> </n><w o=\"42\">his</w><n> </n><w o=\"46\">disregarded</w><n> </n><w o=\"58\">parenthetical</w><n> </n><w o=\"72\">interruptions</w><n>,</n><n> </n><w o=\"87\">but</w><n> </n><w o=\"91\">stand</w><n> </n><w o=\"97\">up</w><n> </n><w o=\"100\">to</w><n> </n><w o=\"103\">his</w><n> </n><w o=\"107\">journeyman</w><n>,</n><n> </n><w o=\"119\">and</w><n> </n><w o=\"123\">ask</w><n> </n><w o=\"127\">him</w><n> </n><w o=\"131\">what</w><n> </n><w o=\"136\">he</w><n> </n><w o=\"139\">meant</w><n> </n><w o=\"145\">by</w><n> </n><w o=\"148\">interfering</w><n> </n><w o=\"160\">betwixt</w><n> </n><w o=\"168\">himself</w><n> </n><w o=\"176\">and</w><n> </n><w o=\"180\">Mrs</w><n>.</n><n> </n><w o=\"185\">Joe</w><n>;</n><n> </n><w o=\"190\">and</w><n> </n><w o=\"194\">further</w><n> </n><w o=\"202\">whether</w><n> </n><w o=\"210\">he</w><n> </n><w o=\"213\">was</w><n> </n><w o=\"217\">man</w><n> </n><w o=\"221\">enough</w><n> </n><w o=\"228\">to</w><n> </n><w o=\"231\">come</w><n> </n><w o=\"236\">on</w><n>?</n></toks></s><s sid=\"147\" id=\"GE.c15.s147\" eid=\"364\"><txt>Old Orlick felt that the situation admitted of nothing less than coming on, and was on his defence straightway; so, without so much as pulling off their singed and burnt aprons, they went at one another, like two giants.</txt><toks><w o=\"0\">Old</w><n> </n><w o=\"4\">Orlick</w><n> </n><w o=\"11\">felt</w><n> </n><w o=\"16\">that</w><n> </n><w o=\"21\">the</w><n> </n><w o=\"25\">situation</w><n> </n><w o=\"35\">admitted</w><n> </n><w o=\"44\">of</w><n> </n><w o=\"47\">nothing</w><n> </n><w o=\"55\">less</w><n> </n><w o=\"60\">than</w><n> </n><w o=\"65\">coming</w><n> </n><w o=\"72\">on</w><n>,</n><n> </n><w o=\"76\">and</w><n> </n><w o=\"80\">was</w><n> </n><w o=\"84\">on</w><n> </n><w o=\"87\">his</w><n> </n><w o=\"91\">defence</w><n> </n><w o=\"99\">straightway</w><n>;</n><n> </n><w o=\"112\">so</w><n>,</n><n> </n><w o=\"116\">without</w><n> </n><w o=\"124\">so</w><n> </n><w o=\"127\">much</w><n> </n><w o=\"132\">as</w><n> </n><w o=\"135\">pulling</w><n> </n><w o=\"143\">off</w><n> </n><w o=\"147\">their</w><n> </n><w o=\"153\">singed</w><n> </n><w o=\"160\">and</w><n> </n><w o=\"164\">burnt</w><n> </n><w o=\"170\">aprons</w><n>,</n><n> </n><w o=\"178\">they</w><n> </n><w o=\"183\">went</w><n> </n><w o=\"188\">at</w><n> </n><w o=\"191\">one</w><n> </n><w o=\"195\">another</w><n>,</n><n> </n><w o=\"204\">like</w><n> </n><w o=\"209\">two</w><n> </n><w o=\"213\">giants</w><n>.</n></toks></s><s sid=\"148\" id=\"GE.c15.s148\" eid=\"365\"><txt>But, if any man in that neighbourhood could stand up long against Joe, I never saw the man.</txt><toks><w o=\"0\">But</w><n>,</n><n> </n><w o=\"5\">if</w><n> </n><w o=\"8\">any</w><n> </n><w o=\"12\">man</w><n> </n><w o=\"16\">in</w><n> </n><w o=\"19\">that</w><n> </n><w o=\"24\">neighbourhood</w><n> </n><w o=\"38\">could</w><n> </n><w o=\"44\">stand</w><n> </n><w o=\"50\">up</w><n> </n><w o=\"53\">long</w><n> </n><w o=\"58\">against</w><n> </n><w o=\"66\">Joe</w><n>,</n><n> </n><w o=\"71\">I</w><n> </n><w o=\"73\">never</w><n> </n><w o=\"79\">saw</w><n> </n><w o=\"83\">the</w><n> </n><w o=\"87\">man</w><n>.</n></toks></s><s sid=\"149\" id=\"GE.c15.s149\" eid=\"366\"><txt>Orlick, as if he had been of no more account than the pale young gentleman, was very soon among the coal-dust, and in no hurry to come out of it.</txt><toks><w o=\"0\">Orlick</w><n>,</n><n> </n><w o=\"8\">as</w><n> </n><w o=\"11\">if</w><n> </n><w o=\"14\">he</w><n> </n><w o=\"17\">had</w><n> </n><w o=\"21\">been</w><n> </n><w o=\"26\">of</w><n> </n><w o=\"29\">no</w><n> </n><w o=\"32\">more</w><n> </n><w o=\"37\">account</w><n> </n><w o=\"45\">than</w><n> </n><w o=\"50\">the</w><n> </n><w o=\"54\">pale</w><n> </n><w o=\"59\">young</w><n> </n><w o=\"65\">gentleman</w><n>,</n><n> </n><w o=\"76\">was</w><n> </n><w o=\"80\">very</w><n> </n><w o=\"85\">soon</w><n> </n><w o=\"90\">among</w><n> </n><w o=\"96\">the</w><n> </n><w o=\"100\">coal-dust</w><n>,</n><n> </n><w o=\"111\">and</w><n> </n><w o=\"115\">in</w><n> </n><w o=\"118\">no</w><n> </n><w o=\"121\">hurry</w><n> </n><w o=\"127\">to</w><n> </n><w o=\"130\">come</w><n> </n><w o=\"135\">out</w><n> </n><w o=\"139\">of</w><n> </n><w o=\"142\">it</w><n>.</n></toks></s><s sid=\"150\" id=\"GE.c15.s150\" eid=\"367\"><txt>Then, Joe unlocked the door and picked up my sister, who had dropped insensible at the window (but who had seen the fight first, I think), and who was carried into the house and laid down, and who was recommended to revive, and would do nothing but struggle and clench her hands in Joe\\'s hair.</txt><toks><w o=\"0\">Then</w><n>,</n><n> </n><w o=\"6\">Joe</w><n> </n><w o=\"10\">unlocked</w><n> </n><w o=\"19\">the</w><n> </n><w o=\"23\">door</w><n> </n><w o=\"28\">and</w><n> </n><w o=\"32\">picked</w><n> </n><w o=\"39\">up</w><n> </n><w o=\"42\">my</w><n> </n><w o=\"45\">sister</w><n>,</n><n> </n><w o=\"53\">who</w><n> </n><w o=\"57\">had</w><n> </n><w o=\"61\">dropped</w><n> </n><w o=\"69\">insensible</w><n> </n><w o=\"80\">at</w><n> </n><w o=\"83\">the</w><n> </n><w o=\"87\">window</w><n> </n><n>(</n><w o=\"95\">but</w><n> </n><w o=\"99\">who</w><n> </n><w o=\"103\">had</w><n> </n><w o=\"107\">seen</w><n> </n><w o=\"112\">the</w><n> </n><w o=\"116\">fight</w><n> </n><w o=\"122\">first</w><n>,</n><n> </n><w o=\"129\">I</w><n> </n><w o=\"131\">think</w><n>),</n><n> </n><w o=\"139\">and</w><n> </n><w o=\"143\">who</w><n> </n><w o=\"147\">was</w><n> </n><w o=\"151\">carried</w><n> </n><w o=\"159\">into</w><n> </n><w o=\"164\">the</w><n> </n><w o=\"168\">house</w><n> </n><w o=\"174\">and</w><n> </n><w o=\"178\">laid</w><n> </n><w o=\"183\">down</w><n>,</n><n> </n><w o=\"189\">and</w><n> </n><w o=\"193\">who</w><n> </n><w o=\"197\">was</w><n> </n><w o=\"201\">recommended</w><n> </n><w o=\"213\">to</w><n> </n><w o=\"216\">revive</w><n>,</n><n> </n><w o=\"224\">and</w><n> </n><w o=\"228\">would</w><n> </n><w o=\"234\">do</w><n> </n><w o=\"237\">nothing</w><n> </n><w o=\"245\">but</w><n> </n><w o=\"249\">struggle</w><n> </n><w o=\"258\">and</w><n> </n><w o=\"262\">clench</w><n> </n><w o=\"269\">her</w><n> </n><w o=\"273\">hands</w><n> </n><w o=\"279\">in</w><n> </n><w o=\"282\">Joe\\'s</w><n> </n><w o=\"288\">hair</w><n>.</n></toks></s><s sid=\"151\" id=\"GE.c15.s151\" eid=\"368\"><txt>Then, came that singular calm and silence which succeed all uproars; and then, with the vague sensation which I have always connected with such a lull - namely, that it was Sunday, and somebody was dead - I went up-stairs to dress myself.</txt><toks><w o=\"0\">Then</w><n>,</n><n> </n><w o=\"6\">came</w><n> </n><w o=\"11\">that</w><n> </n><w o=\"16\">singular</w><n> </n><w o=\"25\">calm</w><n> </n><w o=\"30\">and</w><n> </n><w o=\"34\">silence</w><n> </n><w o=\"42\">which</w><n> </n><w o=\"48\">succeed</w><n> </n><w o=\"56\">all</w><n> </n><w o=\"60\">uproars</w><n>;</n><n> </n><w o=\"69\">and</w><n> </n><w o=\"73\">then</w><n>,</n><n> </n><w o=\"79\">with</w><n> </n><w o=\"84\">the</w><n> </n><w o=\"88\">vague</w><n> </n><w o=\"94\">sensation</w><n> </n><w o=\"104\">which</w><n> </n><w o=\"110\">I</w><n> </n><w o=\"112\">have</w><n> </n><w o=\"117\">always</w><n> </n><w o=\"124\">connected</w><n> </n><w o=\"134\">with</w><n> </n><w o=\"139\">such</w><n> </n><w o=\"144\">a</w><n> </n><w o=\"146\">lull</w><n> </n><n>-</n><n> </n><w o=\"153\">namely</w><n>,</n><n> </n><w o=\"161\">that</w><n> </n><w o=\"166\">it</w><n> </n><w o=\"169\">was</w><n> </n><w o=\"173\">Sunday</w><n>,</n><n> </n><w o=\"181\">and</w><n> </n><w o=\"185\">somebody</w><n> </n><w o=\"194\">was</w><n> </n><w o=\"198\">dead</w><n> </n><n>-</n><n> </n><w o=\"205\">I</w><n> </n><w o=\"207\">went</w><n> </n><w o=\"212\">up-stairs</w><n> </n><w o=\"222\">to</w><n> </n><w o=\"225\">dress</w><n> </n><w o=\"231\">myself</w><n>.</n></toks></s></p>\\n\\n<p pid=\"62\" id=\"GE.c15.p62\" type=\"speech\" eid=\"369\"><s sid=\"152\" id=\"GE.c15.s152\" eid=\"370\"><txt>When I came down again, I found Joe and Orlick sweeping up, without any other traces of discomposure than a slit in one of Orlick\\'s nostrils, which was neither expressive nor ornamental.</txt><toks><w o=\"0\">When</w><n> </n><w o=\"5\">I</w><n> </n><w o=\"7\">came</w><n> </n><w o=\"12\">down</w><n> </n><w o=\"17\">again</w><n>,</n><n> </n><w o=\"24\">I</w><n> </n><w o=\"26\">found</w><n> </n><w o=\"32\">Joe</w><n> </n><w o=\"36\">and</w><n> </n><w o=\"40\">Orlick</w><n> </n><w o=\"47\">sweeping</w><n> </n><w o=\"56\">up</w><n>,</n><n> </n><w o=\"60\">without</w><n> </n><w o=\"68\">any</w><n> </n><w o=\"72\">other</w><n> </n><w o=\"78\">traces</w><n> </n><w o=\"85\">of</w><n> </n><w o=\"88\">discomposure</w><n> </n><w o=\"101\">than</w><n> </n><w o=\"106\">a</w><n> </n><w o=\"108\">slit</w><n> </n><w o=\"113\">in</w><n> </n><w o=\"116\">one</w><n> </n><w o=\"120\">of</w><n> </n><w o=\"123\">Orlick\\'s</w><n> </n><w o=\"132\">nostrils</w><n>,</n><n> </n><w o=\"142\">which</w><n> </n><w o=\"148\">was</w><n> </n><w o=\"152\">neither</w><n> </n><w o=\"160\">expressive</w><n> </n><w o=\"171\">nor</w><n> </n><w o=\"175\">ornamental</w><n>.</n></toks></s><s sid=\"153\" id=\"GE.c15.s153\" eid=\"371\"><txt>A pot of beer had appeared from the Jolly Bargemen, and they were sharing it by turns in a peaceable manner.</txt><toks><w o=\"0\">A</w><n> </n><w o=\"2\">pot</w><n> </n><w o=\"6\">of</w><n> </n><w o=\"9\">beer</w><n> </n><w o=\"14\">had</w><n> </n><w o=\"18\">appeared</w><n> </n><w o=\"27\">from</w><n> </n><w o=\"32\">the</w><n> </n><w o=\"36\">Jolly</w><n> </n><w o=\"42\">Bargemen</w><n>,</n><n> </n><w o=\"52\">and</w><n> </n><w o=\"56\">they</w><n> </n><w o=\"61\">were</w><n> </n><w o=\"66\">sharing</w><n> </n><w o=\"74\">it</w><n> </n><w o=\"77\">by</w><n> </n><w o=\"80\">turns</w><n> </n><w o=\"86\">in</w><n> </n><w o=\"89\">a</w><n> </n><w o=\"91\">peaceable</w><n> </n><w o=\"101\">manner</w><n>.</n></toks></s><s sid=\"154\" id=\"GE.c15.s154\" eid=\"372\"><txt>The lull had a sedative and philosophical influence on Joe, who followed me out into the road to say, as a parting observation that might do me good, \"On the Rampage, Pip, and off the Rampage, Pip - such is Life!\"</txt><toks><w o=\"0\">The</w><n> </n><w o=\"4\">lull</w><n> </n><w o=\"9\">had</w><n> </n><w o=\"13\">a</w><n> </n><w o=\"15\">sedative</w><n> </n><w o=\"24\">and</w><n> </n><w o=\"28\">philosophical</w><n> </n><w o=\"42\">influence</w><n> </n><w o=\"52\">on</w><n> </n><w o=\"55\">Joe</w><n>,</n><n> </n><w o=\"60\">who</w><n> </n><w o=\"64\">followed</w><n> </n><w o=\"73\">me</w><n> </n><w o=\"76\">out</w><n> </n><w o=\"80\">into</w><n> </n><w o=\"85\">the</w><n> </n><w o=\"89\">road</w><n> </n><w o=\"94\">to</w><n> </n><w o=\"97\">say</w><n>,</n><n> </n><w o=\"102\">as</w><n> </n><w o=\"105\">a</w><n> </n><w o=\"107\">parting</w><n> </n><w o=\"115\">observation</w><n> </n><w o=\"127\">that</w><n> </n><w o=\"132\">might</w><n> </n><w o=\"138\">do</w><n> </n><w o=\"141\">me</w><n> </n><w o=\"144\">good</w><qs eid=\"373\" offset=\"14585\" wordOffset=\"2724\"/><n>,</n><n> </n><n>\"</n><w o=\"151\">On</w><n> </n><w o=\"154\">the</w><n> </n><w o=\"158\">Rampage</w><n>,</n><n> </n><w o=\"167\">Pip</w><n>,</n><n> </n><w o=\"172\">and</w><n> </n><w o=\"176\">off</w><n> </n><w o=\"180\">the</w><n> </n><w o=\"184\">Rampage</w><n>,</n><n> </n><w o=\"193\">Pip</w><n> </n><n>-</n><n> </n><w o=\"199\">such</w><n> </n><w o=\"204\">is</w><n> </n><w o=\"207\">Life</w><n>!\"</n></toks></s></p><p pid=\"63\" id=\"GE.c15.p63\" eid=\"375\"><s sid=\"155\" id=\"GE.c15.s155\" eid=\"376\"><txt>With what absurd emotions (for, we think the feelings that are very serious in a man quite comical in a boy) I found myself again going to Miss Havisham\\'s, matters little here.</txt><toks><qe eid=\"374\" wordOffset=\"2736\" offset=\"14648\"/><w o=\"0\">With</w><n> </n><w o=\"5\">what</w><n> </n><w o=\"10\">absurd</w><n> </n><w o=\"17\">emotions</w><n> </n><n>(</n><w o=\"27\">for</w><n>,</n><n> </n><w o=\"32\">we</w><n> </n><w o=\"35\">think</w><n> </n><w o=\"41\">the</w><n> </n><w o=\"45\">feelings</w><n> </n><w o=\"54\">that</w><n> </n><w o=\"59\">are</w><n> </n><w o=\"63\">very</w><n> </n><w o=\"68\">serious</w><n> </n><w o=\"76\">in</w><n> </n><w o=\"79\">a</w><n> </n><w o=\"81\">man</w><n> </n><w o=\"85\">quite</w><n> </n><w o=\"91\">comical</w><n> </n><w o=\"99\">in</w><n> </n><w o=\"102\">a</w><n> </n><w o=\"104\">boy</w><n>)</n><n> </n><w o=\"109\">I</w><n> </n><w o=\"111\">found</w><n> </n><w o=\"117\">myself</w><n> </n><w o=\"124\">again</w><n> </n><w o=\"130\">going</w><n> </n><w o=\"136\">to</w><n> </n><w o=\"139\">Miss</w><n> </n><w o=\"144\">Havisham\\'s</w><n>,</n><n> </n><w o=\"156\">matters</w><n> </n><w o=\"164\">little</w><n> </n><w o=\"171\">here</w><n>.</n></toks></s><s sid=\"156\" id=\"GE.c15.s156\" eid=\"377\"><txt>Nor, how I passed and repassed the gate many times before I could make up my mind to ring.</txt><toks><w o=\"0\">Nor</w><n>,</n><n> </n><w o=\"5\">how</w><n> </n><w o=\"9\">I</w><n> </n><w o=\"11\">passed</w><n> </n><w o=\"18\">and</w><n> </n><w o=\"22\">repassed</w><n> </n><w o=\"31\">the</w><n> </n><w o=\"35\">gate</w><n> </n><w o=\"40\">many</w><n> </n><w o=\"45\">times</w><n> </n><w o=\"51\">before</w><n> </n><w o=\"58\">I</w><n> </n><w o=\"60\">could</w><n> </n><w o=\"66\">make</w><n> </n><w o=\"71\">up</w><n> </n><w o=\"74\">my</w><n> </n><w o=\"77\">mind</w><n> </n><w o=\"82\">to</w><n> </n><w o=\"85\">ring</w><n>.</n></toks></s><s sid=\"157\" id=\"GE.c15.s157\" eid=\"378\"><txt>Nor, how I debated whether I should go away without ringing; nor, how I should undoubtedly have gone, if my time had been my own, to come back.</txt><toks><w o=\"0\">Nor</w><n>,</n><n> </n><w o=\"5\">how</w><n> </n><w o=\"9\">I</w><n> </n><w o=\"11\">debated</w><n> </n><w o=\"19\">whether</w><n> </n><w o=\"27\">I</w><n> </n><w o=\"29\">should</w><n> </n><w o=\"36\">go</w><n> </n><w o=\"39\">away</w><n> </n><w o=\"44\">without</w><n> </n><w o=\"52\">ringing</w><n>;</n><n> </n><w o=\"61\">nor</w><n>,</n><n> </n><w o=\"66\">how</w><n> </n><w o=\"70\">I</w><n> </n><w o=\"72\">should</w><n> </n><w o=\"79\">undoubtedly</w><n> </n><w o=\"91\">have</w><n> </n><w o=\"96\">gone</w><n>,</n><n> </n><w o=\"102\">if</w><n> </n><w o=\"105\">my</w><n> </n><w o=\"108\">time</w><n> </n><w o=\"113\">had</w><n> </n><w o=\"117\">been</w><n> </n><w o=\"122\">my</w><n> </n><w o=\"125\">own</w><n>,</n><n> </n><w o=\"130\">to</w><n> </n><w o=\"133\">come</w><n> </n><w o=\"138\">back</w><n>.</n></toks></s></p>\\n\\n<p pid=\"64\" id=\"GE.c15.p64\" eid=\"379\"><s sid=\"158\" id=\"GE.c15.s158\" eid=\"380\"><txt>Miss Sarah Pocket came to the gate.</txt><toks><w o=\"0\">Miss</w><n> </n><w o=\"5\">Sarah</w><n> </n><w o=\"11\">Pocket</w><n> </n><w o=\"18\">came</w><n> </n><w o=\"23\">to</w><n> </n><w o=\"26\">the</w><n> </n><w o=\"30\">gate</w><n>.</n></toks></s><s sid=\"159\" id=\"GE.c15.s159\" eid=\"381\"><txt>No Estella.</txt><toks><w o=\"0\">No</w><n> </n><w o=\"3\">Estella</w><n>.</n></toks></s></p>\\n\\n<p pid=\"65\" id=\"GE.c15.p65\" type=\"speech\" eid=\"382\"><s sid=\"160\" id=\"GE.c15.s160\" eid=\"383\"><txt>\"How, then?</txt><toks><qs eid=\"384\" offset=\"15109\" wordOffset=\"2824\"/><n>\"</n><w o=\"1\">How</w><n>,</n><n> </n><w o=\"6\">then</w><n>?</n></toks></s><s sid=\"161\" id=\"GE.c15.s161\" eid=\"385\"><txt>You here again?\" said Miss Pocket.</txt><toks><w o=\"0\">You</w><n> </n><w o=\"4\">here</w><n> </n><w o=\"9\">again</w><qe eid=\"386\" offset=\"15137\" wordOffset=\"2829\"/><n>?\"</n><n> </n><w o=\"17\">said</w><n> </n><w o=\"22\">Miss</w><n> </n><w o=\"27\">Pocket</w><n>.</n></toks></s><s sid=\"162\" id=\"GE.c15.s162\" eid=\"387\"><txt>\"What do you want?\"</txt><toks><qs eid=\"388\" offset=\"15156\" wordOffset=\"2832\"/><n>\"</n><w o=\"1\">What</w><n> </n><w o=\"6\">do</w><n> </n><w o=\"9\">you</w><n> </n><w o=\"13\">want</w><n>?\"</n></toks></s></p><p pid=\"66\" id=\"GE.c15.p66\" type=\"speech\" eid=\"390\"><s sid=\"163\" id=\"GE.c15.s163\" eid=\"391\"><txt>When I said that I only came to see how Miss Havisham was, Sarah evidently deliberated whether or no she should send me about my business.</txt><toks><qe eid=\"389\" wordOffset=\"2836\" offset=\"15175\"/><w o=\"0\">When</w><n> </n><w o=\"5\">I</w><n> </n><w o=\"7\">said</w><n> </n><w o=\"12\">that</w><n> </n><w o=\"17\">I</w><n> </n><w o=\"19\">only</w><n> </n><w o=\"24\">came</w><n> </n><w o=\"29\">to</w><n> </n><w o=\"32\">see</w><n> </n><w o=\"36\">how</w><n> </n><w o=\"40\">Miss</w><n> </n><w o=\"45\">Havisham</w><n> </n><w o=\"54\">was</w><n>,</n><n> </n><w o=\"59\">Sarah</w><n> </n><w o=\"65\">evidently</w><n> </n><w o=\"75\">deliberated</w><n> </n><w o=\"87\">whether</w><n> </n><w o=\"95\">or</w><n> </n><w o=\"98\">no</w><n> </n><w o=\"101\">she</w><n> </n><w o=\"105\">should</w><n> </n><w o=\"112\">send</w><n> </n><w o=\"117\">me</w><n> </n><w o=\"120\">about</w><n> </n><w o=\"126\">my</w><n> </n><w o=\"129\">business</w><n>.</n></toks></s><s sid=\"164\" id=\"GE.c15.s164\" eid=\"392\"><txt>But, unwilling to hazard the responsibility, she let me in, and presently brought the sharp message that I was to \"come up.\"</txt><toks><w o=\"0\">But</w><n>,</n><n> </n><w o=\"5\">unwilling</w><n> </n><w o=\"15\">to</w><n> </n><w o=\"18\">hazard</w><n> </n><w o=\"25\">the</w><n> </n><w o=\"29\">responsibility</w><n>,</n><n> </n><w o=\"45\">she</w><n> </n><w o=\"49\">let</w><n> </n><w o=\"53\">me</w><n> </n><w o=\"56\">in</w><n>,</n><n> </n><w o=\"60\">and</w><n> </n><w o=\"64\">presently</w><n> </n><w o=\"74\">brought</w><n> </n><w o=\"82\">the</w><n> </n><w o=\"86\">sharp</w><n> </n><w o=\"92\">message</w><n> </n><w o=\"100\">that</w><n> </n><w o=\"105\">I</w><n> </n><w o=\"107\">was</w><n> </n><w o=\"111\">to</w><qs eid=\"393\" offset=\"15429\" wordOffset=\"2882\"/><n> </n><n>\"</n><w o=\"115\">come</w><n> </n><w o=\"120\">up</w><n>.\"</n></toks></s></p><p pid=\"67\" id=\"GE.c15.p67\" eid=\"395\"><s sid=\"165\" id=\"GE.c15.s165\" eid=\"396\"><txt>Everything was unchanged, and Miss Havisham was alone.</txt><toks><qe eid=\"394\" wordOffset=\"2884\" offset=\"15439\"/><w o=\"0\">Everything</w><n> </n><w o=\"11\">was</w><n> </n><w o=\"15\">unchanged</w><n>,</n><n> </n><w o=\"26\">and</w><n> </n><w o=\"30\">Miss</w><n> </n><w o=\"35\">Havisham</w><n> </n><w o=\"44\">was</w><n> </n><w o=\"48\">alone</w><n>.</n></toks></s></p>\\n\\n<p pid=\"68\" id=\"GE.c15.p68\" type=\"speech\" eid=\"397\"><s sid=\"166\" id=\"GE.c15.s166\" eid=\"398\"><txt>\"Well?\" said she, fixing her eyes upon me.</txt><toks><qs eid=\"399\" offset=\"15495\" wordOffset=\"2892\"/><n>\"</n><w o=\"1\">Well</w><qe eid=\"400\" offset=\"15502\" wordOffset=\"2893\"/><n>?\"</n><n> </n><w o=\"8\">said</w><n> </n><w o=\"13\">she</w><n>,</n><n> </n><w o=\"18\">fixing</w><n> </n><w o=\"25\">her</w><n> </n><w o=\"29\">eyes</w><n> </n><w o=\"34\">upon</w><n> </n><w o=\"39\">me</w><n>.</n></toks></s><s sid=\"167\" id=\"GE.c15.s167\" eid=\"401\"><txt>\"I hope you want nothing?</txt><toks><qs eid=\"402\" offset=\"15538\" wordOffset=\"2900\"/><n>\"</n><w o=\"1\">I</w><n> </n><w o=\"3\">hope</w><n> </n><w o=\"8\">you</w><n> </n><w o=\"12\">want</w><n> </n><w o=\"17\">nothing</w><n>?</n></toks></s><s sid=\"168\" id=\"GE.c15.s168\" eid=\"403\"><txt>You\\'ll get nothing.\"</txt><toks><w o=\"0\">You\\'ll</w><n> </n><w o=\"7\">get</w><n> </n><w o=\"11\">nothing</w><n>.\"</n></toks></s></p><p pid=\"69\" id=\"GE.c15.p69\" type=\"speech\" eid=\"405\"><s sid=\"169\" id=\"GE.c15.s169\" eid=\"406\"><txt>\"No, indeed, Miss Havisham.</txt><toks><qe eid=\"404\" wordOffset=\"2908\" offset=\"15585\"/><qs eid=\"407\" offset=\"15585\" wordOffset=\"2908\"/><n>\"</n><w o=\"1\">No</w><n>,</n><n> </n><w o=\"5\">indeed</w><n>,</n><n> </n><w o=\"13\">Miss</w><n> </n><w o=\"18\">Havisham</w><n>.</n></toks></s><s sid=\"170\" id=\"GE.c15.s170\" eid=\"408\"><txt>I only wanted you to know that I am doing very well in my apprenticeship, and am always much obliged to you.\"</txt><toks><w o=\"0\">I</w><n> </n><w o=\"2\">only</w><n> </n><w o=\"7\">wanted</w><n> </n><w o=\"14\">you</w><n> </n><w o=\"18\">to</w><n> </n><w o=\"21\">know</w><n> </n><w o=\"26\">that</w><n> </n><w o=\"31\">I</w><n> </n><w o=\"33\">am</w><n> </n><w o=\"36\">doing</w><n> </n><w o=\"42\">very</w><n> </n><w o=\"47\">well</w><n> </n><w o=\"52\">in</w><n> </n><w o=\"55\">my</w><n> </n><w o=\"58\">apprenticeship</w><n>,</n><n> </n><w o=\"74\">and</w><n> </n><w o=\"78\">am</w><n> </n><w o=\"81\">always</w><n> </n><w o=\"88\">much</w><n> </n><w o=\"93\">obliged</w><n> </n><w o=\"101\">to</w><n> </n><w o=\"104\">you</w><n>.\"</n></toks></s></p><p pid=\"70\" id=\"GE.c15.p70\" type=\"speech\" eid=\"410\"><s sid=\"171\" id=\"GE.c15.s171\" eid=\"411\"><txt>\"There, there!\" with the old restless fingers.</txt><toks><qe eid=\"409\" wordOffset=\"2934\" offset=\"15723\"/><qs eid=\"412\" offset=\"15723\" wordOffset=\"2934\"/><n>\"</n><w o=\"1\">There</w><n>,</n><n> </n><w o=\"8\">there</w><qe eid=\"413\" offset=\"15738\" wordOffset=\"2936\"/><n>!\"</n><n> </n><w o=\"16\">with</w><n> </n><w o=\"21\">the</w><n> </n><w o=\"25\">old</w><n> </n><w o=\"29\">restless</w><n> </n><w o=\"38\">fingers</w><n>.</n></toks></s><s sid=\"172\" id=\"GE.c15.s172\" eid=\"414\"><txt>\"Come now and then; come on your birthday.</txt><toks><qs eid=\"415\" offset=\"15770\" wordOffset=\"2941\"/><n>\"</n><w o=\"1\">Come</w><n> </n><w o=\"6\">now</w><n> </n><w o=\"10\">and</w><n> </n><w o=\"14\">then</w><n>;</n><n> </n><w o=\"20\">come</w><n> </n><w o=\"25\">on</w><n> </n><w o=\"28\">your</w><n> </n><w o=\"33\">birthday</w><n>.</n></toks></s><s sid=\"173\" id=\"GE.c15.s173\" eid=\"416\"><txt>- Ay!\" she cried suddenly, turning herself and her chair towards me, \"You are looking round for Estella?</txt><toks><n>-</n><n> </n><w o=\"2\">Ay</w><qe eid=\"417\" offset=\"15819\" wordOffset=\"2950\"/><sls eid=\"418\" offset=\"15819\" wordOffset=\"2950\"/><n>!\"</n><n> </n><w o=\"7\">she</w><n> </n><w o=\"11\">cried</w><n> </n><w o=\"17\">suddenly</w><n>,</n><n> </n><w o=\"27\">turning</w><n> </n><w o=\"35\">herself</w><n> </n><w o=\"43\">and</w><n> </n><w o=\"47\">her</w><n> </n><w o=\"51\">chair</w><n> </n><w o=\"57\">towards</w><n> </n><w o=\"65\">me</w><sle eid=\"419\" offset=\"15882\" wordOffset=\"2960\"/><qs eid=\"420\" offset=\"15882\" wordOffset=\"2960\"/><n>,</n><n> </n><n>\"</n><w o=\"70\">You</w><n> </n><w o=\"74\">are</w><n> </n><w o=\"78\">looking</w><n> </n><w o=\"86\">round</w><n> </n><w o=\"92\">for</w><n> </n><w o=\"96\">Estella</w><n>?</n></toks></s><s sid=\"174\" id=\"GE.c15.s174\" eid=\"421\"><txt>Hey?\"</txt><toks><w o=\"0\">Hey</w><n>?\"</n></toks></s></p><p pid=\"71\" id=\"GE.c15.p71\" eid=\"423\"><s sid=\"175\" id=\"GE.c15.s175\" eid=\"424\"><txt>I had been looking round - in fact, for Estella - and I stammered that I hoped she was well.</txt><toks><qe eid=\"422\" wordOffset=\"2967\" offset=\"15923\"/><w o=\"0\">I</w><n> </n><w o=\"2\">had</w><n> </n><w o=\"6\">been</w><n> </n><w o=\"11\">looking</w><n> </n><w o=\"19\">round</w><n> </n><n>-</n><n> </n><w o=\"27\">in</w><n> </n><w o=\"30\">fact</w><n>,</n><n> </n><w o=\"36\">for</w><n> </n><w o=\"40\">Estella</w><n> </n><n>-</n><n> </n><w o=\"50\">and</w><n> </n><w o=\"54\">I</w><n> </n><w o=\"56\">stammered</w><n> </n><w o=\"66\">that</w><n> </n><w o=\"71\">I</w><n> </n><w o=\"73\">hoped</w><n> </n><w o=\"79\">she</w><n> </n><w o=\"83\">was</w><n> </n><w o=\"87\">well</w><n>.</n></toks></s></p>\\n\\n<p pid=\"72\" id=\"GE.c15.p72\" type=\"speech\" eid=\"425\"><s sid=\"176\" id=\"GE.c15.s176\" eid=\"426\"><txt>\"Abroad,\" said Miss Havisham; \"educating for a lady; far out of reach; prettier than ever; admired by all who see her.</txt><toks><qs eid=\"427\" offset=\"16017\" wordOffset=\"2985\"/><n>\"</n><w o=\"1\">Abroad</w><qe eid=\"428\" offset=\"16026\" wordOffset=\"2986\"/><sss eid=\"429\" offset=\"16026\" wordOffset=\"2986\"/><n>,\"</n><n> </n><w o=\"10\">said</w><n> </n><w o=\"15\">Miss</w><n> </n><w o=\"20\">Havisham</w><sse eid=\"430\" offset=\"16047\" wordOffset=\"2989\"/><qs eid=\"431\" offset=\"16047\" wordOffset=\"2989\"/><n>;</n><n> </n><n>\"</n><w o=\"31\">educating</w><n> </n><w o=\"41\">for</w><n> </n><w o=\"45\">a</w><n> </n><w o=\"47\">lady</w><n>;</n><n> </n><w o=\"53\">far</w><n> </n><w o=\"57\">out</w><n> </n><w o=\"61\">of</w><n> </n><w o=\"64\">reach</w><n>;</n><n> </n><w o=\"71\">prettier</w><n> </n><w o=\"80\">than</w><n> </n><w o=\"85\">ever</w><n>;</n><n> </n><w o=\"91\">admired</w><n> </n><w o=\"99\">by</w><n> </n><w o=\"102\">all</w><n> </n><w o=\"106\">who</w><n> </n><w o=\"110\">see</w><n> </n><w o=\"114\">her</w><n>.</n></toks></s><s sid=\"177\" id=\"GE.c15.s177\" eid=\"432\"><txt>Do you feel that you have lost her?\"</txt><toks><w o=\"0\">Do</w><n> </n><w o=\"3\">you</w><n> </n><w o=\"7\">feel</w><n> </n><w o=\"12\">that</w><n> </n><w o=\"17\">you</w><n> </n><w o=\"21\">have</w><n> </n><w o=\"26\">lost</w><n> </n><w o=\"31\">her</w><n>?\"</n></toks></s></p><p pid=\"73\" id=\"GE.c15.p73\" eid=\"434\"><s sid=\"178\" id=\"GE.c15.s178\" eid=\"435\"><txt>There was such a malignant enjoyment in her utterance of the last words, and she broke into such a disagreeable laugh, that I was at a loss what to say.</txt><toks><qe eid=\"433\" wordOffset=\"3014\" offset=\"16172\"/><w o=\"0\">There</w><n> </n><w o=\"6\">was</w><n> </n><w o=\"10\">such</w><n> </n><w o=\"15\">a</w><n> </n><w o=\"17\">malignant</w><n> </n><w o=\"27\">enjoyment</w><n> </n><w o=\"37\">in</w><n> </n><w o=\"40\">her</w><n> </n><w o=\"44\">utterance</w><n> </n><w o=\"54\">of</w><n> </n><w o=\"57\">the</w><n> </n><w o=\"61\">last</w><n> </n><w o=\"66\">words</w><n>,</n><n> </n><w o=\"73\">and</w><n> </n><w o=\"77\">she</w><n> </n><w o=\"81\">broke</w><n> </n><w o=\"87\">into</w><n> </n><w o=\"92\">such</w><n> </n><w o=\"97\">a</w><n> </n><w o=\"99\">disagreeable</w><n> </n><w o=\"112\">laugh</w><n>,</n><n> </n><w o=\"119\">that</w><n> </n><w o=\"124\">I</w><n> </n><w o=\"126\">was</w><n> </n><w o=\"130\">at</w><n> </n><w o=\"133\">a</w><n> </n><w o=\"135\">loss</w><n> </n><w o=\"140\">what</w><n> </n><w o=\"145\">to</w><n> </n><w o=\"148\">say</w><n>.</n></toks></s><s sid=\"179\" id=\"GE.c15.s179\" eid=\"436\"><txt>She spared me the trouble of considering, by dismissing me.</txt><toks><w o=\"0\">She</w><n> </n><w o=\"4\">spared</w><n> </n><w o=\"11\">me</w><n> </n><w o=\"14\">the</w><n> </n><w o=\"18\">trouble</w><n> </n><w o=\"26\">of</w><n> </n><w o=\"29\">considering</w><n>,</n><n> </n><w o=\"42\">by</w><n> </n><w o=\"45\">dismissing</w><n> </n><w o=\"56\">me</w><n>.</n></toks></s><s sid=\"180\" id=\"GE.c15.s180\" eid=\"437\"><txt>When the gate was closed upon me by Sarah of the walnut-shell countenance, I felt more than ever dissatisfied with my home and with my trade and with everything; and that was all I took by that motion.</txt><toks><w o=\"0\">When</w><n> </n><w o=\"5\">the</w><n> </n><w o=\"9\">gate</w><n> </n><w o=\"14\">was</w><n> </n><w o=\"18\">closed</w><n> </n><w o=\"25\">upon</w><n> </n><w o=\"30\">me</w><n> </n><w o=\"33\">by</w><n> </n><w o=\"36\">Sarah</w><n> </n><w o=\"42\">of</w><n> </n><w o=\"45\">the</w><n> </n><w o=\"49\">walnut-shell</w><n> </n><w o=\"62\">countenance</w><n>,</n><n> </n><w o=\"75\">I</w><n> </n><w o=\"77\">felt</w><n> </n><w o=\"82\">more</w><n> </n><w o=\"87\">than</w><n> </n><w o=\"92\">ever</w><n> </n><w o=\"97\">dissatisfied</w><n> </n><w o=\"110\">with</w><n> </n><w o=\"115\">my</w><n> </n><w o=\"118\">home</w><n> </n><w o=\"123\">and</w><n> </n><w o=\"127\">with</w><n> </n><w o=\"132\">my</w><n> </n><w o=\"135\">trade</w><n> </n><w o=\"141\">and</w><n> </n><w o=\"145\">with</w><n> </n><w o=\"150\">everything</w><n>;</n><n> </n><w o=\"162\">and</w><n> </n><w o=\"166\">that</w><n> </n><w o=\"171\">was</w><n> </n><w o=\"175\">all</w><n> </n><w o=\"179\">I</w><n> </n><w o=\"181\">took</w><n> </n><w o=\"186\">by</w><n> </n><w o=\"189\">that</w><n> </n><w o=\"194\">motion</w><n>.</n></toks></s></p>\\n\\n<p pid=\"74\" id=\"GE.c15.p74\" eid=\"438\"><s sid=\"181\" id=\"GE.c15.s181\" eid=\"439\"><txt>As I was loitering along the High-street, looking in disconsolately at the shop windows, and thinking what I would buy if I were a gentleman, who should come out of the bookshop but Mr. Wopsle.</txt><toks><w o=\"0\">As</w><n> </n><w o=\"3\">I</w><n> </n><w o=\"5\">was</w><n> </n><w o=\"9\">loitering</w><n> </n><w o=\"19\">along</w><n> </n><w o=\"25\">the</w><n> </n><w o=\"29\">High-street</w><n>,</n><n> </n><w o=\"42\">looking</w><n> </n><w o=\"50\">in</w><n> </n><w o=\"53\">disconsolately</w><n> </n><w o=\"68\">at</w><n> </n><w o=\"71\">the</w><n> </n><w o=\"75\">shop</w><n> </n><w o=\"80\">windows</w><n>,</n><n> </n><w o=\"89\">and</w><n> </n><w o=\"93\">thinking</w><n> </n><w o=\"102\">what</w><n> </n><w o=\"107\">I</w><n> </n><w o=\"109\">would</w><n> </n><w o=\"115\">buy</w><n> </n><w o=\"119\">if</w><n> </n><w o=\"122\">I</w><n> </n><w o=\"124\">were</w><n> </n><w o=\"129\">a</w><n> </n><w o=\"131\">gentleman</w><n>,</n><n> </n><w o=\"142\">who</w><n> </n><w o=\"146\">should</w><n> </n><w o=\"153\">come</w><n> </n><w o=\"158\">out</w><n> </n><w o=\"162\">of</w><n> </n><w o=\"165\">the</w><n> </n><w o=\"169\">bookshop</w><n> </n><w o=\"178\">but</w><n> </n><w o=\"182\">Mr</w><n>.</n><n> </n><w o=\"186\">Wopsle</w><n>.</n></toks></s><s sid=\"182\" id=\"GE.c15.s182\" eid=\"440\"><txt>Mr Wopsle had in his hand the affecting tragedy of George Barnwell, in which he had that moment invested sixpence, with the view of heaping every word of it on the head of Pumblechook, with whom he was going to drink tea.</txt><toks><w o=\"0\">Mr</w><n> </n><w o=\"3\">Wopsle</w><n> </n><w o=\"10\">had</w><n> </n><w o=\"14\">in</w><n> </n><w o=\"17\">his</w><n> </n><w o=\"21\">hand</w><n> </n><w o=\"26\">the</w><n> </n><w o=\"30\">affecting</w><n> </n><w o=\"40\">tragedy</w><n> </n><w o=\"48\">of</w><n> </n><w o=\"51\">George</w><n> </n><w o=\"58\">Barnwell</w><n>,</n><n> </n><w o=\"68\">in</w><n> </n><w o=\"71\">which</w><n> </n><w o=\"77\">he</w><n> </n><w o=\"80\">had</w><n> </n><w o=\"84\">that</w><n> </n><w o=\"89\">moment</w><n> </n><w o=\"96\">invested</w><n> </n><w o=\"105\">sixpence</w><n>,</n><n> </n><w o=\"115\">with</w><n> </n><w o=\"120\">the</w><n> </n><w o=\"124\">view</w><n> </n><w o=\"129\">of</w><n> </n><w o=\"132\">heaping</w><n> </n><w o=\"140\">every</w><n> </n><w o=\"146\">word</w><n> </n><w o=\"151\">of</w><n> </n><w o=\"154\">it</w><n> </n><w o=\"157\">on</w><n> </n><w o=\"160\">the</w><n> </n><w o=\"164\">head</w><n> </n><w o=\"169\">of</w><n> </n><w o=\"172\">Pumblechook</w><n>,</n><n> </n><w o=\"185\">with</w><n> </n><w o=\"190\">whom</w><n> </n><w o=\"195\">he</w><n> </n><w o=\"198\">was</w><n> </n><w o=\"202\">going</w><n> </n><w o=\"208\">to</w><n> </n><w o=\"211\">drink</w><n> </n><w o=\"217\">tea</w><n>.</n></toks></s><s sid=\"183\" id=\"GE.c15.s183\" eid=\"441\"><txt>No sooner did he see me, than he appeared to consider that a special Providence had put a \\'prentice in his way to be read at; and he laid hold of me, and insisted on my accompanying him to the Pumblechookian parlour.</txt><toks><w o=\"0\">No</w><n> </n><w o=\"3\">sooner</w><n> </n><w o=\"10\">did</w><n> </n><w o=\"14\">he</w><n> </n><w o=\"17\">see</w><n> </n><w o=\"21\">me</w><n>,</n><n> </n><w o=\"25\">than</w><n> </n><w o=\"30\">he</w><n> </n><w o=\"33\">appeared</w><n> </n><w o=\"42\">to</w><n> </n><w o=\"45\">consider</w><n> </n><w o=\"54\">that</w><n> </n><w o=\"59\">a</w><n> </n><w o=\"61\">special</w><n> </n><w o=\"69\">Providence</w><n> </n><w o=\"80\">had</w><n> </n><w o=\"84\">put</w><n> </n><w o=\"88\">a</w><n> </n><n>\\'</n><w o=\"91\">prentice</w><n> </n><w o=\"100\">in</w><n> </n><w o=\"103\">his</w><n> </n><w o=\"107\">way</w><n> </n><w o=\"111\">to</w><n> </n><w o=\"114\">be</w><n> </n><w o=\"117\">read</w><n> </n><w o=\"122\">at</w><n>;</n><n> </n><w o=\"126\">and</w><n> </n><w o=\"130\">he</w><n> </n><w o=\"133\">laid</w><n> </n><w o=\"138\">hold</w><n> </n><w o=\"143\">of</w><n> </n><w o=\"146\">me</w><n>,</n><n> </n><w o=\"150\">and</w><n> </n><w o=\"154\">insisted</w><n> </n><w o=\"163\">on</w><n> </n><w o=\"166\">my</w><n> </n><w o=\"169\">accompanying</w><n> </n><w o=\"182\">him</w><n> </n><w o=\"186\">to</w><n> </n><w o=\"189\">the</w><n> </n><w o=\"193\">Pumblechookian</w><n> </n><w o=\"208\">parlour</w><n>.</n></toks></s><s sid=\"184\" id=\"GE.c15.s184\" eid=\"442\"><txt>As I knew it would be miserable at home, and as the nights were dark and the way was dreary, and almost any companionship on the road was better than none, I made no great resistance; consequently, we turned into Pumblechook\\'s just as the street and the shops were lighting up.</txt><toks><w o=\"0\">As</w><n> </n><w o=\"3\">I</w><n> </n><w o=\"5\">knew</w><n> </n><w o=\"10\">it</w><n> </n><w o=\"13\">would</w><n> </n><w o=\"19\">be</w><n> </n><w o=\"22\">miserable</w><n> </n><w o=\"32\">at</w><n> </n><w o=\"35\">home</w><n>,</n><n> </n><w o=\"41\">and</w><n> </n><w o=\"45\">as</w><n> </n><w o=\"48\">the</w><n> </n><w o=\"52\">nights</w><n> </n><w o=\"59\">were</w><n> </n><w o=\"64\">dark</w><n> </n><w o=\"69\">and</w><n> </n><w o=\"73\">the</w><n> </n><w o=\"77\">way</w><n> </n><w o=\"81\">was</w><n> </n><w o=\"85\">dreary</w><n>,</n><n> </n><w o=\"93\">and</w><n> </n><w o=\"97\">almost</w><n> </n><w o=\"104\">any</w><n> </n><w o=\"108\">companionship</w><n> </n><w o=\"122\">on</w><n> </n><w o=\"125\">the</w><n> </n><w o=\"129\">road</w><n> </n><w o=\"134\">was</w><n> </n><w o=\"138\">better</w><n> </n><w o=\"145\">than</w><n> </n><w o=\"150\">none</w><n>,</n><n> </n><w o=\"156\">I</w><n> </n><w o=\"158\">made</w><n> </n><w o=\"163\">no</w><n> </n><w o=\"166\">great</w><n> </n><w o=\"172\">resistance</w><n>;</n><n> </n><w o=\"184\">consequently</w><n>,</n><n> </n><w o=\"198\">we</w><n> </n><w o=\"201\">turned</w><n> </n><w o=\"208\">into</w><n> </n><w o=\"213\">Pumblechook\\'s</w><n> </n><w o=\"227\">just</w><n> </n><w o=\"232\">as</w><n> </n><w o=\"235\">the</w><n> </n><w o=\"239\">street</w><n> </n><w o=\"246\">and</w><n> </n><w o=\"250\">the</w><n> </n><w o=\"254\">shops</w><n> </n><w o=\"260\">were</w><n> </n><w o=\"265\">lighting</w><n> </n><w o=\"274\">up</w><n>.</n></toks></s></p>\\n\\n<p pid=\"75\" id=\"GE.c15.p75\" type=\"speech\" eid=\"443\"><s sid=\"185\" id=\"GE.c15.s185\" eid=\"444\"><txt>As I never assisted at any other representation of George Barnwell, I don\\'t know how long it may usually take; but I know very well that it took until half-past nine o\\' clock that night, and that when Mr. Wopsle got into Newgate, I thought he never would go to the scaffold, he became so much slower than at any former period of his disgraceful career.</txt><toks><w o=\"0\">As</w><n> </n><w o=\"3\">I</w><n> </n><w o=\"5\">never</w><n> </n><w o=\"11\">assisted</w><n> </n><w o=\"20\">at</w><n> </n><w o=\"23\">any</w><n> </n><w o=\"27\">other</w><n> </n><w o=\"33\">representation</w><n> </n><w o=\"48\">of</w><n> </n><w o=\"51\">George</w><n> </n><w o=\"58\">Barnwell</w><n>,</n><n> </n><w o=\"68\">I</w><n> </n><w o=\"70\">don\\'t</w><n> </n><w o=\"76\">know</w><n> </n><w o=\"81\">how</w><n> </n><w o=\"85\">long</w><n> </n><w o=\"90\">it</w><n> </n><w o=\"93\">may</w><n> </n><w o=\"97\">usually</w><n> </n><w o=\"105\">take</w><n>;</n><n> </n><w o=\"111\">but</w><n> </n><w o=\"115\">I</w><n> </n><w o=\"117\">know</w><n> </n><w o=\"122\">very</w><n> </n><w o=\"127\">well</w><n> </n><w o=\"132\">that</w><n> </n><w o=\"137\">it</w><n> </n><w o=\"140\">took</w><n> </n><w o=\"145\">until</w><n> </n><w o=\"151\">half-past</w><n> </n><w o=\"161\">nine</w><n> </n><w o=\"166\">o</w><n>\\'</n><n> </n><w o=\"169\">clock</w><n> </n><w o=\"175\">that</w><n> </n><w o=\"180\">night</w><n>,</n><n> </n><w o=\"187\">and</w><n> </n><w o=\"191\">that</w><n> </n><w o=\"196\">when</w><n> </n><w o=\"201\">Mr</w><n>.</n><n> </n><w o=\"205\">Wopsle</w><n> </n><w o=\"212\">got</w><n> </n><w o=\"216\">into</w><n> </n><w o=\"221\">Newgate</w><n>,</n><n> </n><w o=\"230\">I</w><n> </n><w o=\"232\">thought</w><n> </n><w o=\"240\">he</w><n> </n><w o=\"243\">never</w><n> </n><w o=\"249\">would</w><n> </n><w o=\"255\">go</w><n> </n><w o=\"258\">to</w><n> </n><w o=\"261\">the</w><n> </n><w o=\"265\">scaffold</w><n>,</n><n> </n><w o=\"275\">he</w><n> </n><w o=\"278\">became</w><n> </n><w o=\"285\">so</w><n> </n><w o=\"288\">much</w><n> </n><w o=\"293\">slower</w><n> </n><w o=\"300\">than</w><n> </n><w o=\"305\">at</w><n> </n><w o=\"308\">any</w><n> </n><w o=\"312\">former</w><n> </n><w o=\"319\">period</w><n> </n><w o=\"326\">of</w><n> </n><w o=\"329\">his</w><n> </n><w o=\"333\">disgraceful</w><n> </n><w o=\"345\">career</w><n>.</n></toks></s><s sid=\"186\" id=\"GE.c15.s186\" eid=\"445\"><txt>I thought it a little too much that he should complain of being cut short in his flower after all, as if he had not been running to seed, leaf after leaf, ever since his course began.</txt><toks><w o=\"0\">I</w><n> </n><w o=\"2\">thought</w><n> </n><w o=\"10\">it</w><n> </n><w o=\"13\">a</w><n> </n><w o=\"15\">little</w><n> </n><w o=\"22\">too</w><n> </n><w o=\"26\">much</w><n> </n><w o=\"31\">that</w><n> </n><w o=\"36\">he</w><n> </n><w o=\"39\">should</w><n> </n><w o=\"46\">complain</w><n> </n><w o=\"55\">of</w><n> </n><w o=\"58\">being</w><n> </n><w o=\"64\">cut</w><n> </n><w o=\"68\">short</w><n> </n><w o=\"74\">in</w><n> </n><w o=\"77\">his</w><n> </n><w o=\"81\">flower</w><n> </n><w o=\"88\">after</w><n> </n><w o=\"94\">all</w><n>,</n><n> </n><w o=\"99\">as</w><n> </n><w o=\"102\">if</w><n> </n><w o=\"105\">he</w><n> </n><w o=\"108\">had</w><n> </n><w o=\"112\">not</w><n> </n><w o=\"116\">been</w><n> </n><w o=\"121\">running</w><n> </n><w o=\"129\">to</w><n> </n><w o=\"132\">seed</w><n>,</n><n> </n><w o=\"138\">leaf</w><n> </n><w o=\"143\">after</w><n> </n><w o=\"149\">leaf</w><n>,</n><n> </n><w o=\"155\">ever</w><n> </n><w o=\"160\">since</w><n> </n><w o=\"166\">his</w><n> </n><w o=\"170\">course</w><n> </n><w o=\"177\">began</w><n>.</n></toks></s><s sid=\"187\" id=\"GE.c15.s187\" eid=\"446\"><txt>This, however, was a mere question of length and wearisomeness.</txt><toks><w o=\"0\">This</w><n>,</n><n> </n><w o=\"6\">however</w><n>,</n><n> </n><w o=\"15\">was</w><n> </n><w o=\"19\">a</w><n> </n><w o=\"21\">mere</w><n> </n><w o=\"26\">question</w><n> </n><w o=\"35\">of</w><n> </n><w o=\"38\">length</w><n> </n><w o=\"45\">and</w><n> </n><w o=\"49\">wearisomeness</w><n>.</n></toks></s><s sid=\"188\" id=\"GE.c15.s188\" eid=\"447\"><txt>What stung me, was the identification of the whole affair with my unoffending self.</txt><toks><w o=\"0\">What</w><n> </n><w o=\"5\">stung</w><n> </n><w o=\"11\">me</w><n>,</n><n> </n><w o=\"15\">was</w><n> </n><w o=\"19\">the</w><n> </n><w o=\"23\">identification</w><n> </n><w o=\"38\">of</w><n> </n><w o=\"41\">the</w><n> </n><w o=\"45\">whole</w><n> </n><w o=\"51\">affair</w><n> </n><w o=\"58\">with</w><n> </n><w o=\"63\">my</w><n> </n><w o=\"66\">unoffending</w><n> </n><w o=\"78\">self</w><n>.</n></toks></s><s sid=\"189\" id=\"GE.c15.s189\" eid=\"448\"><txt>When Barnwell began to go wrong, I declare that I felt positively apologetic, Pumblechook\\'s indignant stare so taxed me with it.</txt><toks><w o=\"0\">When</w><n> </n><w o=\"5\">Barnwell</w><n> </n><w o=\"14\">began</w><n> </n><w o=\"20\">to</w><n> </n><w o=\"23\">go</w><n> </n><w o=\"26\">wrong</w><n>,</n><n> </n><w o=\"33\">I</w><n> </n><w o=\"35\">declare</w><n> </n><w o=\"43\">that</w><n> </n><w o=\"48\">I</w><n> </n><w o=\"50\">felt</w><n> </n><w o=\"55\">positively</w><n> </n><w o=\"66\">apologetic</w><n>,</n><n> </n><w o=\"78\">Pumblechook\\'s</w><n> </n><w o=\"92\">indignant</w><n> </n><w o=\"102\">stare</w><n> </n><w o=\"108\">so</w><n> </n><w o=\"111\">taxed</w><n> </n><w o=\"117\">me</w><n> </n><w o=\"120\">with</w><n> </n><w o=\"125\">it</w><n>.</n></toks></s><s sid=\"190\" id=\"GE.c15.s190\" eid=\"449\"><txt>Wopsle, too, took pains to present me in the worst light.</txt><toks><w o=\"0\">Wopsle</w><n>,</n><n> </n><w o=\"8\">too</w><n>,</n><n> </n><w o=\"13\">took</w><n> </n><w o=\"18\">pains</w><n> </n><w o=\"24\">to</w><n> </n><w o=\"27\">present</w><n> </n><w o=\"35\">me</w><n> </n><w o=\"38\">in</w><n> </n><w o=\"41\">the</w><n> </n><w o=\"45\">worst</w><n> </n><w o=\"51\">light</w><n>.</n></toks></s><s sid=\"191\" id=\"GE.c15.s191\" eid=\"450\"><txt>At once ferocious and maudlin, I was made to murder my uncle with no extenuating circumstances whatever; Millwood put me down in argument, on every occasion; it became sheer monomania in my master\\'s daughter to care a button for me; and all I can say for my gasping and procrastinating conduct on the fatal morning, is, that it was worthy of the general feebleness of my character.</txt><toks><w o=\"0\">At</w><n> </n><w o=\"3\">once</w><n> </n><w o=\"8\">ferocious</w><n> </n><w o=\"18\">and</w><n> </n><w o=\"22\">maudlin</w><n>,</n><n> </n><w o=\"31\">I</w><n> </n><w o=\"33\">was</w><n> </n><w o=\"37\">made</w><n> </n><w o=\"42\">to</w><n> </n><w o=\"45\">murder</w><n> </n><w o=\"52\">my</w><n> </n><w o=\"55\">uncle</w><n> </n><w o=\"61\">with</w><n> </n><w o=\"66\">no</w><n> </n><w o=\"69\">extenuating</w><n> </n><w o=\"81\">circumstances</w><n> </n><w o=\"95\">whatever</w><n>;</n><n> </n><w o=\"105\">Millwood</w><n> </n><w o=\"114\">put</w><n> </n><w o=\"118\">me</w><n> </n><w o=\"121\">down</w><n> </n><w o=\"126\">in</w><n> </n><w o=\"129\">argument</w><n>,</n><n> </n><w o=\"139\">on</w><n> </n><w o=\"142\">every</w><n> </n><w o=\"148\">occasion</w><n>;</n><n> </n><w o=\"158\">it</w><n> </n><w o=\"161\">became</w><n> </n><w o=\"168\">sheer</w><n> </n><w o=\"174\">monomania</w><n> </n><w o=\"184\">in</w><n> </n><w o=\"187\">my</w><n> </n><w o=\"190\">master\\'s</w><n> </n><w o=\"199\">daughter</w><n> </n><w o=\"208\">to</w><n> </n><w o=\"211\">care</w><n> </n><w o=\"216\">a</w><n> </n><w o=\"218\">button</w><n> </n><w o=\"225\">for</w><n> </n><w o=\"229\">me</w><n>;</n><n> </n><w o=\"233\">and</w><n> </n><w o=\"237\">all</w><n> </n><w o=\"241\">I</w><n> </n><w o=\"243\">can</w><n> </n><w o=\"247\">say</w><n> </n><w o=\"251\">for</w><n> </n><w o=\"255\">my</w><n> </n><w o=\"258\">gasping</w><n> </n><w o=\"266\">and</w><n> </n><w o=\"270\">procrastinating</w><n> </n><w o=\"286\">conduct</w><n> </n><w o=\"294\">on</w><n> </n><w o=\"297\">the</w><n> </n><w o=\"301\">fatal</w><n> </n><w o=\"307\">morning</w><n>,</n><n> </n><w o=\"316\">is</w><n>,</n><n> </n><w o=\"320\">that</w><n> </n><w o=\"325\">it</w><n> </n><w o=\"328\">was</w><n> </n><w o=\"332\">worthy</w><n> </n><w o=\"339\">of</w><n> </n><w o=\"342\">the</w><n> </n><w o=\"346\">general</w><n> </n><w o=\"354\">feebleness</w><n> </n><w o=\"365\">of</w><n> </n><w o=\"368\">my</w><n> </n><w o=\"371\">character</w><n>.</n></toks></s><s sid=\"192\" id=\"GE.c15.s192\" eid=\"451\"><txt>Even after I was happily hanged and Wopsle had closed the book, Pumblechook sat staring at me, and shaking his head, and saying, \"Take warning, boy, take warning!\" as if it were a well-known fact that I contemplated murdering a near relation, provided I could only induce one to have the weakness to become my benefactor.</txt><toks><w o=\"0\">Even</w><n> </n><w o=\"5\">after</w><n> </n><w o=\"11\">I</w><n> </n><w o=\"13\">was</w><n> </n><w o=\"17\">happily</w><n> </n><w o=\"25\">hanged</w><n> </n><w o=\"32\">and</w><n> </n><w o=\"36\">Wopsle</w><n> </n><w o=\"43\">had</w><n> </n><w o=\"47\">closed</w><n> </n><w o=\"54\">the</w><n> </n><w o=\"58\">book</w><n>,</n><n> </n><w o=\"64\">Pumblechook</w><n> </n><w o=\"76\">sat</w><n> </n><w o=\"80\">staring</w><n> </n><w o=\"88\">at</w><n> </n><w o=\"91\">me</w><n>,</n><n> </n><w o=\"95\">and</w><n> </n><w o=\"99\">shaking</w><n> </n><w o=\"107\">his</w><n> </n><w o=\"111\">head</w><n>,</n><n> </n><w o=\"117\">and</w><n> </n><w o=\"121\">saying</w><qs eid=\"452\" offset=\"18882\" wordOffset=\"3511\"/><n>,</n><n> </n><n>\"</n><w o=\"130\">Take</w><n> </n><w o=\"135\">warning</w><n>,</n><n> </n><w o=\"144\">boy</w><n>,</n><n> </n><w o=\"149\">take</w><n> </n><w o=\"154\">warning</w><qe eid=\"453\" offset=\"18916\" wordOffset=\"3516\"/><n>!\"</n><n> </n><w o=\"164\">as</w><n> </n><w o=\"167\">if</w><n> </n><w o=\"170\">it</w><n> </n><w o=\"173\">were</w><n> </n><w o=\"178\">a</w><n> </n><w o=\"180\">well-known</w><n> </n><w o=\"191\">fact</w><n> </n><w o=\"196\">that</w><n> </n><w o=\"201\">I</w><n> </n><w o=\"203\">contemplated</w><n> </n><w o=\"216\">murdering</w><n> </n><w o=\"226\">a</w><n> </n><w o=\"228\">near</w><n> </n><w o=\"233\">relation</w><n>,</n><n> </n><w o=\"243\">provided</w><n> </n><w o=\"252\">I</w><n> </n><w o=\"254\">could</w><n> </n><w o=\"260\">only</w><n> </n><w o=\"265\">induce</w><n> </n><w o=\"272\">one</w><n> </n><w o=\"276\">to</w><n> </n><w o=\"279\">have</w><n> </n><w o=\"284\">the</w><n> </n><w o=\"288\">weakness</w><n> </n><w o=\"297\">to</w><n> </n><w o=\"300\">become</w><n> </n><w o=\"307\">my</w><n> </n><w o=\"310\">benefactor</w><n>.</n></toks></s></p><p pid=\"76\" id=\"GE.c15.p76\" eid=\"454\"><s sid=\"193\" id=\"GE.c15.s193\" eid=\"455\"><txt>It was a very dark night when it was all over, and when I set out with Mr. Wopsle on the walk home.</txt><toks><w o=\"0\">It</w><n> </n><w o=\"3\">was</w><n> </n><w o=\"7\">a</w><n> </n><w o=\"9\">very</w><n> </n><w o=\"14\">dark</w><n> </n><w o=\"19\">night</w><n> </n><w o=\"25\">when</w><n> </n><w o=\"30\">it</w><n> </n><w o=\"33\">was</w><n> </n><w o=\"37\">all</w><n> </n><w o=\"41\">over</w><n>,</n><n> </n><w o=\"47\">and</w><n> </n><w o=\"51\">when</w><n> </n><w o=\"56\">I</w><n> </n><w o=\"58\">set</w><n> </n><w o=\"62\">out</w><n> </n><w o=\"66\">with</w><n> </n><w o=\"71\">Mr</w><n>.</n><n> </n><w o=\"75\">Wopsle</w><n> </n><w o=\"82\">on</w><n> </n><w o=\"85\">the</w><n> </n><w o=\"89\">walk</w><n> </n><w o=\"94\">home</w><n>.</n></toks></s><s sid=\"194\" id=\"GE.c15.s194\" eid=\"456\"><txt>Beyond town, we found a heavy mist out, and it fell wet and thick.</txt><toks><w o=\"0\">Beyond</w><n> </n><w o=\"7\">town</w><n>,</n><n> </n><w o=\"13\">we</w><n> </n><w o=\"16\">found</w><n> </n><w o=\"22\">a</w><n> </n><w o=\"24\">heavy</w><n> </n><w o=\"30\">mist</w><n> </n><w o=\"35\">out</w><n>,</n><n> </n><w o=\"40\">and</w><n> </n><w o=\"44\">it</w><n> </n><w o=\"47\">fell</w><n> </n><w o=\"52\">wet</w><n> </n><w o=\"56\">and</w><n> </n><w o=\"60\">thick</w><n>.</n></toks></s><s sid=\"195\" id=\"GE.c15.s195\" eid=\"457\"><txt>The turnpike lamp was a blur, quite out of the lamp\\'s usual place apparently, and its rays looked solid substance on the fog.</txt><toks><w o=\"0\">The</w><n> </n><w o=\"4\">turnpike</w><n> </n><w o=\"13\">lamp</w><n> </n><w o=\"18\">was</w><n> </n><w o=\"22\">a</w><n> </n><w o=\"24\">blur</w><n>,</n><n> </n><w o=\"30\">quite</w><n> </n><w o=\"36\">out</w><n> </n><w o=\"40\">of</w><n> </n><w o=\"43\">the</w><n> </n><w o=\"47\">lamp\\'s</w><n> </n><w o=\"54\">usual</w><n> </n><w o=\"60\">place</w><n> </n><w o=\"66\">apparently</w><n>,</n><n> </n><w o=\"78\">and</w><n> </n><w o=\"82\">its</w><n> </n><w o=\"86\">rays</w><n> </n><w o=\"91\">looked</w><n> </n><w o=\"98\">solid</w><n> </n><w o=\"104\">substance</w><n> </n><w o=\"114\">on</w><n> </n><w o=\"117\">the</w><n> </n><w o=\"121\">fog</w><n>.</n></toks></s><s sid=\"196\" id=\"GE.c15.s196\" eid=\"458\"><txt>We were noticing this, and saying how that the mist rose with a change of wind from a certain quarter of our marshes, when we came upon a man, slouching under the lee of the turnpike house.</txt><toks><w o=\"0\">We</w><n> </n><w o=\"3\">were</w><n> </n><w o=\"8\">noticing</w><n> </n><w o=\"17\">this</w><n>,</n><n> </n><w o=\"23\">and</w><n> </n><w o=\"27\">saying</w><n> </n><w o=\"34\">how</w><n> </n><w o=\"38\">that</w><n> </n><w o=\"43\">the</w><n> </n><w o=\"47\">mist</w><n> </n><w o=\"52\">rose</w><n> </n><w o=\"57\">with</w><n> </n><w o=\"62\">a</w><n> </n><w o=\"64\">change</w><n> </n><w o=\"71\">of</w><n> </n><w o=\"74\">wind</w><n> </n><w o=\"79\">from</w><n> </n><w o=\"84\">a</w><n> </n><w o=\"86\">certain</w><n> </n><w o=\"94\">quarter</w><n> </n><w o=\"102\">of</w><n> </n><w o=\"105\">our</w><n> </n><w o=\"109\">marshes</w><n>,</n><n> </n><w o=\"118\">when</w><n> </n><w o=\"123\">we</w><n> </n><w o=\"126\">came</w><n> </n><w o=\"131\">upon</w><n> </n><w o=\"136\">a</w><n> </n><w o=\"138\">man</w><n>,</n><n> </n><w o=\"143\">slouching</w><n> </n><w o=\"153\">under</w><n> </n><w o=\"159\">the</w><n> </n><w o=\"163\">lee</w><n> </n><w o=\"167\">of</w><n> </n><w o=\"170\">the</w><n> </n><w o=\"174\">turnpike</w><n> </n><w o=\"183\">house</w><n>.</n></toks></s></p>\\n\\n<p pid=\"77\" id=\"GE.c15.p77\" type=\"speech\" eid=\"459\"><s sid=\"197\" id=\"GE.c15.s197\" eid=\"460\"><txt>\"Halloa!\" we said, stopping.</txt><toks><qs eid=\"461\" offset=\"19558\" wordOffset=\"3641\"/><n>\"</n><w o=\"1\">Halloa</w><qe eid=\"462\" offset=\"19567\" wordOffset=\"3642\"/><n>!\"</n><n> </n><w o=\"10\">we</w><n> </n><w o=\"13\">said</w><n>,</n><n> </n><w o=\"19\">stopping</w><n>.</n></toks></s><s sid=\"198\" id=\"GE.c15.s198\" eid=\"463\"><txt>\"Orlick, there?\"</txt><toks><qs eid=\"464\" offset=\"19587\" wordOffset=\"3645\"/><n>\"</n><w o=\"1\">Orlick</w><n>,</n><n> </n><w o=\"9\">there</w><n>?\"</n></toks></s></p><p pid=\"78\" id=\"GE.c15.p78\" type=\"speech\" eid=\"466\"><s sid=\"199\" id=\"GE.c15.s199\" eid=\"467\"><txt>\"Ah!\" he answered, slouching out.</txt><toks><qe eid=\"465\" wordOffset=\"3647\" offset=\"19604\"/><qs eid=\"468\" offset=\"19604\" wordOffset=\"3647\"/><n>\"</n><w o=\"1\">Ah</w><qe eid=\"469\" offset=\"19609\" wordOffset=\"3648\"/><n>!\"</n><n> </n><w o=\"6\">he</w><n> </n><w o=\"9\">answered</w><n>,</n><n> </n><w o=\"19\">slouching</w><n> </n><w o=\"29\">out</w><n>.</n></toks></s><s sid=\"200\" id=\"GE.c15.s200\" eid=\"470\"><txt>\"I was standing by, a minute, on the chance of company.\"</txt><toks><qs eid=\"471\" offset=\"19638\" wordOffset=\"3652\"/><n>\"</n><w o=\"1\">I</w><n> </n><w o=\"3\">was</w><n> </n><w o=\"7\">standing</w><n> </n><w o=\"16\">by</w><n>,</n><n> </n><w o=\"20\">a</w><n> </n><w o=\"22\">minute</w><n>,</n><n> </n><w o=\"30\">on</w><n> </n><w o=\"33\">the</w><n> </n><w o=\"37\">chance</w><n> </n><w o=\"44\">of</w><n> </n><w o=\"47\">company</w><n>.\"</n></toks></s></p><p pid=\"79\" id=\"GE.c15.p79\" type=\"speech\" eid=\"473\"><s sid=\"201\" id=\"GE.c15.s201\" eid=\"474\"><txt>\"You are late,\" I remarked.</txt><toks><qe eid=\"472\" wordOffset=\"3663\" offset=\"19695\"/><qs eid=\"475\" offset=\"19695\" wordOffset=\"3663\"/><n>\"</n><w o=\"1\">You</w><n> </n><w o=\"5\">are</w><n> </n><w o=\"9\">late</w><qe eid=\"476\" offset=\"19710\" wordOffset=\"3666\"/><n>,\"</n><n> </n><w o=\"16\">I</w><n> </n><w o=\"18\">remarked</w><n>.</n></toks></s></p><p pid=\"80\" id=\"GE.c15.p80\" type=\"speech\" eid=\"477\"><s sid=\"202\" id=\"GE.c15.s202\" eid=\"478\"><txt>Orlick not unnaturally answered, \"Well?</txt><toks><w o=\"0\">Orlick</w><n> </n><w o=\"7\">not</w><n> </n><w o=\"11\">unnaturally</w><n> </n><w o=\"23\">answered</w><qs eid=\"479\" offset=\"19756\" wordOffset=\"3672\"/><n>,</n><n> </n><n>\"</n><w o=\"34\">Well</w><n>?</n></toks></s><s sid=\"203\" id=\"GE.c15.s203\" eid=\"480\"><txt>And you\\'re late.\"</txt><toks><w o=\"0\">And</w><n> </n><w o=\"4\">you\\'re</w><n> </n><w o=\"11\">late</w><n>.\"</n></toks></s></p><p pid=\"81\" id=\"GE.c15.p81\" type=\"speech\" eid=\"482\"><s sid=\"204\" id=\"GE.c15.s204\" eid=\"483\"><txt>\"We have been,\" said Mr. Wopsle, exalted with his late performance, \"we have been indulging, Mr. Orlick, in an intellectual evening.\"</txt><toks><qe eid=\"481\" wordOffset=\"3676\" offset=\"19781\"/><qs eid=\"484\" offset=\"19781\" wordOffset=\"3676\"/><n>\"</n><w o=\"1\">We</w><n> </n><w o=\"4\">have</w><n> </n><w o=\"9\">been</w><qe eid=\"485\" offset=\"19796\" wordOffset=\"3679\"/><sls eid=\"486\" offset=\"19796\" wordOffset=\"3679\"/><n>,\"</n><n> </n><w o=\"16\">said</w><n> </n><w o=\"21\">Mr</w><n>.</n><n> </n><w o=\"25\">Wopsle</w><n>,</n><n> </n><w o=\"33\">exalted</w><n> </n><w o=\"41\">with</w><n> </n><w o=\"46\">his</w><n> </n><w o=\"50\">late</w><n> </n><w o=\"55\">performance</w><sle eid=\"487\" offset=\"19849\" wordOffset=\"3687\"/><qs eid=\"488\" offset=\"19849\" wordOffset=\"3687\"/><n>,</n><n> </n><n>\"</n><w o=\"69\">we</w><n> </n><w o=\"72\">have</w><n> </n><w o=\"77\">been</w><n> </n><w o=\"82\">indulging</w><n>,</n><n> </n><w o=\"93\">Mr</w><n>.</n><n> </n><w o=\"97\">Orlick</w><n>,</n><n> </n><w o=\"105\">in</w><n> </n><w o=\"108\">an</w><n> </n><w o=\"111\">intellectual</w><n> </n><w o=\"124\">evening</w><n>.\"</n></toks></s></p><p pid=\"82\" id=\"GE.c15.p82\" eid=\"490\"><s sid=\"205\" id=\"GE.c15.s205\" eid=\"491\"><txt>Old Orlick growled, as if he had nothing to say about that, and we all went on together.</txt><toks><qe eid=\"489\" wordOffset=\"3697\" offset=\"19914\"/><w o=\"0\">Old</w><n> </n><w o=\"4\">Orlick</w><n> </n><w o=\"11\">growled</w><n>,</n><n> </n><w o=\"20\">as</w><n> </n><w o=\"23\">if</w><n> </n><w o=\"26\">he</w><n> </n><w o=\"29\">had</w><n> </n><w o=\"33\">nothing</w><n> </n><w o=\"41\">to</w><n> </n><w o=\"44\">say</w><n> </n><w o=\"48\">about</w><n> </n><w o=\"54\">that</w><n>,</n><n> </n><w o=\"60\">and</w><n> </n><w o=\"64\">we</w><n> </n><w o=\"67\">all</w><n> </n><w o=\"71\">went</w><n> </n><w o=\"76\">on</w><n> </n><w o=\"79\">together</w><n>.</n></toks></s><s sid=\"206\" id=\"GE.c15.s206\" eid=\"492\"><txt>I asked him presently whether he had been spending his half-holiday up and down town?</txt><toks><w o=\"0\">I</w><n> </n><w o=\"2\">asked</w><n> </n><w o=\"8\">him</w><n> </n><w o=\"12\">presently</w><n> </n><w o=\"22\">whether</w><n> </n><w o=\"30\">he</w><n> </n><w o=\"33\">had</w><n> </n><w o=\"37\">been</w><n> </n><w o=\"42\">spending</w><n> </n><w o=\"51\">his</w><n> </n><w o=\"55\">half-holiday</w><n> </n><w o=\"68\">up</w><n> </n><w o=\"71\">and</w><n> </n><w o=\"75\">down</w><n> </n><w o=\"80\">town</w><n>?</n></toks></s></p>\\n\\n<p pid=\"83\" id=\"GE.c15.p83\" type=\"speech\" eid=\"493\"><s sid=\"207\" id=\"GE.c15.s207\" eid=\"494\"><txt>\"Yes,\" said he, \"all of it.</txt><toks><qs eid=\"495\" offset=\"20090\" wordOffset=\"3730\"/><n>\"</n><w o=\"1\">Yes</w><qe eid=\"496\" offset=\"20096\" wordOffset=\"3731\"/><sss eid=\"497\" offset=\"20096\" wordOffset=\"3731\"/><n>,\"</n><n> </n><w o=\"7\">said</w><n> </n><w o=\"12\">he</w><sse eid=\"498\" offset=\"20106\" wordOffset=\"3733\"/><qs eid=\"499\" offset=\"20106\" wordOffset=\"3733\"/><n>,</n><n> </n><n>\"</n><w o=\"17\">all</w><n> </n><w o=\"21\">of</w><n> </n><w o=\"24\">it</w><n>.</n></toks></s><s sid=\"208\" id=\"GE.c15.s208\" eid=\"500\"><txt>I come in behind yourself.</txt><toks><w o=\"0\">I</w><n> </n><w o=\"2\">come</w><n> </n><w o=\"7\">in</w><n> </n><w o=\"10\">behind</w><n> </n><w o=\"17\">yourself</w><n>.</n></toks></s><s sid=\"209\" id=\"GE.c15.s209\" eid=\"501\"><txt>I didn\\'t see you, but I must have been pretty close behind you.</txt><toks><w o=\"0\">I</w><n> </n><w o=\"2\">didn\\'t</w><n> </n><w o=\"9\">see</w><n> </n><w o=\"13\">you</w><n>,</n><n> </n><w o=\"18\">but</w><n> </n><w o=\"22\">I</w><n> </n><w o=\"24\">must</w><n> </n><w o=\"29\">have</w><n> </n><w o=\"34\">been</w><n> </n><w o=\"39\">pretty</w><n> </n><w o=\"46\">close</w><n> </n><w o=\"52\">behind</w><n> </n><w o=\"59\">you</w><n>.</n></toks></s><s sid=\"210\" id=\"GE.c15.s210\" eid=\"502\"><txt>By-the-bye, the guns is going again.\"</txt><toks><w o=\"0\">By-the-bye</w><n>,</n><n> </n><w o=\"12\">the</w><n> </n><w o=\"16\">guns</w><n> </n><w o=\"21\">is</w><n> </n><w o=\"24\">going</w><n> </n><w o=\"30\">again</w><n>.\"</n></toks></s></p><p pid=\"84\" id=\"GE.c15.p84\" type=\"speech\" eid=\"504\"><s sid=\"211\" id=\"GE.c15.s211\" eid=\"505\"><txt>\"At the Hulks?\" said I.</txt><toks><qe eid=\"503\" wordOffset=\"3760\" offset=\"20247\"/><qs eid=\"506\" offset=\"20247\" wordOffset=\"3760\"/><n>\"</n><w o=\"1\">At</w><n> </n><w o=\"4\">the</w><n> </n><w o=\"8\">Hulks</w><qe eid=\"507\" offset=\"20262\" wordOffset=\"3763\"/><n>?\"</n><n> </n><w o=\"16\">said</w><n> </n><w o=\"21\">I</w><n>.</n></toks></s></p><p pid=\"85\" id=\"GE.c15.p85\" type=\"speech\" eid=\"508\"><s sid=\"212\" id=\"GE.c15.s212\" eid=\"509\"><txt>\"Ay!</txt><toks><qs eid=\"510\" offset=\"20271\" wordOffset=\"3765\"/><n>\"</n><w o=\"1\">Ay</w><n>!</n></toks></s><s sid=\"213\" id=\"GE.c15.s213\" eid=\"511\"><txt>There\\'s some of the birds flown from the cages.</txt><toks><w o=\"0\">There\\'s</w><n> </n><w o=\"8\">some</w><n> </n><w o=\"13\">of</w><n> </n><w o=\"16\">the</w><n> </n><w o=\"20\">birds</w><n> </n><w o=\"26\">flown</w><n> </n><w o=\"32\">from</w><n> </n><w o=\"37\">the</w><n> </n><w o=\"41\">cages</w><n>.</n></toks></s><s sid=\"214\" id=\"GE.c15.s214\" eid=\"512\"><txt>The guns have been going since dark, about.</txt><toks><w o=\"0\">The</w><n> </n><w o=\"4\">guns</w><n> </n><w o=\"9\">have</w><n> </n><w o=\"14\">been</w><n> </n><w o=\"19\">going</w><n> </n><w o=\"25\">since</w><n> </n><w o=\"31\">dark</w><n>,</n><n> </n><w o=\"37\">about</w><n>.</n></toks></s><s sid=\"215\" id=\"GE.c15.s215\" eid=\"513\"><txt>You\\'ll hear one presently.\"</txt><toks><w o=\"0\">You\\'ll</w><n> </n><w o=\"7\">hear</w><n> </n><w o=\"12\">one</w><n> </n><w o=\"16\">presently</w><n>.\"</n></toks></s></p><p pid=\"86\" id=\"GE.c15.p86\" eid=\"515\"><s sid=\"216\" id=\"GE.c15.s216\" eid=\"516\"><txt>In effect, we had not walked many yards further, when the wellremembered boom came towards us, deadened by the mist, and heavily rolled away along the low grounds by the river, as if it were pursuing and threatening the fugitives.</txt><toks><qe eid=\"514\" wordOffset=\"3787\" offset=\"20395\"/><w o=\"0\">In</w><n> </n><w o=\"3\">effect</w><n>,</n><n> </n><w o=\"11\">we</w><n> </n><w o=\"14\">had</w><n> </n><w o=\"18\">not</w><n> </n><w o=\"22\">walked</w><n> </n><w o=\"29\">many</w><n> </n><w o=\"34\">yards</w><n> </n><w o=\"40\">further</w><n>,</n><n> </n><w o=\"49\">when</w><n> </n><w o=\"54\">the</w><n> </n><w o=\"58\">wellremembered</w><n> </n><w o=\"73\">boom</w><n> </n><w o=\"78\">came</w><n> </n><w o=\"83\">towards</w><n> </n><w o=\"91\">us</w><n>,</n><n> </n><w o=\"95\">deadened</w><n> </n><w o=\"104\">by</w><n> </n><w o=\"107\">the</w><n> </n><w o=\"111\">mist</w><n>,</n><n> </n><w o=\"117\">and</w><n> </n><w o=\"121\">heavily</w><n> </n><w o=\"129\">rolled</w><n> </n><w o=\"136\">away</w><n> </n><w o=\"141\">along</w><n> </n><w o=\"147\">the</w><n> </n><w o=\"151\">low</w><n> </n><w o=\"155\">grounds</w><n> </n><w o=\"163\">by</w><n> </n><w o=\"166\">the</w><n> </n><w o=\"170\">river</w><n>,</n><n> </n><w o=\"177\">as</w><n> </n><w o=\"180\">if</w><n> </n><w o=\"183\">it</w><n> </n><w o=\"186\">were</w><n> </n><w o=\"191\">pursuing</w><n> </n><w o=\"200\">and</w><n> </n><w o=\"204\">threatening</w><n> </n><w o=\"216\">the</w><n> </n><w o=\"220\">fugitives</w><n>.</n></toks></s></p>\\n\\n<p pid=\"87\" id=\"GE.c15.p87\" type=\"speech\" eid=\"517\"><s sid=\"217\" id=\"GE.c15.s217\" eid=\"518\"><txt>\"A good night for cutting off in,\" said Orlick.</txt><toks><qs eid=\"519\" offset=\"20627\" wordOffset=\"3827\"/><n>\"</n><w o=\"1\">A</w><n> </n><w o=\"3\">good</w><n> </n><w o=\"8\">night</w><n> </n><w o=\"14\">for</w><n> </n><w o=\"18\">cutting</w><n> </n><w o=\"26\">off</w><n> </n><w o=\"30\">in</w><qe eid=\"520\" offset=\"20661\" wordOffset=\"3834\"/><n>,\"</n><n> </n><w o=\"35\">said</w><n> </n><w o=\"40\">Orlick</w><n>.</n></toks></s><s sid=\"218\" id=\"GE.c15.s218\" eid=\"521\"><txt>\"We\\'d be puzzled how to bring down a jail-bird on the wing, to-night.\"</txt><toks><qs eid=\"522\" offset=\"20675\" wordOffset=\"3836\"/><n>\"</n><w o=\"1\">We\\'d</w><n> </n><w o=\"6\">be</w><n> </n><w o=\"9\">puzzled</w><n> </n><w o=\"17\">how</w><n> </n><w o=\"21\">to</w><n> </n><w o=\"24\">bring</w><n> </n><w o=\"30\">down</w><n> </n><w o=\"35\">a</w><n> </n><w o=\"37\">jail-bird</w><n> </n><w o=\"47\">on</w><n> </n><w o=\"50\">the</w><n> </n><w o=\"54\">wing</w><n>,</n><n> </n><w o=\"60\">to-night</w><n>.\"</n></toks></s></p><p pid=\"88\" id=\"GE.c15.p88\" type=\"speech\" eid=\"524\"><s sid=\"219\" id=\"GE.c15.s219\" eid=\"525\"><txt>The subject was a suggestive one to me, and I thought about it in silence.</txt><toks><qe eid=\"523\" wordOffset=\"3849\" offset=\"20745\"/><w o=\"0\">The</w><n> </n><w o=\"4\">subject</w><n> </n><w o=\"12\">was</w><n> </n><w o=\"16\">a</w><n> </n><w o=\"18\">suggestive</w><n> </n><w o=\"29\">one</w><n> </n><w o=\"33\">to</w><n> </n><w o=\"36\">me</w><n>,</n><n> </n><w o=\"40\">and</w><n> </n><w o=\"44\">I</w><n> </n><w o=\"46\">thought</w><n> </n><w o=\"54\">about</w><n> </n><w o=\"60\">it</w><n> </n><w o=\"63\">in</w><n> </n><w o=\"66\">silence</w><n>.</n></toks></s><s sid=\"220\" id=\"GE.c15.s220\" eid=\"526\"><txt>Mr. Wopsle, as the ill-requited uncle of the evening\\'s tragedy, fell to meditating aloud in his garden at Camberwell.</txt><toks><w o=\"0\">Mr</w><n>.</n><n> </n><w o=\"4\">Wopsle</w><n>,</n><n> </n><w o=\"12\">as</w><n> </n><w o=\"15\">the</w><n> </n><w o=\"19\">ill-requited</w><n> </n><w o=\"32\">uncle</w><n> </n><w o=\"38\">of</w><n> </n><w o=\"41\">the</w><n> </n><w o=\"45\">evening\\'s</w><n> </n><w o=\"55\">tragedy</w><n>,</n><n> </n><w o=\"64\">fell</w><n> </n><w o=\"69\">to</w><n> </n><w o=\"72\">meditating</w><n> </n><w o=\"83\">aloud</w><n> </n><w o=\"89\">in</w><n> </n><w o=\"92\">his</w><n> </n><w o=\"96\">garden</w><n> </n><w o=\"103\">at</w><n> </n><w o=\"106\">Camberwell</w><n>.</n></toks></s><s sid=\"221\" id=\"GE.c15.s221\" eid=\"527\"><txt>Orlick, with his hands in his pockets, slouched heavily at my side.</txt><toks><w o=\"0\">Orlick</w><n>,</n><n> </n><w o=\"8\">with</w><n> </n><w o=\"13\">his</w><n> </n><w o=\"17\">hands</w><n> </n><w o=\"23\">in</w><n> </n><w o=\"26\">his</w><n> </n><w o=\"30\">pockets</w><n>,</n><n> </n><w o=\"39\">slouched</w><n> </n><w o=\"48\">heavily</w><n> </n><w o=\"56\">at</w><n> </n><w o=\"59\">my</w><n> </n><w o=\"62\">side</w><n>.</n></toks></s><s sid=\"222\" id=\"GE.c15.s222\" eid=\"528\"><txt>It was very dark, very wet, very muddy, and so we splashed along.</txt><toks><w o=\"0\">It</w><n> </n><w o=\"3\">was</w><n> </n><w o=\"7\">very</w><n> </n><w o=\"12\">dark</w><n>,</n><n> </n><w o=\"18\">very</w><n> </n><w o=\"23\">wet</w><n>,</n><n> </n><w o=\"28\">very</w><n> </n><w o=\"33\">muddy</w><n>,</n><n> </n><w o=\"40\">and</w><n> </n><w o=\"44\">so</w><n> </n><w o=\"47\">we</w><n> </n><w o=\"50\">splashed</w><n> </n><w o=\"59\">along</w><n>.</n></toks></s><s sid=\"223\" id=\"GE.c15.s223\" eid=\"529\"><txt>Now and then, the sound of the signal cannon broke upon us again, and again rolled sulkily along the course of the river.</txt><toks><w o=\"0\">Now</w><n> </n><w o=\"4\">and</w><n> </n><w o=\"8\">then</w><n>,</n><n> </n><w o=\"14\">the</w><n> </n><w o=\"18\">sound</w><n> </n><w o=\"24\">of</w><n> </n><w o=\"27\">the</w><n> </n><w o=\"31\">signal</w><n> </n><w o=\"38\">cannon</w><n> </n><w o=\"45\">broke</w><n> </n><w o=\"51\">upon</w><n> </n><w o=\"56\">us</w><n> </n><w o=\"59\">again</w><n>,</n><n> </n><w o=\"66\">and</w><n> </n><w o=\"70\">again</w><n> </n><w o=\"76\">rolled</w><n> </n><w o=\"83\">sulkily</w><n> </n><w o=\"91\">along</w><n> </n><w o=\"97\">the</w><n> </n><w o=\"101\">course</w><n> </n><w o=\"108\">of</w><n> </n><w o=\"111\">the</w><n> </n><w o=\"115\">river</w><n>.</n></toks></s><s sid=\"224\" id=\"GE.c15.s224\" eid=\"530\"><txt>I kept myself to myself and my thoughts.</txt><toks><w o=\"0\">I</w><n> </n><w o=\"2\">kept</w><n> </n><w o=\"7\">myself</w><n> </n><w o=\"14\">to</w><n> </n><w o=\"17\">myself</w><n> </n><w o=\"24\">and</w><n> </n><w o=\"28\">my</w><n> </n><w o=\"31\">thoughts</w><n>.</n></toks></s><s sid=\"225\" id=\"GE.c15.s225\" eid=\"531\"><txt>Mr. Wopsle died amiably at Camberwell, and exceedingly game on Bosworth Field, and in the greatest agonies at Glastonbury.</txt><toks><w o=\"0\">Mr</w><n>.</n><n> </n><w o=\"4\">Wopsle</w><n> </n><w o=\"11\">died</w><n> </n><w o=\"16\">amiably</w><n> </n><w o=\"24\">at</w><n> </n><w o=\"27\">Camberwell</w><n>,</n><n> </n><w o=\"39\">and</w><n> </n><w o=\"43\">exceedingly</w><n> </n><w o=\"55\">game</w><n> </n><w o=\"60\">on</w><n> </n><w o=\"63\">Bosworth</w><n> </n><w o=\"72\">Field</w><n>,</n><n> </n><w o=\"79\">and</w><n> </n><w o=\"83\">in</w><n> </n><w o=\"86\">the</w><n> </n><w o=\"90\">greatest</w><n> </n><w o=\"99\">agonies</w><n> </n><w o=\"107\">at</w><n> </n><w o=\"110\">Glastonbury</w><n>.</n></toks></s><s sid=\"226\" id=\"GE.c15.s226\" eid=\"532\"><txt>Orlick sometimes growled, \"Beat it out, beat it out - Old Clem!</txt><toks><w o=\"0\">Orlick</w><n> </n><w o=\"7\">sometimes</w><n> </n><w o=\"17\">growled</w><qs eid=\"533\" offset=\"21385\" wordOffset=\"3961\"/><n>,</n><n> </n><n>\"</n><w o=\"27\">Beat</w><n> </n><w o=\"32\">it</w><n> </n><w o=\"35\">out</w><n>,</n><n> </n><w o=\"40\">beat</w><n> </n><w o=\"45\">it</w><n> </n><w o=\"48\">out</w><n> </n><n>-</n><n> </n><w o=\"54\">Old</w><n> </n><w o=\"58\">Clem</w><n>!</n></toks></s><s sid=\"227\" id=\"GE.c15.s227\" eid=\"534\"><txt>With a clink for the stout - Old Clem!\"</txt><toks><w o=\"0\">With</w><n> </n><w o=\"5\">a</w><n> </n><w o=\"7\">clink</w><n> </n><w o=\"13\">for</w><n> </n><w o=\"17\">the</w><n> </n><w o=\"21\">stout</w><n> </n><n>-</n><n> </n><w o=\"29\">Old</w><n> </n><w o=\"33\">Clem</w><n>!\"</n></toks></s><s sid=\"228\" id=\"GE.c15.s228\" eid=\"536\"><txt>I thought he had been drinking, but he was not drunk.</txt><toks><qe eid=\"535\" wordOffset=\"3977\" offset=\"21462\"/><w o=\"0\">I</w><n> </n><w o=\"2\">thought</w><n> </n><w o=\"10\">he</w><n> </n><w o=\"13\">had</w><n> </n><w o=\"17\">been</w><n> </n><w o=\"22\">drinking</w><n>,</n><n> </n><w o=\"32\">but</w><n> </n><w o=\"36\">he</w><n> </n><w o=\"39\">was</w><n> </n><w o=\"43\">not</w><n> </n><w o=\"47\">drunk</w><n>.</n></toks></s></p><p pid=\"89\" id=\"GE.c15.p89\" eid=\"537\"><s sid=\"229\" id=\"GE.c15.s229\" eid=\"538\"><txt>Thus, we came to the village.</txt><toks><w o=\"0\">Thus</w><n>,</n><n> </n><w o=\"6\">we</w><n> </n><w o=\"9\">came</w><n> </n><w o=\"14\">to</w><n> </n><w o=\"17\">the</w><n> </n><w o=\"21\">village</w><n>.</n></toks></s><s sid=\"230\" id=\"GE.c15.s230\" eid=\"539\"><txt>The way by which we approached it, took us past the Three Jolly Bargemen, which we were surprised to find - it being eleven o\\'clock - in a state of commotion, with the door wide open, and unwonted lights that had been hastily caught up and put down, scattered about.</txt><toks><w o=\"0\">The</w><n> </n><w o=\"4\">way</w><n> </n><w o=\"8\">by</w><n> </n><w o=\"11\">which</w><n> </n><w o=\"17\">we</w><n> </n><w o=\"20\">approached</w><n> </n><w o=\"31\">it</w><n>,</n><n> </n><w o=\"35\">took</w><n> </n><w o=\"40\">us</w><n> </n><w o=\"43\">past</w><n> </n><w o=\"48\">the</w><n> </n><w o=\"52\">Three</w><n> </n><w o=\"58\">Jolly</w><n> </n><w o=\"64\">Bargemen</w><n>,</n><n> </n><w o=\"74\">which</w><n> </n><w o=\"80\">we</w><n> </n><w o=\"83\">were</w><n> </n><w o=\"88\">surprised</w><n> </n><w o=\"98\">to</w><n> </n><w o=\"101\">find</w><n> </n><n>-</n><n> </n><w o=\"108\">it</w><n> </n><w o=\"111\">being</w><n> </n><w o=\"117\">eleven</w><n> </n><w o=\"124\">o\\'clock</w><n> </n><n>-</n><n> </n><w o=\"134\">in</w><n> </n><w o=\"137\">a</w><n> </n><w o=\"139\">state</w><n> </n><w o=\"145\">of</w><n> </n><w o=\"148\">commotion</w><n>,</n><n> </n><w o=\"159\">with</w><n> </n><w o=\"164\">the</w><n> </n><w o=\"168\">door</w><n> </n><w o=\"173\">wide</w><n> </n><w o=\"178\">open</w><n>,</n><n> </n><w o=\"184\">and</w><n> </n><w o=\"188\">unwonted</w><n> </n><w o=\"197\">lights</w><n> </n><w o=\"204\">that</w><n> </n><w o=\"209\">had</w><n> </n><w o=\"213\">been</w><n> </n><w o=\"218\">hastily</w><n> </n><w o=\"226\">caught</w><n> </n><w o=\"233\">up</w><n> </n><w o=\"236\">and</w><n> </n><w o=\"240\">put</w><n> </n><w o=\"244\">down</w><n>,</n><n> </n><w o=\"250\">scattered</w><n> </n><w o=\"260\">about</w><n>.</n></toks></s><s sid=\"231\" id=\"GE.c15.s231\" eid=\"540\"><txt>Mr. Wopsle dropped in to ask what was the matter (surmising that a convict had been taken), but came running out in a great hurry.</txt><toks><w o=\"0\">Mr</w><n>.</n><n> </n><w o=\"4\">Wopsle</w><n> </n><w o=\"11\">dropped</w><n> </n><w o=\"19\">in</w><n> </n><w o=\"22\">to</w><n> </n><w o=\"25\">ask</w><n> </n><w o=\"29\">what</w><n> </n><w o=\"34\">was</w><n> </n><w o=\"38\">the</w><n> </n><w o=\"42\">matter</w><n> </n><n>(</n><w o=\"50\">surmising</w><n> </n><w o=\"60\">that</w><n> </n><w o=\"65\">a</w><n> </n><w o=\"67\">convict</w><n> </n><w o=\"75\">had</w><n> </n><w o=\"79\">been</w><n> </n><w o=\"84\">taken</w><n>),</n><n> </n><w o=\"92\">but</w><n> </n><w o=\"96\">came</w><n> </n><w o=\"101\">running</w><n> </n><w o=\"109\">out</w><n> </n><w o=\"113\">in</w><n> </n><w o=\"116\">a</w><n> </n><w o=\"118\">great</w><n> </n><w o=\"124\">hurry</w><n>.</n></toks></s></p>\\n\\n<p pid=\"90\" id=\"GE.c15.p90\" type=\"speech\" eid=\"541\"><s sid=\"232\" id=\"GE.c15.s232\" eid=\"542\"><txt>\"There\\'s something wrong,\" said he, without stopping, \"up at your place, Pip.</txt><toks><qs eid=\"543\" offset=\"21945\" wordOffset=\"4067\"/><n>\"</n><w o=\"1\">There\\'s</w><n> </n><w o=\"9\">something</w><n> </n><w o=\"19\">wrong</w><qe eid=\"544\" offset=\"21971\" wordOffset=\"4070\"/><sss eid=\"545\" offset=\"21971\" wordOffset=\"4070\"/><n>,\"</n><n> </n><w o=\"27\">said</w><n> </n><w o=\"32\">he</w><n>,</n><n> </n><w o=\"36\">without</w><n> </n><w o=\"44\">stopping</w><sse eid=\"546\" offset=\"21999\" wordOffset=\"4074\"/><qs eid=\"547\" offset=\"21999\" wordOffset=\"4074\"/><n>,</n><n> </n><n>\"</n><w o=\"55\">up</w><n> </n><w o=\"58\">at</w><n> </n><w o=\"61\">your</w><n> </n><w o=\"66\">place</w><n>,</n><n> </n><w o=\"73\">Pip</w><n>.</n></toks></s><s sid=\"233\" id=\"GE.c15.s233\" eid=\"548\"><txt>Run all!\"</txt><toks><w o=\"0\">Run</w><n> </n><w o=\"4\">all</w><n>!\"</n></toks></s></p><p pid=\"91\" id=\"GE.c15.p91\" type=\"speech\" eid=\"550\"><s sid=\"234\" id=\"GE.c15.s234\" eid=\"551\"><txt>\"What is it?\"</txt><toks><qe eid=\"549\" wordOffset=\"4081\" offset=\"22033\"/><qs eid=\"552\" offset=\"22033\" wordOffset=\"4081\"/><n>\"</n><w o=\"1\">What</w><n> </n><w o=\"6\">is</w><n> </n><w o=\"9\">it</w><n>?\"</n></toks></s><s sid=\"235\" id=\"GE.c15.s235\" eid=\"554\"><txt>I asked, keeping up with him.</txt><toks><qe eid=\"553\" wordOffset=\"4084\" offset=\"22046\"/><w o=\"0\">I</w><n> </n><w o=\"2\">asked</w><n>,</n><n> </n><w o=\"9\">keeping</w><n> </n><w o=\"17\">up</w><n> </n><w o=\"20\">with</w><n> </n><w o=\"25\">him</w><n>.</n></toks></s><s sid=\"236\" id=\"GE.c15.s236\" eid=\"555\"><txt>So did Orlick, at my side.</txt><toks><w o=\"0\">So</w><n> </n><w o=\"3\">did</w><n> </n><w o=\"7\">Orlick</w><n>,</n><n> </n><w o=\"15\">at</w><n> </n><w o=\"18\">my</w><n> </n><w o=\"21\">side</w><n>.</n></toks></s></p><p pid=\"92\" id=\"GE.c15.p92\" type=\"speech\" eid=\"556\"><s sid=\"237\" id=\"GE.c15.s237\" eid=\"557\"><txt>\"I can\\'t quite understand.</txt><toks><qs eid=\"558\" offset=\"22104\" wordOffset=\"4096\"/><n>\"</n><w o=\"1\">I</w><n> </n><w o=\"3\">can\\'t</w><n> </n><w o=\"9\">quite</w><n> </n><w o=\"15\">understand</w><n>.</n></toks></s><s sid=\"238\" id=\"GE.c15.s238\" eid=\"559\"><txt>The house seems to have been violently entered when Joe Gargery was out.</txt><toks><w o=\"0\">The</w><n> </n><w o=\"4\">house</w><n> </n><w o=\"10\">seems</w><n> </n><w o=\"16\">to</w><n> </n><w o=\"19\">have</w><n> </n><w o=\"24\">been</w><n> </n><w o=\"29\">violently</w><n> </n><w o=\"39\">entered</w><n> </n><w o=\"47\">when</w><n> </n><w o=\"52\">Joe</w><n> </n><w o=\"56\">Gargery</w><n> </n><w o=\"64\">was</w><n> </n><w o=\"68\">out</w><n>.</n></toks></s><s sid=\"239\" id=\"GE.c15.s239\" eid=\"560\"><txt>Supposed by convicts.</txt><toks><w o=\"0\">Supposed</w><n> </n><w o=\"9\">by</w><n> </n><w o=\"12\">convicts</w><n>.</n></toks></s><s sid=\"240\" id=\"GE.c15.s240\" eid=\"561\"><txt>Somebody has been attacked and hurt.\"</txt><toks><w o=\"0\">Somebody</w><n> </n><w o=\"9\">has</w><n> </n><w o=\"13\">been</w><n> </n><w o=\"18\">attacked</w><n> </n><w o=\"27\">and</w><n> </n><w o=\"31\">hurt</w><n>.\"</n></toks></s></p><p pid=\"93\" id=\"GE.c15.p93\" eid=\"563\"><s sid=\"241\" id=\"GE.c15.s241\" eid=\"564\"><txt>We were running too fast to admit of more being said, and we made no stop until we got into our kitchen.</txt><toks><qe eid=\"562\" wordOffset=\"4122\" offset=\"22263\"/><w o=\"0\">We</w><n> </n><w o=\"3\">were</w><n> </n><w o=\"8\">running</w><n> </n><w o=\"16\">too</w><n> </n><w o=\"20\">fast</w><n> </n><w o=\"25\">to</w><n> </n><w o=\"28\">admit</w><n> </n><w o=\"34\">of</w><n> </n><w o=\"37\">more</w><n> </n><w o=\"42\">being</w><n> </n><w o=\"48\">said</w><n>,</n><n> </n><w o=\"54\">and</w><n> </n><w o=\"58\">we</w><n> </n><w o=\"61\">made</w><n> </n><w o=\"66\">no</w><n> </n><w o=\"69\">stop</w><n> </n><w o=\"74\">until</w><n> </n><w o=\"80\">we</w><n> </n><w o=\"83\">got</w><n> </n><w o=\"87\">into</w><n> </n><w o=\"92\">our</w><n> </n><w o=\"96\">kitchen</w><n>.</n></toks></s><s sid=\"242\" id=\"GE.c15.s242\" eid=\"565\"><txt>It was full of people; the whole village was there, or in the yard; and there was a surgeon, and there was Joe, and there was a group of women, all on the floor in the midst of the kitchen.</txt><toks><w o=\"0\">It</w><n> </n><w o=\"3\">was</w><n> </n><w o=\"7\">full</w><n> </n><w o=\"12\">of</w><n> </n><w o=\"15\">people</w><n>;</n><n> </n><w o=\"23\">the</w><n> </n><w o=\"27\">whole</w><n> </n><w o=\"33\">village</w><n> </n><w o=\"41\">was</w><n> </n><w o=\"45\">there</w><n>,</n><n> </n><w o=\"52\">or</w><n> </n><w o=\"55\">in</w><n> </n><w o=\"58\">the</w><n> </n><w o=\"62\">yard</w><n>;</n><n> </n><w o=\"68\">and</w><n> </n><w o=\"72\">there</w><n> </n><w o=\"78\">was</w><n> </n><w o=\"82\">a</w><n> </n><w o=\"84\">surgeon</w><n>,</n><n> </n><w o=\"93\">and</w><n> </n><w o=\"97\">there</w><n> </n><w o=\"103\">was</w><n> </n><w o=\"107\">Joe</w><n>,</n><n> </n><w o=\"112\">and</w><n> </n><w o=\"116\">there</w><n> </n><w o=\"122\">was</w><n> </n><w o=\"126\">a</w><n> </n><w o=\"128\">group</w><n> </n><w o=\"134\">of</w><n> </n><w o=\"137\">women</w><n>,</n><n> </n><w o=\"144\">all</w><n> </n><w o=\"148\">on</w><n> </n><w o=\"151\">the</w><n> </n><w o=\"155\">floor</w><n> </n><w o=\"161\">in</w><n> </n><w o=\"164\">the</w><n> </n><w o=\"168\">midst</w><n> </n><w o=\"174\">of</w><n> </n><w o=\"177\">the</w><n> </n><w o=\"181\">kitchen</w><n>.</n></toks></s><s sid=\"243\" id=\"GE.c15.s243\" eid=\"566\"><txt>The unemployed bystanders drew back when they saw me, and so I became aware of my sister - lying without sense or movement on the bare boards where she had been knocked down by a tremendous blow on the back of the head, dealt by some unknown hand when her face was turned towards the fire - destined never to be on the Rampage again, while she was the wife of Joe.</txt><toks><w o=\"0\">The</w><n> </n><w o=\"4\">unemployed</w><n> </n><w o=\"15\">bystanders</w><n> </n><w o=\"26\">drew</w><n> </n><w o=\"31\">back</w><n> </n><w o=\"36\">when</w><n> </n><w o=\"41\">they</w><n> </n><w o=\"46\">saw</w><n> </n><w o=\"50\">me</w><n>,</n><n> </n><w o=\"54\">and</w><n> </n><w o=\"58\">so</w><n> </n><w o=\"61\">I</w><n> </n><w o=\"63\">became</w><n> </n><w o=\"70\">aware</w><n> </n><w o=\"76\">of</w><n> </n><w o=\"79\">my</w><n> </n><w o=\"82\">sister</w><n> </n><n>-</n><n> </n><w o=\"91\">lying</w><n> </n><w o=\"97\">without</w><n> </n><w o=\"105\">sense</w><n> </n><w o=\"111\">or</w><n> </n><w o=\"114\">movement</w><n> </n><w o=\"123\">on</w><n> </n><w o=\"126\">the</w><n> </n><w o=\"130\">bare</w><n> </n><w o=\"135\">boards</w><n> </n><w o=\"142\">where</w><n> </n><w o=\"148\">she</w><n> </n><w o=\"152\">had</w><n> </n><w o=\"156\">been</w><n> </n><w o=\"161\">knocked</w><n> </n><w o=\"169\">down</w><n> </n><w o=\"174\">by</w><n> </n><w o=\"177\">a</w><n> </n><w o=\"179\">tremendous</w><n> </n><w o=\"190\">blow</w><n> </n><w o=\"195\">on</w><n> </n><w o=\"198\">the</w><n> </n><w o=\"202\">back</w><n> </n><w o=\"207\">of</w><n> </n><w o=\"210\">the</w><n> </n><w o=\"214\">head</w><n>,</n><n> </n><w o=\"220\">dealt</w><n> </n><w o=\"226\">by</w><n> </n><w o=\"229\">some</w><n> </n><w o=\"234\">unknown</w><n> </n><w o=\"242\">hand</w><n> </n><w o=\"247\">when</w><n> </n><w o=\"252\">her</w><n> </n><w o=\"256\">face</w><n> </n><w o=\"261\">was</w><n> </n><w o=\"265\">turned</w><n> </n><w o=\"272\">towards</w><n> </n><w o=\"280\">the</w><n> </n><w o=\"284\">fire</w><n> </n><n>-</n><n> </n><w o=\"291\">destined</w><n> </n><w o=\"300\">never</w><n> </n><w o=\"306\">to</w><n> </n><w o=\"309\">be</w><n> </n><w o=\"312\">on</w><n> </n><w o=\"315\">the</w><n> </n><w o=\"319\">Rampage</w><n> </n><w o=\"327\">again</w><n>,</n><n> </n><w o=\"334\">while</w><n> </n><w o=\"340\">she</w><n> </n><w o=\"344\">was</w><n> </n><w o=\"348\">the</w><n> </n><w o=\"352\">wife</w><n> </n><w o=\"357\">of</w><n> </n><w o=\"360\">Joe</w><n>.</n></toks></s></p></div>'"
      ]
     },
     "execution_count": 12,
     "metadata": {},
     "output_type": "execute_result"
    }
   ],
   "source": [
    "xmlstring"
   ]
  },
  {
   "cell_type": "code",
   "execution_count": null,
   "metadata": {
    "collapsed": true
   },
   "outputs": [],
   "source": []
  },
  {
   "cell_type": "code",
   "execution_count": null,
   "metadata": {
    "collapsed": true
   },
   "outputs": [],
   "source": []
  },
  {
   "cell_type": "code",
   "execution_count": null,
   "metadata": {
    "collapsed": true
   },
   "outputs": [],
   "source": []
  },
  {
   "cell_type": "code",
   "execution_count": 86,
   "metadata": {
    "collapsed": false
   },
   "outputs": [
    {
     "name": "stdout",
     "output_type": "stream",
     "text": [
      "94\n"
     ]
    }
   ],
   "source": [
    "# concordance = build_concordance(\"lamp\", 25)\n",
    "print len(concordance)"
   ]
  },
  {
   "cell_type": "code",
   "execution_count": 88,
   "metadata": {
    "collapsed": false,
    "scrolled": true
   },
   "outputs": [
    {
     "name": "stdout",
     "output_type": "stream",
     "text": [
      "55 [[0, 3603, 19274, 15292, 15292]] pike lamp was a blur, quite out of the lamp's usual p ######## As I was getting too big for Mr. Wopsle's great-aunt's room, my education under that preposterous fe\n"
     ]
    }
   ],
   "source": [
    "for line in concordance[55:56]:\n",
    "    print concordance.index(line), line[0], line[1], \"########\", line[2][:100]"
   ]
  },
  {
   "cell_type": "code",
   "execution_count": 41,
   "metadata": {
    "collapsed": false,
    "scrolled": true
   },
   "outputs": [
    {
     "name": "stdout",
     "output_type": "stream",
     "text": [
      "0\n",
      "1\n",
      "2\n",
      "3\n",
      "4\n",
      "5\n",
      "6\n",
      "7\n",
      "8\n",
      "9\n",
      "10\n",
      "11\n",
      "12\n",
      "13\n",
      "14\n",
      "15\n",
      "16\n",
      "17\n",
      "18\n",
      "19\n",
      "20\n",
      "21\n",
      "22\n",
      "23\n",
      "24\n",
      "25\n",
      "26\n",
      "27\n",
      "28\n",
      "29\n",
      "30\n",
      "31\n",
      "32\n",
      "33\n",
      "34\n",
      "35\n",
      "36\n",
      "37\n",
      "38\n",
      "39\n",
      "40\n",
      "41\n",
      "42\n",
      "43\n",
      "44\n",
      "45\n",
      "46\n",
      "47\n",
      "48\n",
      "49\n",
      "50\n",
      "51\n",
      "52\n",
      "53\n",
      "54\n",
      "55\n",
      "56\n",
      "57\n",
      "58\n",
      "59\n",
      "60\n",
      "61\n",
      "62\n",
      "63\n",
      "64\n",
      "65\n",
      "66\n",
      "67\n",
      "68\n",
      "69\n",
      "70\n",
      "71\n",
      "72\n",
      "73\n",
      "74\n",
      "75\n",
      "76\n",
      "77\n",
      "78\n",
      "79\n",
      "80\n",
      "81\n",
      "82\n",
      "83\n",
      "84\n",
      "85\n",
      "86\n",
      "87\n",
      "88\n",
      "89\n",
      "90\n",
      "91\n",
      "92\n",
      "93\n",
      "94\n",
      "95\n",
      "96\n",
      "97\n",
      "98\n",
      "99\n",
      "100\n",
      "101\n",
      "102\n",
      "103\n",
      "104\n",
      "105\n",
      "106\n",
      "107\n",
      "108\n",
      "109\n",
      "110\n",
      "111\n",
      "112\n",
      "113\n",
      "114\n",
      "115\n",
      "116\n",
      "117\n",
      "118\n",
      "119\n",
      "120\n",
      "121\n",
      "122\n",
      "123\n",
      "124\n",
      "125\n",
      "126\n",
      "127\n",
      "128\n",
      "129\n",
      "130\n",
      "131\n",
      "132\n",
      "133\n",
      "134\n",
      "135\n",
      "136\n",
      "137\n",
      "138\n",
      "139\n",
      "140\n",
      "141\n",
      "142\n",
      "143\n",
      "144\n",
      "145\n",
      "146\n",
      "147\n",
      "148\n",
      "149\n",
      "150\n"
     ]
    }
   ],
   "source": [
    "for line in concordance[0:1000]:\n",
    "    print concordance.index(line)"
   ]
  },
  {
   "cell_type": "code",
   "execution_count": 26,
   "metadata": {
    "collapsed": false
   },
   "outputs": [],
   "source": [
    "def build_concordance_with_locations(term, context, max_hits):\n",
    "    \n",
    "    query = qf.get_query(session, \"\"\"(c3.subcorpus-idx all \"dickens\" and/cql.proxinfo c3.chapter-idx any \"{}\" )\"\"\".format(term))\n",
    "    result_set = db.search(session, query)\n",
    "\n",
    "    concordance = []\n",
    "    \n",
    "    count = 0\n",
    "    \n",
    "    for result in result_set:\n",
    "    \n",
    "        if count < max_hits:\n",
    "            record = result.fetch_record(session)\n",
    "            tree = record.get_dom(session)\n",
    "            text_nodes = tree.xpath('//txt/text()')\n",
    "            text_only = ' '.join(sentence for sentence in text_nodes)\n",
    "\n",
    "            for hit in result.proxInfo:\n",
    "                if count < max_hits:\n",
    "                    count +=1 \n",
    "                \n",
    "                    word_id = hit[0][1]  \n",
    "                    char_location = hit[0][2]\n",
    "                    concordance_line = text_only[char_location - context : char_location + len(term) + context]\n",
    "                    #NOTE in these cases record.process_xpath(session, xpath) is not faster\n",
    "                    #TODO check there is only one result\n",
    "                    sentence = tree.xpath('/div/descendant::w[%i]/ancestor-or-self::s/@id' % int(word_id + 1))\n",
    "                    paragraph = tree.xpath('/div/descendant::w[%i]/ancestor-or-self::p/@id' % int(word_id + 1))\n",
    "                    concordance.append((concordance_line, sentence[0], paragraph[0]))\n",
    "    \n",
    "    return concordance"
   ]
  },
  {
   "cell_type": "code",
   "execution_count": 27,
   "metadata": {
    "collapsed": false
   },
   "outputs": [
    {
     "name": "stdout",
     "output_type": "stream",
     "text": [
      "1 loops, best of 3: 560 ms per loop\n"
     ]
    }
   ],
   "source": [
    "%timeit build_concordance_with_locations(\"fog\", 25, 100)"
   ]
  },
  {
   "cell_type": "code",
   "execution_count": null,
   "metadata": {
    "collapsed": false
   },
   "outputs": [],
   "source": [
    "%timeit build_concordance_with_locations(\"the\", 25, 100)"
   ]
  },
  {
   "cell_type": "code",
   "execution_count": 10,
   "metadata": {
    "collapsed": false
   },
   "outputs": [
    {
     "name": "stdout",
     "output_type": "stream",
     "text": [
      "1 loops, best of 3: 858 ms per loop\n"
     ]
    }
   ],
   "source": [
    "%timeit build_concordance_with_locations(\"the\", 25, 1000)"
   ]
  },
  {
   "cell_type": "code",
   "execution_count": null,
   "metadata": {
    "collapsed": false
   },
   "outputs": [],
   "source": [
    "%prun build_concordance_with_locations(\"the\", 25)"
   ]
  },
  {
   "cell_type": "code",
   "execution_count": 9,
   "metadata": {
    "collapsed": false
   },
   "outputs": [
    {
     "name": "stdout",
     "output_type": "stream",
     "text": [
      "1 loops, best of 3: 6.36 s per loop\n"
     ]
    }
   ],
   "source": [
    "%timeit build_concordance_with_locations(\"the\", 25, 10000)"
   ]
  },
  {
   "cell_type": "code",
   "execution_count": null,
   "metadata": {
    "collapsed": false
   },
   "outputs": [],
   "source": [
    "%timeit build_concordance_with_locations(\"the\", 25, 100000)"
   ]
  },
  {
   "cell_type": "code",
   "execution_count": null,
   "metadata": {
    "collapsed": false
   },
   "outputs": [],
   "source": [
    "%timeit -n1 concordance = build_concordance_with_locations(\"the\", 25, 1000000)"
   ]
  },
  {
   "cell_type": "code",
   "execution_count": 23,
   "metadata": {
    "collapsed": false
   },
   "outputs": [],
   "source": [
    "concordance = build_concordance_with_locations(\"dense fog\", 25, 1000)"
   ]
  },
  {
   "cell_type": "code",
   "execution_count": 24,
   "metadata": {
    "collapsed": false
   },
   "outputs": [
    {
     "data": {
      "text/plain": [
       "3"
      ]
     },
     "execution_count": 24,
     "metadata": {},
     "output_type": "execute_result"
    }
   ],
   "source": [
    "len(concordance)"
   ]
  },
  {
   "cell_type": "code",
   "execution_count": 25,
   "metadata": {
    "collapsed": false
   },
   "outputs": [
    {
     "name": "stdout",
     "output_type": "stream",
     "text": [
      "('rnoon is rawest, and the dense fog is densest, and the mudd', 'BH.c1.s17', 'BH.c1.p4')\n",
      "('r had been filled with a dense fog, which, clearing away in', 'BR.c26.s62', 'BR.c26.p21')\n",
      "('en midnight. There was a dense fog too; as if it were a cit', 'MC.c8.s141', 'MC.c8.p60')\n"
     ]
    }
   ],
   "source": [
    "for line in concordance:\n",
    "    print line"
   ]
  },
  {
   "cell_type": "markdown",
   "metadata": {},
   "source": [
    "# Testing and learning stuff"
   ]
  },
  {
   "cell_type": "code",
   "execution_count": null,
   "metadata": {
    "collapsed": false
   },
   "outputs": [],
   "source": [
    "# coding: utf-8\n",
    "\n",
    "import os\n",
    "\n",
    "from cheshire3.baseObjects import Session\n",
    "from cheshire3.document import StringDocument\n",
    "from cheshire3.internal import cheshire3Root\n",
    "from cheshire3.server import SimpleServer   \n",
    "\n",
    "session = Session()\n",
    "session.database = 'db_dickens'\n",
    "serv = SimpleServer(session, os.path.join(cheshire3Root, 'configs', 'serverConfig.xml'))\n",
    "db = serv.get_object(session, session.database)\n",
    "qf = db.get_object(session, 'defaultQueryFactory')\n",
    "resultSetStore = db.get_object(session, 'resultSetStore')\n",
    "idxStore = db.get_object(session, 'indexStore')"
   ]
  },
  {
   "cell_type": "code",
   "execution_count": null,
   "metadata": {
    "collapsed": false
   },
   "outputs": [],
   "source": [
    "query = qf.get_query(session, '(c3.subcorpus-idx all \"dickens\" and/cql.proxinfo c3.chapter-idx any \"fog\")')\n",
    "result_set = db.search(session, query)"
   ]
  },
  {
   "cell_type": "markdown",
   "metadata": {},
   "source": [
    "A result in a resultset refers to a recordStore\n",
    "(which in the case of the chapter-idx are chapters)"
   ]
  },
  {
   "cell_type": "code",
   "execution_count": null,
   "metadata": {
    "collapsed": false
   },
   "outputs": [],
   "source": [
    "result = result_set[0]\n",
    "print result"
   ]
  },
  {
   "cell_type": "markdown",
   "metadata": {},
   "source": [
    "The occurences value is wrong, from what I can gather."
   ]
  },
  {
   "cell_type": "code",
   "execution_count": null,
   "metadata": {
    "collapsed": false
   },
   "outputs": [],
   "source": [
    "result.occurences"
   ]
  },
  {
   "cell_type": "markdown",
   "metadata": {},
   "source": [
    "The values in proxInfo are not sorted"
   ]
  },
  {
   "cell_type": "code",
   "execution_count": null,
   "metadata": {
    "collapsed": false
   },
   "outputs": [],
   "source": [
    "result.proxInfo[:15]"
   ]
  },
  {
   "cell_type": "markdown",
   "metadata": {},
   "source": [
    "From the result one can get an actual result\n",
    "which we can use to get_xml (as a string)\n",
    "or get_dom (an XML tree)."
   ]
  },
  {
   "cell_type": "code",
   "execution_count": null,
   "metadata": {
    "collapsed": false
   },
   "outputs": [],
   "source": [
    "record = result.fetch_record(session)"
   ]
  },
  {
   "cell_type": "code",
   "execution_count": null,
   "metadata": {
    "collapsed": false
   },
   "outputs": [],
   "source": [
    "record.byteCount"
   ]
  },
  {
   "cell_type": "code",
   "execution_count": null,
   "metadata": {
    "collapsed": false
   },
   "outputs": [],
   "source": [
    "?record.fetch_proxVector(session)"
   ]
  },
  {
   "cell_type": "code",
   "execution_count": null,
   "metadata": {
    "collapsed": false
   },
   "outputs": [],
   "source": [
    "record.get_xml(session)"
   ]
  },
  {
   "cell_type": "code",
   "execution_count": null,
   "metadata": {
    "collapsed": false
   },
   "outputs": [],
   "source": [
    "tree = record.get_dom(session)"
   ]
  },
  {
   "cell_type": "markdown",
   "metadata": {},
   "source": [
    "## Types of XPATH queries needed for the concordance"
   ]
  },
  {
   "cell_type": "code",
   "execution_count": null,
   "metadata": {
    "collapsed": false
   },
   "outputs": [],
   "source": [
    "%timeit tree.xpath(\"//txt/text()\")\n",
    "one = tree.xpath(\"//txt/text()\")\n",
    "len(one)"
   ]
  },
  {
   "cell_type": "code",
   "execution_count": null,
   "metadata": {
    "collapsed": false
   },
   "outputs": [],
   "source": [
    "%timeit tree.xpath(\"/div/p/s/txt/text()\")\n",
    "two = tree.xpath(\"/div/p/s/txt/text()\")\n",
    "len(two)"
   ]
  },
  {
   "cell_type": "markdown",
   "metadata": {},
   "source": [
    "If one has the eid and the character ofset (which\n",
    "is also part of the w elements!) one can the actual\n",
    "word that was a hit, but one can also go a bit further\n",
    "and get the sentence and paragraphs id's."
   ]
  },
  {
   "cell_type": "code",
   "execution_count": null,
   "metadata": {
    "collapsed": false
   },
   "outputs": [],
   "source": [
    "tree.xpath(\"/div/p/s[@eid=183]/toks/w[@o=215]/text()\")"
   ]
  },
  {
   "cell_type": "code",
   "execution_count": null,
   "metadata": {
    "collapsed": false
   },
   "outputs": [],
   "source": [
    "tree.xpath(\"/div/p/s[@eid=183]/toks\")"
   ]
  },
  {
   "cell_type": "code",
   "execution_count": null,
   "metadata": {
    "collapsed": false
   },
   "outputs": [],
   "source": [
    "tree.xpath(\"/div/p/s[@eid=183]/toks/w/text()\")"
   ]
  },
  {
   "cell_type": "code",
   "execution_count": null,
   "metadata": {
    "collapsed": false
   },
   "outputs": [],
   "source": [
    "tree.xpath(\"/div/p/self::s[@eid=183]/toks/w[@o=215]\")"
   ]
  },
  {
   "cell_type": "code",
   "execution_count": null,
   "metadata": {
    "collapsed": false
   },
   "outputs": [],
   "source": [
    "tree.xpath(\"/div/p/s/toks/w[@o=215]\")"
   ]
  },
  {
   "cell_type": "markdown",
   "metadata": {},
   "source": [
    "Three ways to get the book, chapter and sentence id:"
   ]
  },
  {
   "cell_type": "code",
   "execution_count": null,
   "metadata": {
    "collapsed": false
   },
   "outputs": [],
   "source": [
    "%timeit tree.xpath(\"//p/s[@eid=183]/@id\")\n",
    "tree.xpath(\"//p/s[@eid=183]/@id\")"
   ]
  },
  {
   "cell_type": "code",
   "execution_count": null,
   "metadata": {
    "collapsed": false
   },
   "outputs": [],
   "source": [
    "%timeit tree.xpath(\"//*[@eid=183]/@id\")\n",
    "# see how slow this is!\n",
    "tree.xpath(\"//*[@eid=183]/@id\")"
   ]
  },
  {
   "cell_type": "code",
   "execution_count": null,
   "metadata": {
    "collapsed": false
   },
   "outputs": [],
   "source": [
    "%timeit tree.xpath(\"//s[@eid=183]/@id\")\n",
    "tree.xpath(\"//s[@eid=183]/@id\")"
   ]
  },
  {
   "cell_type": "markdown",
   "metadata": {},
   "source": [
    "If one creates a smaller tree, the computations \n",
    "are more efficient."
   ]
  },
  {
   "cell_type": "code",
   "execution_count": null,
   "metadata": {
    "collapsed": false
   },
   "outputs": [],
   "source": [
    "s = tree.xpath(\"//p/s[@eid=%i]\" % 183)"
   ]
  },
  {
   "cell_type": "code",
   "execution_count": null,
   "metadata": {
    "collapsed": false
   },
   "outputs": [],
   "source": [
    "s"
   ]
  },
  {
   "cell_type": "code",
   "execution_count": null,
   "metadata": {
    "collapsed": false
   },
   "outputs": [],
   "source": [
    "print s[0]"
   ]
  },
  {
   "cell_type": "code",
   "execution_count": null,
   "metadata": {
    "collapsed": false
   },
   "outputs": [],
   "source": [
    "s[0].xpath(\"self::s/@id\")"
   ]
  },
  {
   "cell_type": "code",
   "execution_count": null,
   "metadata": {
    "collapsed": false
   },
   "outputs": [],
   "source": [
    "s[0].xpath(\"attribute::id\")"
   ]
  },
  {
   "cell_type": "code",
   "execution_count": null,
   "metadata": {
    "collapsed": false
   },
   "outputs": [],
   "source": [
    "%timeit tree.xpath(\"//s[@eid=183]/ancestor::p/@id\")\n",
    "tree.xpath(\"//s[@eid=183]/ancestor::p/@id\")"
   ]
  },
  {
   "cell_type": "code",
   "execution_count": null,
   "metadata": {
    "collapsed": false
   },
   "outputs": [],
   "source": [
    "%timeit s[0].xpath(\"ancestor::p/@id\")\n",
    "s[0].xpath(\"ancestor::p/@id\")"
   ]
  },
  {
   "cell_type": "code",
   "execution_count": null,
   "metadata": {
    "collapsed": false
   },
   "outputs": [],
   "source": [
    "sentence = tree.xpath(\"//p/s[@eid=%i]\" % 1)    # format: ['BH.c1.s93']\n",
    "sentence"
   ]
  },
  {
   "cell_type": "markdown",
   "metadata": {},
   "source": [
    "# Searching for fog"
   ]
  },
  {
   "cell_type": "code",
   "execution_count": null,
   "metadata": {
    "collapsed": false
   },
   "outputs": [],
   "source": [
    "query = qf.get_query(session, '(c3.subcorpus-idx all \"dickens\" and/cql.proxinfo c3.chapter-idx any \"fog\")')\n",
    "result_set = db.search(session, query)"
   ]
  },
  {
   "cell_type": "code",
   "execution_count": null,
   "metadata": {
    "collapsed": false
   },
   "outputs": [],
   "source": []
  },
  {
   "cell_type": "code",
   "execution_count": null,
   "metadata": {
    "collapsed": false
   },
   "outputs": [],
   "source": []
  },
  {
   "cell_type": "code",
   "execution_count": null,
   "metadata": {
    "collapsed": false
   },
   "outputs": [],
   "source": [
    "result = result_set[0]\n",
    "proxinfo = result.proxInfo[:15]\n",
    "\n",
    "from pprint import pprint  # to \"prettry print\" a nested list nicely\n",
    "pprint(proxinfo)"
   ]
  },
  {
   "cell_type": "code",
   "execution_count": null,
   "metadata": {
    "collapsed": false
   },
   "outputs": [],
   "source": []
  },
  {
   "cell_type": "code",
   "execution_count": null,
   "metadata": {
    "collapsed": false
   },
   "outputs": [],
   "source": [
    "record.get_xml(session)[6409:8000]"
   ]
  },
  {
   "cell_type": "code",
   "execution_count": null,
   "metadata": {
    "collapsed": false
   },
   "outputs": [],
   "source": [
    "tree = record.get_dom(session)"
   ]
  },
  {
   "cell_type": "code",
   "execution_count": null,
   "metadata": {
    "collapsed": false
   },
   "outputs": [],
   "source": [
    "prox1 = proxinfo[0][0][0]\n",
    "prox2 = proxinfo[0][0][1]\n",
    "prox3 = proxinfo[0][0][2]\n",
    "prox4 = proxinfo[0][0][3]\n",
    "\n",
    "for prox in (prox1, prox2, prox3, prox4): print prox"
   ]
  },
  {
   "cell_type": "code",
   "execution_count": null,
   "metadata": {
    "collapsed": false
   },
   "outputs": [],
   "source": [
    "# output is a boolean\n",
    "tree.xpath('/div/p/s/toks/w/@o=%i' % prox1)"
   ]
  },
  {
   "cell_type": "code",
   "execution_count": null,
   "metadata": {
    "collapsed": false
   },
   "outputs": [],
   "source": [
    "w = tree.xpath('/div/p/s/toks/w[@o=%i]/text()' % prox1)\n",
    "print w\n",
    "# o = 0 in this case; this is interesting to see\n",
    "# quickly what words sentences start with. "
   ]
  },
  {
   "cell_type": "code",
   "execution_count": null,
   "metadata": {
    "collapsed": false
   },
   "outputs": [],
   "source": [
    "w = tree.xpath('/div/descendant::w[%i]' % prox2)\n",
    "print w"
   ]
  },
  {
   "cell_type": "code",
   "execution_count": null,
   "metadata": {
    "collapsed": false
   },
   "outputs": [],
   "source": [
    "w = tree.xpath('/div/descendant::w[%i]/text()' % int(prox2 + 1))\n",
    "print w"
   ]
  },
  {
   "cell_type": "code",
   "execution_count": null,
   "metadata": {
    "collapsed": false
   },
   "outputs": [],
   "source": [
    "tree.xpath('/div/descendant::w[%i]/text()' % int(prox2 + 1))"
   ]
  },
  {
   "cell_type": "code",
   "execution_count": null,
   "metadata": {
    "collapsed": false
   },
   "outputs": [],
   "source": [
    "tree.xpath('/div/descendant::w[%i]/ancestor-or-self::s/@id' % int(prox2 + 1))"
   ]
  },
  {
   "cell_type": "code",
   "execution_count": null,
   "metadata": {
    "collapsed": false
   },
   "outputs": [],
   "source": [
    "tree.xpath('/div/descendant::w[%i]/ancestor-or-self::p/@id' % int(prox2 + 1))"
   ]
  },
  {
   "cell_type": "code",
   "execution_count": null,
   "metadata": {
    "collapsed": false
   },
   "outputs": [],
   "source": [
    "#TODO time\n",
    "record.process_xpath(session, '//*[@eid=\"%d\"]/following::w[%d+1]/ancestor-or-self::s' % (prox1, prox2))"
   ]
  },
  {
   "cell_type": "markdown",
   "metadata": {},
   "source": []
  },
  {
   "cell_type": "code",
   "execution_count": null,
   "metadata": {
    "collapsed": false
   },
   "outputs": [],
   "source": []
  },
  {
   "cell_type": "code",
   "execution_count": null,
   "metadata": {
    "collapsed": false
   },
   "outputs": [],
   "source": []
  },
  {
   "cell_type": "code",
   "execution_count": null,
   "metadata": {
    "collapsed": false
   },
   "outputs": [],
   "source": []
  },
  {
   "cell_type": "code",
   "execution_count": null,
   "metadata": {
    "collapsed": false
   },
   "outputs": [],
   "source": []
  },
  {
   "cell_type": "code",
   "execution_count": null,
   "metadata": {
    "collapsed": false
   },
   "outputs": [],
   "source": []
  },
  {
   "cell_type": "code",
   "execution_count": null,
   "metadata": {
    "collapsed": false
   },
   "outputs": [],
   "source": [
    "def build_concordance_with_location(term, context):\n",
    "    \n",
    "    query = qf.get_query(session, \"\"\"(c3.subcorpus-idx all \"dickens\" and/cql.proxinfo c3.chapter-idx any \"{}\" )\"\"\".format(term))\n",
    "    result_set = db.search(session, query)\n",
    "\n",
    "    concordance = []\n",
    "        \n",
    "    for result in result_set:\n",
    "        record = result.fetch_record(session)\n",
    "        tree = record.get_dom(session)\n",
    "        text_nodes = tree.xpath('//txt/text()')\n",
    "        text_only = ' '.join(sentence for sentence in text_nodes)\n",
    "            \n",
    "        for hit in result.proxInfo:\n",
    "            word_id = hit[0][1]  \n",
    "            char_location = hit[0][2]\n",
    "            concordance_line = text_only[char_location - context : char_location + len(term) + context]\n",
    "            #NOTE in these cases record.process_xpath(session, xpath) is not faster\n",
    "            #TODO check there is only one result\n",
    "            sentence = tree.xpath('/div/descendant::w[%i]/ancestor-or-self::s/@id' % int(word_id + 1))\n",
    "            paragraph = tree.xpath('/div/descendant::w[%i]/ancestor-or-self::p/@id' % int(word_id + 1))\n",
    "            concordance.append((concordance_line, sentence[0], paragraph[0]))\n",
    "    \n",
    "    return concordance"
   ]
  },
  {
   "cell_type": "code",
   "execution_count": null,
   "metadata": {
    "collapsed": false
   },
   "outputs": [],
   "source": [
    "%timeit -n1 concordance = build_concordance_with_locations(\"the\", 25, 1000000)"
   ]
  },
  {
   "cell_type": "code",
   "execution_count": null,
   "metadata": {
    "collapsed": false
   },
   "outputs": [],
   "source": [
    "# coding: utf-8\n",
    "\n",
    "import os\n",
    "\n",
    "from cheshire3.baseObjects import Session\n",
    "from cheshire3.document import StringDocument\n",
    "from cheshire3.internal import cheshire3Root\n",
    "from cheshire3.server import SimpleServer   \n",
    "\n",
    "session = Session()\n",
    "session.database = 'db_dickens'\n",
    "serv = SimpleServer(session, os.path.join(cheshire3Root, 'configs', 'serverConfig.xml'))\n",
    "db = serv.get_object(session, session.database)\n",
    "qf = db.get_object(session, 'defaultQueryFactory')\n",
    "resultSetStore = db.get_object(session, 'resultSetStore')\n",
    "idxStore = db.get_object(session, 'indexStore')"
   ]
  },
  {
   "cell_type": "code",
   "execution_count": null,
   "metadata": {
    "collapsed": false
   },
   "outputs": [],
   "source": []
  },
  {
   "cell_type": "code",
   "execution_count": null,
   "metadata": {
    "collapsed": false
   },
   "outputs": [],
   "source": []
  },
  {
   "cell_type": "code",
   "execution_count": null,
   "metadata": {
    "collapsed": false
   },
   "outputs": [],
   "source": []
  },
  {
   "cell_type": "code",
   "execution_count": null,
   "metadata": {
    "collapsed": false
   },
   "outputs": [],
   "source": []
  },
  {
   "cell_type": "code",
   "execution_count": null,
   "metadata": {
    "collapsed": false
   },
   "outputs": [],
   "source": []
  },
  {
   "cell_type": "code",
   "execution_count": null,
   "metadata": {
    "collapsed": false
   },
   "outputs": [],
   "source": [
    "%timeit build_concordance_with_locations(\"the\", 25, 100000)"
   ]
  },
  {
   "cell_type": "code",
   "execution_count": null,
   "metadata": {
    "collapsed": false
   },
   "outputs": [],
   "source": []
  },
  {
   "cell_type": "code",
   "execution_count": null,
   "metadata": {
    "collapsed": false
   },
   "outputs": [],
   "source": []
  },
  {
   "cell_type": "code",
   "execution_count": null,
   "metadata": {
    "collapsed": false
   },
   "outputs": [],
   "source": []
  },
  {
   "cell_type": "code",
   "execution_count": null,
   "metadata": {
    "collapsed": false
   },
   "outputs": [],
   "source": []
  },
  {
   "cell_type": "code",
   "execution_count": null,
   "metadata": {
    "collapsed": false
   },
   "outputs": [],
   "source": [
    "term = 'fog'\n",
    "\"\"\"(c3.subcorpus-idx all \"dickens\" and/cql.proxinfo c3.chapter-idx any \"{}\" )\"\"\".format(term)\n"
   ]
  },
  {
   "cell_type": "code",
   "execution_count": null,
   "metadata": {
    "collapsed": false
   },
   "outputs": [],
   "source": []
  },
  {
   "cell_type": "code",
   "execution_count": null,
   "metadata": {
    "collapsed": false
   },
   "outputs": [],
   "source": [
    "query = qf.get_query(session, \"\"\"(c3.subcorpus-idx all \"dickens\" and/cql.proxinfo c3.chapter-idx any \"{}\" )\"\"\".format(term))\n",
    "result_set = db.search(session, query)\n",
    "len(result_set)"
   ]
  },
  {
   "cell_type": "code",
   "execution_count": null,
   "metadata": {
    "collapsed": false
   },
   "outputs": [],
   "source": [
    "#build_concordance(result_set, 'we', 25)\n",
    "# %timeit build_concordance(result_set, 'the', 25)\n",
    "# option 1: get chapter as string\n",
    "# option 2: get sentence as string with location info as well.\n",
    "\n",
    "#TODO implement eid for quotes and suspensions\n",
    "#TODO implement start and end result for pagination"
   ]
  },
  {
   "cell_type": "code",
   "execution_count": null,
   "metadata": {
    "collapsed": false
   },
   "outputs": [],
   "source": []
  },
  {
   "cell_type": "code",
   "execution_count": null,
   "metadata": {
    "collapsed": false
   },
   "outputs": [],
   "source": [
    "the_location_dickens = []\n",
    "def test():\n",
    "    for result in result_set:\n",
    "        proxinfo = result.proxInfo\n",
    "        record = result.fetch_record(session)\n",
    "        tree = record.get_dom(session)\n",
    "        for hit in proxinfo:\n",
    "            word_location = hit[0][1]\n",
    "            char_location = hit[0][2]\n",
    "            word_location = tree.xpath(\"/div/p/s/toks/w[@o=215]\")\n",
    "            # word_location = tree.xpath('//w[%i]' % word_location)\n",
    "            the_location_dickens.append(word_location)\n",
    "            #location = tree.xpath('//w[word_location]')\n",
    "            #the_in_dickens.append([concordance_line, location])\n",
    "#%timeit test()\n",
    "test()\n",
    "len(the_location_dickens)\n",
    "# option 1: merge all txt together and then do xpath to get the location\n",
    "# option 2: get txt with location info as well."
   ]
  },
  {
   "cell_type": "code",
   "execution_count": null,
   "metadata": {
    "collapsed": false
   },
   "outputs": [],
   "source": [
    "for result in result_set:\n",
    "    proxinfo = result.proxInfo\n",
    "    record = result.fetch_record(session)\n",
    "    tree = record.get_dom(session)\n",
    "    tree.xpath('//w[1]')"
   ]
  },
  {
   "cell_type": "code",
   "execution_count": null,
   "metadata": {
    "collapsed": false
   },
   "outputs": [],
   "source": [
    "the_in_dickens = []\n",
    "for result in result_set:\n",
    "    proxinfo = result.proxInfo\n",
    "    record = result.fetch_record(session)\n",
    "    tree = record.get_dom(session)\n",
    "    raw_tree = tree.xpath('//txt/text()')\n",
    "    raw_str = ' '.join(sentence for sentence in raw_tree)\n",
    "    for hit in proxinfo:\n",
    "        char_location = hit[0][2]\n",
    "        concordance_line = raw_str[char_location-20:char_location+len(\"the\")+20]\n",
    "        the_in_dickens.append(concordance_line)\n",
    "\n",
    "\n",
    "for result in result_set:\n",
    "    proxinfo = result.proxInfo\n",
    "    record = result.fetch_record(session)\n",
    "    tree = record.get_dom(session)\n",
    "    raw_tree = tree.xpath('//txt/text()')\n",
    "    raw_str = ' '.join(sentence for sentence in raw_tree)\n",
    "    for hit in proxinfo:\n",
    "        char_location = hit[0][2]\n",
    "        print raw_str[char_location-20:char_location+len(\"the\")+20]\n",
    "        \n",
    "for hit in proxinfo:\n",
    "    char_location = hit[0][2]\n",
    "    print raw_str[char_location-20:char_location+len(\"the\")+20]        \n",
    "\n",
    "\n",
    "\n",
    "\n"
   ]
  },
  {
   "cell_type": "markdown",
   "metadata": {},
   "source": [
    "Specs / Questions / Todos\n",
    "-------------------------\n",
    "\n",
    "* what if the search terms are more complex? how do you then do their len()?\n",
    "* handle quotes etc.\n",
    "* doing pagination\n",
    "* adding query builder\n",
    "* highlighting in a form if a word is frequent and it will thus take some time\n",
    "* searches for more than a word (either a phrase or an or search)\n",
    "* a transformer somewhere?\n"
   ]
  },
  {
   "cell_type": "markdown",
   "metadata": {},
   "source": [
    "# In quotes"
   ]
  },
  {
   "cell_type": "code",
   "execution_count": 125,
   "metadata": {
    "collapsed": false
   },
   "outputs": [],
   "source": [
    "def build_concordance_with_locations(term, idx, context, max_hits):\n",
    "    \n",
    "    query = qf.get_query(session, \"\"\"(c3.subcorpus-idx all \"dickens\" and/cql.proxinfo c3.{} any/proxinfo \"{}\" )\"\"\".format(idx, term))\n",
    "    result_set = db.search(session, query)\n",
    "\n",
    "    concordance = []\n",
    "    \n",
    "    count = 0\n",
    "    \n",
    "    for result in result_set:\n",
    "    \n",
    "        if count < max_hits:\n",
    "            record = result.fetch_record(session)\n",
    "            tree = record.get_dom(session)\n",
    "            text_nodes = tree.xpath('//txt/text()')\n",
    "            text_only = ' '.join(sentence for sentence in text_nodes)\n",
    "\n",
    "            for hit in result.proxInfo:\n",
    "                if count < max_hits:\n",
    "                    count +=1 \n",
    "                \n",
    "                    element_id = hit[0][0]\n",
    "                    word_id = hit[0][1]  \n",
    "                    char_location = hit[0][2]\n",
    "                    \n",
    "                    ## the eid only differs from 0 for indexes other than the chapter index\n",
    "                    if element_id:\n",
    "                        el = tree.xpath('//*[@eid=\"{}\"]'.format(element_id))[0]\n",
    "                        el_char_offset = el.get('offset')\n",
    "                        word_id = el.get('wordOffset')\n",
    "                        char_location = int(el_char_offset) + char_location - 1\n",
    "                    \n",
    "                    concordance_line = text_only[char_location - context : char_location + len(term) + context]\n",
    "                    #NOTE in these cases record.process_xpath(session, xpath) is not faster\n",
    "                    #TODO check there is only one result\n",
    "                    sentence = tree.xpath('/div/descendant::w[{}]/ancestor-or-self::s/@id'.format(int(word_id) + 1))\n",
    "                    paragraph = tree.xpath('/div/descendant::w[{}]/ancestor-or-self::p/@id'.format(int(word_id) + 1))\n",
    "                    concordance.append((concordance_line, sentence[0], paragraph[0]))\n",
    "    \n",
    "    return concordance"
   ]
  },
  {
   "cell_type": "code",
   "execution_count": 135,
   "metadata": {
    "collapsed": false
   },
   "outputs": [],
   "source": [
    "concordance = build_concordance_with_locations(\"fog\", \"quote-idx\", 25, 100)"
   ]
  },
  {
   "cell_type": "code",
   "execution_count": 136,
   "metadata": {
    "collapsed": false
   },
   "outputs": [
    {
     "name": "stdout",
     "output_type": "stream",
     "text": [
      "eard of such a thing. \"A fog, miss,\" said the young g\n",
      "h it on my account. \"The fog is very dense indeed!\" s\n",
      "'re choking!' 'It's this fog,' returned Edwin; 'and i\n",
      "ar in an hour or two. We can have dinner in from just\n",
      "t is in the wind besides fog?' 'Mr. Drood,' said Bazz\n",
      "nter. Mrs Quilp obeyed right willingly, and, kneeling\n",
      "old, cold night, and the fog clings so.' As Miss Abbe\n",
      "s summut run down in the fog, ma'am,' answered Bob. '\n",
      "nd that's what makes the fog and the noise worse, don\n",
      "oem--what is that name?--Fog--Perspiring Fog--ver goo\n",
      "t name?--Fog--Perspiring Fog--ver good--ver good inde\n"
     ]
    }
   ],
   "source": [
    "for line in concordance:\n",
    "    print line[0]"
   ]
  },
  {
   "cell_type": "code",
   "execution_count": 13,
   "metadata": {
    "collapsed": false
   },
   "outputs": [
    {
     "data": {
      "text/plain": [
       "[('', 'BH.c3.s1', 'BH.c3.p1'),\n",
       " ('', 'BH.c4.s1', 'BH.c4.p1'),\n",
       " ('', 'ED.c11.s1', 'ED.c11.p1'),\n",
       " ('e certain gabled houses some centuries of age still s',\n",
       "  'ED.c11.s1',\n",
       "  'ED.c11.p1'),\n",
       " ('nd the most ancient part of Holborn, London, where ce',\n",
       "  'ED.c11.s1',\n",
       "  'ED.c11.p1'),\n",
       " (' some accounts--an occupation to which the silence an',\n",
       "  'OCS.c67.s1',\n",
       "  'OCS.c67.p1'),\n",
       " ('e Jew once more came forth into Saint Mary Axe. But t',\n",
       "  'OMF.c35.s1',\n",
       "  'OMF.c35.p1'),\n",
       " ('he evening of this same foggy day when the yellow win',\n",
       "  'OMF.c35.s1',\n",
       "  'OMF.c35.p1'),\n",
       " ('e yellow window- blind of Pubsey and Co. was drawn do',\n",
       "  'OMF.c35.s1',\n",
       "  'OMF.c35.p1'),\n",
       " ('st of them, on the third morning after the election h',\n",
       "  'PP.c15.s1',\n",
       "  'PP.c15.p1'),\n",
       " ('he third morning after the election had terminated, w',\n",
       "  'PP.c15.s1',\n",
       "  'PP.c15.p1')]"
      ]
     },
     "execution_count": 13,
     "metadata": {},
     "output_type": "execute_result"
    }
   ],
   "source": [
    "build_concordance_with_locations(\"fog\", \"quote-idx\", 25, 100)"
   ]
  },
  {
   "cell_type": "code",
   "execution_count": 14,
   "metadata": {
    "collapsed": false
   },
   "outputs": [
    {
     "data": {
      "text/plain": [
       "[('to loom by husbandman and ploughboy. Most of the shop',\n",
       "  'BH.c1.s14',\n",
       "  'BH.c1.p2'),\n",
       " ('er weather. As much mud in the streets as if the wate',\n",
       "  'BH.c1.s4',\n",
       "  'BH.c1.p1'),\n",
       " ('ll. Implacable November weather. As much mud in the s',\n",
       "  'BH.c1.s4',\n",
       "  'BH.c1.p1'),\n",
       " (', and you must be patient with me, like a dear!\" And ',\n",
       "  'BH.c3.s3',\n",
       "  'BH.c3.p1'),\n",
       " ('yby,\" said Mr. Kenge, standing with his back to the f',\n",
       "  'BH.c4.s6',\n",
       "  'BH.c4.p3'),\n",
       " ('iting), and with his quick abilities, his good spirit',\n",
       "  'BH.c17.s1',\n",
       "  'BH.c17.p1'),\n",
       " (' looked straight before him. \"Mr. Vholes,\" said my gu',\n",
       "  'BH.c45.s16',\n",
       "  'BH.c45.p8'),\n",
       " ('should like to know,\" said my guardian, \"what you thi',\n",
       "  'BH.c45.s19',\n",
       "  'BH.c45.p10'),\n",
       " (\"ar this, Varden?' said Mr Haredale. 'Well! You and sh\",\n",
       "  'BR.c26.s2',\n",
       "  'BR.c26.p1'),\n",
       " ('o idea of it but whistling. Peggotty had a basket of ',\n",
       "  'DC.c3.s4',\n",
       "  'DC.c3.p1'),\n",
       " ('to have that lofty castle to myself, and to feel, whe',\n",
       "  'DC.c24.s1',\n",
       "  'DC.c24.p1'),\n",
       " ('shing voices were not drowned by the uproar in the st',\n",
       "  'DS.c4.s1',\n",
       "  'DS.c4.p1'),\n",
       " ('', 'DS.c4.s1', 'DS.c4.p1'),\n",
       " (', and which the guardianship of his Uncle, old Solomo',\n",
       "  'DS.c9.s1',\n",
       "  'DS.c9.p1'),\n",
       " ('dly, that surveyed all comers from above the archway ',\n",
       "  'DS.c23.s3',\n",
       "  'DS.c23.p3'),\n",
       " ('ng on the public way, as if disconsolately looking fo',\n",
       "  'ED.c11.s1',\n",
       "  'ED.c11.p1'),\n",
       " ('estrian the sensation of having put cotton in his ear',\n",
       "  'ED.c11.s2',\n",
       "  'ED.c11.p1'),\n",
       " (' soles on his boots. It is one of those nooks where a',\n",
       "  'ED.c11.s2',\n",
       "  'ED.c11.p1'),\n",
       " ('part of Holborn, London, where certain gabled houses ',\n",
       "  'ED.c11.s1',\n",
       "  'ED.c11.p1'),\n",
       " ('abled houses some centuries of age still stand lookin',\n",
       "  'ED.c11.s1',\n",
       "  'ED.c11.p1'),\n",
       " ('tand looking on the public way, as if disconsolately ',\n",
       "  'ED.c11.s1',\n",
       "  'ED.c11.p1'),\n",
       " (' when Cloisterham took offence at the existence of a ',\n",
       "  'ED.c11.s5',\n",
       "  'ED.c11.p2'),\n",
       " ('ns: the odd fortune of which sacred institution it is',\n",
       "  'ED.c11.s4',\n",
       "  'ED.c11.p1'),\n",
       " ('r do I recollect that I questioned its merit, except ',\n",
       "  'GE.c15.s5',\n",
       "  'GE.c15.p2'),\n",
       " ('r. Jaggers\\'s hand, and he passed it through my arm. \"',\n",
       "  'GE.c48.s3',\n",
       "  'GE.c48.p1'),\n",
       " ('n the same, by smiles. That he might the better feed ',\n",
       "  'MC.c8.s7',\n",
       "  'MC.c8.p2'),\n",
       " (' and a very beautiful arrangement; not confined to co',\n",
       "  'MC.c8.s3',\n",
       "  'MC.c8.p1'),\n",
       " ('ed so well in his embassy as to be enabled to return ',\n",
       "  'MC.c14.s2',\n",
       "  'MC.c14.p1'),\n",
       " ('enabled to return that same night, just as the house ',\n",
       "  'MC.c14.s2',\n",
       "  'MC.c14.p1'),\n",
       " (\"ther petition to be engaged in Mr Chuzzlewit's servic\",\n",
       "  'MC.c14.s2',\n",
       "  'MC.c14.p1'),\n",
       " ('mmediate conveyance if possible. And he succeeded so ',\n",
       "  'MC.c14.s2',\n",
       "  'MC.c14.p1'),\n",
       " (' London; for there was no place like it. Which may be',\n",
       "  'MC.c36.s10',\n",
       "  'MC.c36.p4'),\n",
       " (' and little dreaming of the mine which had been sprun',\n",
       "  'OCS.c67.s1',\n",
       "  'OCS.c67.p1'),\n",
       " ('himself to new pantaloons, and, by the time he worked',\n",
       "  'OMF.c4.s5',\n",
       "  'OMF.c4.p2'),\n",
       " (u'e would be in action in this department for a mortal ',\n",
       "  'OMF.c18.s19',\n",
       "  'OMF.c18.p2'),\n",
       " ('and dark. Animate London, with smarting eyes and irri',\n",
       "  'OMF.c34.s1',\n",
       "  'OMF.c34.p1'),\n",
       " (' when the yellow window- blind of Pubsey and Co. was ',\n",
       "  'OMF.c35.s1',\n",
       "  'OMF.c35.p1'),\n",
       " ('e window by the light of her low fire--carefully bank',\n",
       "  'OMF.c35.s3',\n",
       "  'OMF.c35.p1'),\n",
       " (\"ll!' exclaimed Miss Wren, delighted. 'Now you ARE a c\",\n",
       "  'OMF.c35.s8',\n",
       "  'OMF.c35.p4'),\n",
       " ('t, and then bustlingly closed the door, and tried it ',\n",
       "  'OMF.c35.s13',\n",
       "  'OMF.c35.p7'),\n",
       " ('same foggy day when the yellow window- blind of Pubse',\n",
       "  'OMF.c35.s1',\n",
       "  'OMF.c35.p1'),\n",
       " ('ow the gentleman in, Barney; wake up first, if conven',\n",
       "  'OT.c22.s6',\n",
       "  'OT.c22.p3')]"
      ]
     },
     "execution_count": 14,
     "metadata": {},
     "output_type": "execute_result"
    }
   ],
   "source": [
    "build_concordance_with_locations(\"fog\", \"non-quote-idx\", 25, 100)"
   ]
  },
  {
   "cell_type": "code",
   "execution_count": 86,
   "metadata": {
    "collapsed": false
   },
   "outputs": [],
   "source": [
    "query = qf.get_query(session, \"\"\"(c3.subcorpus-idx all \"dickens\" and/cql.proxinfo c3.{} any \"{}\" )\"\"\".format(\"quote-idx\", \"fog\"))\n",
    "result_set = db.search(session, query)"
   ]
  },
  {
   "cell_type": "code",
   "execution_count": 34,
   "metadata": {
    "collapsed": false
   },
   "outputs": [
    {
     "name": "stdout",
     "output_type": "stream",
     "text": [
      "[[[636, 1, 3, 9178]]]\n",
      "[[[94, 1, 5, 9178]]]\n",
      "[[[89, 2, 11, 9178]], [[130, 7, 78, 9178]], [[54, 6, 29, 9178]]]\n",
      "[[[106, 28, 473, 9178]]]\n",
      "[[[395, 32, 154, 9178]], [[476, 6, 29, 9178]], [[517, 12, 70, 9178]]]\n",
      "[[[696, 30, 191, 9178]], [[696, 32, 207, 9178]]]\n"
     ]
    }
   ],
   "source": [
    "for result in result_set:\n",
    "    print result.proxInfo"
   ]
  },
  {
   "cell_type": "code",
   "execution_count": 40,
   "metadata": {
    "collapsed": false
   },
   "outputs": [],
   "source": [
    "one_result = result_set[0]"
   ]
  },
  {
   "cell_type": "code",
   "execution_count": 45,
   "metadata": {
    "collapsed": false
   },
   "outputs": [],
   "source": [
    "one_fetched_result = one_result.fetch_record(session)"
   ]
  },
  {
   "cell_type": "code",
   "execution_count": 146,
   "metadata": {
    "collapsed": false
   },
   "outputs": [],
   "source": [
    "dom = one_fetched_result.get_dom(session)"
   ]
  },
  {
   "cell_type": "code",
   "execution_count": 147,
   "metadata": {
    "collapsed": false
   },
   "outputs": [],
   "source": [
    "qs = dom.xpath('//*[@eid=\"1\"]')"
   ]
  },
  {
   "cell_type": "code",
   "execution_count": 151,
   "metadata": {
    "collapsed": false
   },
   "outputs": [
    {
     "data": {
      "text/plain": [
       "{'type': 'speech', 'pid': '1', 'id': 'BH.c3.p1', 'eid': '1'}"
      ]
     },
     "execution_count": 151,
     "metadata": {},
     "output_type": "execute_result"
    }
   ],
   "source": [
    "qs[0].attrib"
   ]
  },
  {
   "cell_type": "code",
   "execution_count": 113,
   "metadata": {
    "collapsed": false
   },
   "outputs": [],
   "source": [
    "dom_text_nodes = dom.xpath('//txt/text()')\n",
    "dom_text_only = ' '.join(sentence for sentence in dom_text_nodes)"
   ]
  },
  {
   "cell_type": "code",
   "execution_count": 114,
   "metadata": {
    "collapsed": false
   },
   "outputs": [
    {
     "data": {
      "text/plain": [
       "'fog, miss,\" said the young gentleman. \"Oh, indeed!\" said I.'"
      ]
     },
     "execution_count": 114,
     "metadata": {},
     "output_type": "execute_result"
    }
   ],
   "source": [
    "dom_text_only[30639+2:30700]"
   ]
  },
  {
   "cell_type": "code",
   "execution_count": 105,
   "metadata": {
    "collapsed": false
   },
   "outputs": [
    {
     "name": "stdout",
     "output_type": "stream",
     "text": [
      "[[[94, 1, 5, 9178]]]\n"
     ]
    },
    {
     "data": {
      "text/plain": [
       "{'wordOffset': '589', 'eid': '94', 'offset': '3259'}"
      ]
     },
     "execution_count": 105,
     "metadata": {},
     "output_type": "execute_result"
    }
   ],
   "source": [
    "second_result = result_set[1]\n",
    "print second_result.proxInfo\n",
    "second_fetched_result = second_result.fetch_record(session)\n",
    "second_dom = second_fetched_result.get_dom(session)\n",
    "second_qs = second_dom.xpath('//qs[@eid=\"94\"]')[0]\n",
    "second_qs.attrib"
   ]
  },
  {
   "cell_type": "code",
   "execution_count": 106,
   "metadata": {
    "collapsed": false
   },
   "outputs": [
    {
     "data": {
      "text/plain": [
       "'fog is very dense indeed!\" said I. \"Not that it affects you, though, I\\'m sure,\" said Mr. Guppy, putting up the steps. \"On the contrary, i'"
      ]
     },
     "execution_count": 106,
     "metadata": {},
     "output_type": "execute_result"
    }
   ],
   "source": [
    "second_dom_text_nodes = second_dom.xpath('//txt/text()')\n",
    "second_dom_text_only = ' '.join(sentence for sentence in second_dom_text_nodes)\n",
    "second_dom_text_only[3259+4:3400]"
   ]
  },
  {
   "cell_type": "code",
   "execution_count": 30,
   "metadata": {
    "collapsed": false
   },
   "outputs": [
    {
     "name": "stdout",
     "output_type": "stream",
     "text": [
      "[[[0, 169, 1033, 15292]], [[0, 171, 1049, 15292]], [[0, 206, 1241, 15292]], [[0, 216, 1295, 15292]], [[0, 247, 1471, 15292]], [[0, 183, 1112, 15292]], [[0, 211, 1267, 15292]], [[0, 223, 1344, 15292]], [[0, 237, 1415, 15292]], [[0, 264, 1574, 15292]], [[0, 283, 1671, 15292]], [[0, 312, 1836, 15292]], [[0, 314, 1846, 15292]], [[0, 336, 1955, 15292]], [[0, 392, 2248, 15292]], [[0, 433, 2499, 15292]], [[0, 449, 2586, 15292]], [[0, 556, 3190, 15292]], [[0, 727, 4181, 15292]], [[0, 2017, 11496, 15292]], [[0, 2365, 13596, 15292]], [[0, 2430, 13942, 15292]]]\n",
      "[[[0, 5841, 30641, 15292]], [[0, 7479, 39482, 15292]]]\n",
      "[[[0, 590, 3263, 15292]], [[0, 694, 3814, 15292]], [[0, 4848, 26290, 15292]]]\n",
      "[[[0, 8, 47, 15292]]]\n",
      "[[[0, 1988, 11147, 15292]]]\n",
      "[[[0, 39, 239, 15292]]]\n",
      "[[[0, 1756, 9305, 15292]], [[0, 1847, 9807, 15292]]]\n",
      "[[[0, 1076, 5846, 15292]]]\n",
      "[[[0, 1851, 9818, 15292]]]\n",
      "[[[0, 170, 914, 15292]]]\n",
      "[[[0, 149, 802, 15292]]]\n",
      "[[[0, 990, 5285, 15292]]]\n",
      "[[[0, 2639, 14398, 15292]]]\n",
      "[[[0, 18, 87, 15292]]]\n",
      "[[[0, 794, 4783, 15292]], [[0, 1810, 10416, 15292]], [[0, 2238, 12751, 15292]]]\n",
      "[[[0, 3485, 19832, 15292]]]\n",
      "[[[0, 6272, 35764, 15292]]]\n",
      "[[[0, 276, 1609, 15292]], [[0, 1030, 6003, 15292]], [[0, 1095, 6372, 15292]], [[0, 1188, 6862, 15292]], [[0, 1197, 6902, 15292]], [[0, 1240, 7133, 15292]], [[0, 2058, 11809, 15292]], [[0, 2208, 12675, 15292]], [[0, 2344, 13474, 15292]], [[0, 2356, 13540, 15292]], [[0, 4864, 27349, 15292]]]\n",
      "[[[0, 3603, 19274, 15292]]]\n",
      "[[[0, 284, 1568, 15292]]]\n",
      "[[[0, 2641, 14814, 15292]], [[0, 4230, 23638, 15292]]]\n",
      "[[[0, 372, 2016, 15292]], [[0, 801, 4378, 15292]], [[0, 1622, 8670, 15292]], [[0, 2338, 12433, 15292]]]\n",
      "[[[0, 2908, 16229, 15292]]]\n",
      "[[[0, 259, 1475, 15292]]]\n",
      "[[[0, 19, 128, 15292]]]\n",
      "[[[0, 343, 2003, 15292]], [[0, 941, 5189, 15292]], [[0, 2200, 12111, 15292]]]\n",
      "[[[0, 617, 3211, 15292]]]\n",
      "[[[0, 686, 4017, 15292]]]\n",
      "[[[0, 1940, 11218, 15292]]]\n",
      "[[[0, 9, 38, 15292]], [[0, 89, 522, 15292]], [[0, 116, 657, 15292]], [[0, 279, 1555, 15292]], [[0, 326, 1784, 15292]], [[0, 406, 2222, 15292]], [[0, 3067, 17157, 15292]], [[0, 4876, 27124, 15292]]]\n",
      "[[[0, 71, 375, 15292]], [[0, 362, 1953, 15292]], [[0, 2347, 12771, 15292]], [[0, 3046, 16639, 15292]], [[0, 3218, 17622, 15292]], [[0, 3252, 17829, 15292]], [[0, 3332, 18263, 15292]], [[0, 3432, 18828, 15292]], [[0, 3484, 19134, 15292]]]\n",
      "[[[0, 265, 1514, 15292]]]\n",
      "[[[0, 415, 2460, 15292]]]\n",
      "[[[0, 1205, 6922, 15292]]]\n",
      "[[[0, 3707, 21924, 15292]], [[0, 3709, 21940, 15292]]]\n"
     ]
    }
   ],
   "source": [
    "query = qf.get_query(session, \"\"\"(c3.subcorpus-idx all \"dickens\" and/cql.proxinfo c3.{} any \"{}\" )\"\"\".format(\"chapter-idx\", \"fog\"))\n",
    "result_set = db.search(session, query)\n",
    "for result in result_set:\n",
    "    print result.proxInfo"
   ]
  },
  {
   "cell_type": "code",
   "execution_count": 24,
   "metadata": {
    "collapsed": false
   },
   "outputs": [
    {
     "name": "stdout",
     "output_type": "stream",
     "text": [
      "1\n",
      "[[[0, 3600, 19257, 37577], [0, 3601, 19267, 26551], [0, 3602, 19270, 38822], [0, 3603, 19274, 15292]]]\n"
     ]
    }
   ],
   "source": [
    "query = qf.get_query(session, \"\"\"(c3.subcorpus-idx all \"dickens\" and/cql.proxinfo c3.{} = \"{}\" )\"\"\".format(\"chapter-idx\", \"substance on the fog\"))\n",
    "result_set = db.search(session, query)\n",
    "print len(result_set)\n",
    "for result in result_set:\n",
    "    print result.proxInfo\n",
    "# record.get_xml(session)\n"
   ]
  },
  {
   "cell_type": "code",
   "execution_count": 26,
   "metadata": {
    "collapsed": false
   },
   "outputs": [],
   "source": [
    "result = result_set[0]\n",
    "result = result.fetch_record(session)\n",
    "record = result.get_xml(session)"
   ]
  },
  {
   "cell_type": "code",
   "execution_count": 28,
   "metadata": {
    "collapsed": false
   },
   "outputs": [
    {
     "data": {
      "text/plain": [
       "143708"
      ]
     },
     "execution_count": 28,
     "metadata": {},
     "output_type": "execute_result"
    }
   ],
   "source": [
    "record.find('fog')"
   ]
  },
  {
   "cell_type": "code",
   "execution_count": 29,
   "metadata": {
    "collapsed": false
   },
   "outputs": [
    {
     "data": {
      "text/plain": [
       "'fog.</txt><toks><w o=\"0\">The</w><n> </n><w o=\"4\">turnpike</w><n> </n><w o=\"13\">lamp</w><n> <'"
      ]
     },
     "execution_count": 29,
     "metadata": {},
     "output_type": "execute_result"
    }
   ],
   "source": [
    "record[143708:143800]"
   ]
  },
  {
   "cell_type": "code",
   "execution_count": 30,
   "metadata": {
    "collapsed": false
   },
   "outputs": [
    {
     "data": {
      "text/plain": [
       "str"
      ]
     },
     "execution_count": 30,
     "metadata": {},
     "output_type": "execute_result"
    }
   ],
   "source": [
    "type(record)"
   ]
  },
  {
   "cell_type": "code",
   "execution_count": 31,
   "metadata": {
    "collapsed": false
   },
   "outputs": [],
   "source": [
    "dom = result.get_dom(session)"
   ]
  },
  {
   "cell_type": "code",
   "execution_count": 35,
   "metadata": {
    "collapsed": false
   },
   "outputs": [
    {
     "data": {
      "text/plain": [
       "[]"
      ]
     },
     "execution_count": 35,
     "metadata": {},
     "output_type": "execute_result"
    }
   ],
   "source": [
    "dom.xpath('//w[@o=\"19257\"]')"
   ]
  },
  {
   "cell_type": "code",
   "execution_count": 39,
   "metadata": {
    "collapsed": false
   },
   "outputs": [
    {
     "data": {
      "text/plain": [
       "\"p was a blur, quite out of the lamp's usual place apparently, and its rays looked solid substance on the fog. We were noticing this, and saying how that the mist rose with a change of wind from a certain quarter of our marshes, when we came up\""
      ]
     },
     "execution_count": 39,
     "metadata": {},
     "output_type": "execute_result"
    }
   ],
   "source": [
    "xml_to_clean_txt(dom)[19257:19500]"
   ]
  },
  {
   "cell_type": "code",
   "execution_count": 37,
   "metadata": {
    "collapsed": false
   },
   "outputs": [],
   "source": [
    "def xml_to_clean_txt(xmltree):\n",
    "    text_nodes = xmltree.xpath('//txt/text()')\n",
    "    text_only = ' '.join(sentence for sentence in text_nodes)\n",
    "    return text_only  "
   ]
  },
  {
   "cell_type": "code",
   "execution_count": 40,
   "metadata": {
    "collapsed": false
   },
   "outputs": [
    {
     "data": {
      "text/plain": [
       "\"ded I could only induce one to have the weakness to become my benefactor. It was a very dark night when it was all over, and when I set out with Mr. Wopsle on the walk home. Beyond town, we found a heavy mist out, and it fell wet and thick. The turnpike lamp was a blur, quite out of the lamp's usual place apparently, and its rays looked solid substance on the fog. We were noticing this, and saying how that the mist rose with a change of wind from a certain quarter of our marshes, when we came up\""
      ]
     },
     "execution_count": 40,
     "metadata": {},
     "output_type": "execute_result"
    }
   ],
   "source": [
    "xml_to_clean_txt(dom)[19000\n",
    "                      :19500]"
   ]
  },
  {
   "cell_type": "code",
   "execution_count": null,
   "metadata": {
    "collapsed": false
   },
   "outputs": [],
   "source": []
  }
 ],
 "metadata": {
  "kernelspec": {
   "display_name": "Python 2",
   "language": "python",
   "name": "python2"
  },
  "language_info": {
   "codemirror_mode": {
    "name": "ipython",
    "version": 2
   },
   "file_extension": ".py",
   "mimetype": "text/x-python",
   "name": "python",
   "nbconvert_exporter": "python",
   "pygments_lexer": "ipython2",
   "version": "2.7.6"
  }
 },
 "nbformat": 4,
 "nbformat_minor": 0
}
