{
 "cells": [
  {
   "cell_type": "markdown",
   "metadata": {},
   "source": [
    "# Basic setup"
   ]
  },
  {
   "cell_type": "code",
   "execution_count": 1,
   "metadata": {
    "collapsed": false
   },
   "outputs": [],
   "source": [
    "# coding: utf-8\n",
    "\n",
    "import os\n",
    "\n",
    "from cheshire3.baseObjects import Session\n",
    "from cheshire3.document import StringDocument\n",
    "from cheshire3.internal import cheshire3Root\n",
    "from cheshire3.server import SimpleServer   \n",
    "\n",
    "session = Session()\n",
    "session.database = 'db_dickens'\n",
    "serv = SimpleServer(session, os.path.join(cheshire3Root, 'configs', 'serverConfig.xml'))\n",
    "db = serv.get_object(session, session.database)\n",
    "qf = db.get_object(session, 'defaultQueryFactory')\n",
    "resultSetStore = db.get_object(session, 'resultSetStore')\n",
    "idxStore = db.get_object(session, 'indexStore')"
   ]
  },
  {
   "cell_type": "markdown",
   "metadata": {},
   "source": [
    "## The problems\n",
    "When using the *any* search function to search for two different terms, the results are wrong.\n",
    "\n",
    "Problem 1: searching for **`fog OR dense`** is not the same as **`dense OR fog`**.\n",
    "\n",
    "Problem 2: Second, the counts for **`fog OR dense`** are off. \n",
    "\n",
    "Currently, there are 150 results for **`fog OR dense`** and 221 for **`dense OR fog`**, but there should be many more (142 or 144 if one counts compound nouns)."
   ]
  },
  {
   "cell_type": "code",
   "execution_count": 2,
   "metadata": {
    "collapsed": false
   },
   "outputs": [
    {
     "name": "stdout",
     "output_type": "stream",
     "text": [
      "112\n"
     ]
    }
   ],
   "source": [
    "# This is the query that is currently being used.\n",
    "# The count is the number of chapters\n",
    "\n",
    "query = qf.get_query(session, \"\"\"              \n",
    "                     ((c3.subcorpus-idx all \"dickens\" and/cql.proxinfo c3.chapter-idx = \"fog\") or c3.chapter-idx = \"dense\")\n",
    "                     \"\"\")\n",
    "result_set = db.search(session, query)\n",
    "print len(result_set)"
   ]
  },
  {
   "cell_type": "code",
   "execution_count": 3,
   "metadata": {
    "collapsed": false
   },
   "outputs": [],
   "source": [
    "# To get a  more speficic count one also needs to include the numbers of hits \n",
    "# in the different chapters\n",
    "\n",
    "def count_total(result_set):\n",
    "    \"\"\"\n",
    "    Helper function to count the total number of hits\n",
    "    in the search results\n",
    "    \"\"\"\n",
    "    count = 0 \n",
    "    for result in result_set:\n",
    "        count += len(result.proxInfo)\n",
    "    return count"
   ]
  },
  {
   "cell_type": "code",
   "execution_count": 4,
   "metadata": {
    "collapsed": false
   },
   "outputs": [
    {
     "data": {
      "text/plain": [
       "150"
      ]
     },
     "execution_count": 4,
     "metadata": {},
     "output_type": "execute_result"
    }
   ],
   "source": [
    "count_total(result_set)"
   ]
  },
  {
   "cell_type": "code",
   "execution_count": 5,
   "metadata": {
    "collapsed": false
   },
   "outputs": [],
   "source": [
    "def try_query(query):\n",
    "    \"\"\"\n",
    "    Another helper function to take a query and return\n",
    "    the total number of hits\n",
    "    \"\"\"\n",
    "    query = qf.get_query(session, query)\n",
    "    result_set = db.search(session, query)\n",
    "    return count_total(result_set)"
   ]
  },
  {
   "cell_type": "markdown",
   "metadata": {},
   "source": [
    "## Solving problem 1"
   ]
  },
  {
   "cell_type": "markdown",
   "metadata": {},
   "source": [
    "This query gets wrong results because it the OR query is poorly constructed"
   ]
  },
  {
   "cell_type": "code",
   "execution_count": 6,
   "metadata": {
    "collapsed": false
   },
   "outputs": [
    {
     "data": {
      "text/plain": [
       "221"
      ]
     },
     "execution_count": 6,
     "metadata": {},
     "output_type": "execute_result"
    }
   ],
   "source": [
    "try_query(\"\"\"\n",
    "           ((c3.subcorpus-idx all \"dickens\" and/cql.proxinfo c3.chapter-idx = \"dense\") or c3.chapter-idx = \"fog\")\n",
    "           \"\"\"\n",
    "           )"
   ]
  },
  {
   "cell_type": "markdown",
   "metadata": {},
   "source": [
    "Properly structuring the OR clause takes away the problem of having different results for\n",
    "\n",
    "    for OR dense\n",
    "    dense OR fog"
   ]
  },
  {
   "cell_type": "markdown",
   "metadata": {},
   "source": [
    "Option 1"
   ]
  },
  {
   "cell_type": "code",
   "execution_count": 7,
   "metadata": {
    "collapsed": false
   },
   "outputs": [
    {
     "data": {
      "text/plain": [
       "107"
      ]
     },
     "execution_count": 7,
     "metadata": {},
     "output_type": "execute_result"
    }
   ],
   "source": [
    "try_query(\"\"\"\n",
    "           (c3.subcorpus-idx all \"dickens\" and/cql.proxinfo (c3.chapter-idx = \"dense\" or c3.chapter-idx = \"fog\"))\n",
    "           \"\"\"\n",
    "           )"
   ]
  },
  {
   "cell_type": "markdown",
   "metadata": {},
   "source": [
    "Option 2"
   ]
  },
  {
   "cell_type": "code",
   "execution_count": 8,
   "metadata": {
    "collapsed": false
   },
   "outputs": [
    {
     "data": {
      "text/plain": [
       "107"
      ]
     },
     "execution_count": 8,
     "metadata": {},
     "output_type": "execute_result"
    }
   ],
   "source": [
    "try_query(\"\"\"\n",
    "           (c3.subcorpus-idx all \"dickens\" and/cql.proxinfo c3.chapter-idx any \"dense fog\")\n",
    "           \"\"\"\n",
    "           )"
   ]
  },
  {
   "cell_type": "code",
   "execution_count": 9,
   "metadata": {
    "collapsed": false
   },
   "outputs": [
    {
     "data": {
      "text/plain": [
       "107"
      ]
     },
     "execution_count": 9,
     "metadata": {},
     "output_type": "execute_result"
    }
   ],
   "source": [
    "try_query(\"\"\"\n",
    "           (c3.subcorpus-idx all \"dickens\" and/cql.proxinfo c3.chapter-idx any \"fog dense\")\n",
    "           \"\"\"\n",
    "           )"
   ]
  },
  {
   "cell_type": "markdown",
   "metadata": {},
   "source": [
    "Option 3: the verbose one"
   ]
  },
  {
   "cell_type": "code",
   "execution_count": 10,
   "metadata": {
    "collapsed": false
   },
   "outputs": [
    {
     "data": {
      "text/plain": [
       "107"
      ]
     },
     "execution_count": 10,
     "metadata": {},
     "output_type": "execute_result"
    }
   ],
   "source": [
    "try_query(\"\"\"\n",
    "           ((c3.subcorpus-idx all \"dickens\" and/cql.proxinfo c3.chapter-idx = \"dense\") or \n",
    "           (c3.subcorpus-idx all \"dickens\" and/cql.proxinfo c3.chapter-idx = \"fog\"))\n",
    "           \"\"\"\n",
    "           )"
   ]
  },
  {
   "cell_type": "markdown",
   "metadata": {},
   "source": [
    "## Solving problem 2"
   ]
  },
  {
   "cell_type": "markdown",
   "metadata": {},
   "source": [
    "To really get the right results, though, one should not just use\n",
    "any, but rather any/cql.proxinfo.  "
   ]
  },
  {
   "cell_type": "code",
   "execution_count": 11,
   "metadata": {
    "collapsed": false
   },
   "outputs": [
    {
     "data": {
      "text/plain": [
       "142"
      ]
     },
     "execution_count": 11,
     "metadata": {},
     "output_type": "execute_result"
    }
   ],
   "source": [
    "try_query(\"\"\"\n",
    "           (c3.subcorpus-idx all \"dickens\" and/proxinfo (c3.chapter-idx = \"dense\" or/proxinfo c3.chapter-idx = \"fog\"))\n",
    "           \"\"\"\n",
    "           )"
   ]
  },
  {
   "cell_type": "markdown",
   "metadata": {},
   "source": [
    "Or in its simpler form:"
   ]
  },
  {
   "cell_type": "code",
   "execution_count": 12,
   "metadata": {
    "collapsed": false
   },
   "outputs": [
    {
     "data": {
      "text/plain": [
       "142"
      ]
     },
     "execution_count": 12,
     "metadata": {},
     "output_type": "execute_result"
    }
   ],
   "source": [
    "try_query(\"\"\"\n",
    "           (c3.subcorpus-idx all \"dickens\" and/cql.proxinfo c3.chapter-idx any/proxinfo \"fog dense\")\n",
    "           \"\"\"\n",
    "           )"
   ]
  },
  {
   "cell_type": "markdown",
   "metadata": {},
   "source": [
    "This does not seem to be affected by whether you mention cql or not (that is a cql specification, if I am not wrong)."
   ]
  },
  {
   "cell_type": "code",
   "execution_count": 13,
   "metadata": {
    "collapsed": false
   },
   "outputs": [
    {
     "data": {
      "text/plain": [
       "142"
      ]
     },
     "execution_count": 13,
     "metadata": {},
     "output_type": "execute_result"
    }
   ],
   "source": [
    "try_query(\"\"\"\n",
    "           (c3.subcorpus-idx all \"dickens\" and/cql.proxinfo c3.chapter-idx any/cql.proxinfo \"fog dense\")\n",
    "           \"\"\"\n",
    "           )"
   ]
  },
  {
   "cell_type": "markdown",
   "metadata": {},
   "source": [
    "The counts are now correct:"
   ]
  },
  {
   "cell_type": "code",
   "execution_count": 14,
   "metadata": {
    "collapsed": false
   },
   "outputs": [
    {
     "name": "stdout",
     "output_type": "stream",
     "text": [
      "48\n"
     ]
    }
   ],
   "source": [
    "dense = try_query(\"\"\"(c3.subcorpus-idx all \"dickens\" and/cql.proxinfo c3.chapter-idx = \"dense\")\"\"\")\n",
    "print dense"
   ]
  },
  {
   "cell_type": "code",
   "execution_count": 15,
   "metadata": {
    "collapsed": false
   },
   "outputs": [
    {
     "name": "stdout",
     "output_type": "stream",
     "text": [
      "94\n"
     ]
    }
   ],
   "source": [
    "fog = try_query(\"\"\"(c3.subcorpus-idx all \"dickens\" and/cql.proxinfo c3.chapter-idx = \"fog\")\"\"\")\n",
    "print fog"
   ]
  },
  {
   "cell_type": "code",
   "execution_count": 16,
   "metadata": {
    "collapsed": false
   },
   "outputs": [
    {
     "data": {
      "text/plain": [
       "142"
      ]
     },
     "execution_count": 16,
     "metadata": {},
     "output_type": "execute_result"
    }
   ],
   "source": [
    "dense + fog"
   ]
  }
 ],
 "metadata": {
  "kernelspec": {
   "display_name": "Python 2",
   "language": "python",
   "name": "python2"
  },
  "language_info": {
   "codemirror_mode": {
    "name": "ipython",
    "version": 2
   },
   "file_extension": ".py",
   "mimetype": "text/x-python",
   "name": "python",
   "nbconvert_exporter": "python",
   "pygments_lexer": "ipython2",
   "version": "2.7.6"
  }
 },
 "nbformat": 4,
 "nbformat_minor": 0
}
