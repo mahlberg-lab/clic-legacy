{
 "cells": [
  {
   "cell_type": "code",
   "execution_count": 2,
   "metadata": {
    "collapsed": false
   },
   "outputs": [],
   "source": [
    "class QueryBuilder(str):\n",
    "    \n",
    "    def __init__(self):\n",
    "        pass\n",
    "    \n",
    "    def to_CQL():\n",
    "        pass\n",
    "    \n",
    "qb = QueryBuilder()"
   ]
  },
  {
   "cell_type": "code",
   "execution_count": null,
   "metadata": {
    "collapsed": false
   },
   "outputs": [],
   "source": [
    "from unittest import TestCase\n",
    "\n",
    "\n",
    "class SimpleQuery(TestCase):\n",
    "    \n",
    "    def test_phrase(self):\n",
    "        query = QueryBuilder(phrase_search = \"the dense fog\")\n",
    "        self.assertEqual(\"\"\"(c3.subcorpus-idx all \"dickens\" and/cql.proxinfo c3.quote-idx = \"fog\")\"\"\", query.to_CQL())\n",
    "        query = QueryBuilder(phrase_search = \"'the dense fog'\")\n",
    "        self.assertEqual('c3. ... ', query.to_CQL())\n",
    "        query = QueryBuilder(phrase_search = '\"the dense fog\"')\n",
    "        self.assertEqual('c3. ... ', query.to_CQL())\n",
    "        \n",
    "    def test_any(self):\n",
    "        query = QueryBuilder(any_search = \"fog dense\")\n",
    "        self.assertEqual('c3. ...', query.to_CQL())\n",
    "        query = QueryBuilder(any_search = \"fog OR dense\")\n",
    "        self.assertEqual('c3. ...', query.to_CQL())\n",
    "        \n",
    "    def test_and(self):\n",
    "        query = QueryBuilder(and_search = \"dense in fog\")\n",
    "        self.assertEqual('c3. ...', query.to_CQL())\n",
    "        query = QueryBuilder(and_search = \"dense AND in AND fog\")\n",
    "        self.assertEqual('c3. ...', query.to_CQL())\n",
    "        \n",
    "    def test_not(self):\n",
    "        query = QueryBuilder(not_search = \"dense NOT fog\")\n",
    "        self.assertEqual('c3. ...', query.to_CQL())\n",
    "        \n",
    "class ComplexQuery(TestCase):\n",
    "    "
   ]
  }
 ],
 "metadata": {
  "kernelspec": {
   "display_name": "Python 2",
   "language": "python",
   "name": "python2"
  },
  "language_info": {
   "codemirror_mode": {
    "name": "ipython",
    "version": 2
   },
   "file_extension": ".py",
   "mimetype": "text/x-python",
   "name": "python",
   "nbconvert_exporter": "python",
   "pygments_lexer": "ipython2",
   "version": "2.7.6"
  }
 },
 "nbformat": 4,
 "nbformat_minor": 0
}
