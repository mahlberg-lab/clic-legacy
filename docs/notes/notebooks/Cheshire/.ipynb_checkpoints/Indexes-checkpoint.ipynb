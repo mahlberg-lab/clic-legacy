{
 "cells": [
  {
   "cell_type": "code",
   "execution_count": 5,
   "metadata": {
    "collapsed": true
   },
   "outputs": [],
   "source": [
    "# coding: utf-8\n",
    "\n",
    "import os\n",
    "\n",
    "from cheshire3.baseObjects import Session\n",
    "from cheshire3.document import StringDocument\n",
    "from cheshire3.internal import cheshire3Root\n",
    "from cheshire3.server import SimpleServer   \n",
    "\n",
    "session = Session()\n",
    "session.database = 'db_dickens'\n",
    "serv = SimpleServer(session, os.path.join(cheshire3Root, 'configs', 'serverConfig.xml'))\n",
    "db = serv.get_object(session, session.database)\n",
    "qf = db.get_object(session, 'defaultQueryFactory')\n",
    "resultSetStore = db.get_object(session, 'resultSetStore')\n",
    "idxStore = db.get_object(session, 'indexStore')"
   ]
  },
  {
   "cell_type": "code",
   "execution_count": 6,
   "metadata": {
    "collapsed": true
   },
   "outputs": [],
   "source": [
    "def count_total(result_set):\n",
    "    \"\"\"\n",
    "    Helper function to count the total number of hits\n",
    "    in the search results\n",
    "    \"\"\"\n",
    "    count = 0 \n",
    "    for result in result_set:\n",
    "        count += len(result.proxInfo)\n",
    "    return count\n",
    "\n",
    "def try_query(query):\n",
    "    \"\"\"\n",
    "    Another helper function to take a query and return\n",
    "    the total number of hits\n",
    "    \"\"\"\n",
    "    query = qf.get_query(session, query)\n",
    "    result_set = db.search(session, query)\n",
    "    return count_total(result_set)"
   ]
  },
  {
   "cell_type": "markdown",
   "metadata": {},
   "source": [
    "1. What is a book index? \n",
    "2. What can we do with it? \n",
    "3. What is stored in it?"
   ]
  },
  {
   "cell_type": "code",
   "execution_count": 7,
   "metadata": {
    "collapsed": false
   },
   "outputs": [
    {
     "data": {
      "text/plain": [
       "0"
      ]
     },
     "execution_count": 7,
     "metadata": {},
     "output_type": "execute_result"
    }
   ],
   "source": [
    "try_query('c3.book-idx = \"BH\"')"
   ]
  },
  {
   "cell_type": "code",
   "execution_count": null,
   "metadata": {
    "collapsed": true
   },
   "outputs": [],
   "source": []
  }
 ],
 "metadata": {
  "kernelspec": {
   "display_name": "Python 2",
   "language": "python",
   "name": "python2"
  },
  "language_info": {
   "codemirror_mode": {
    "name": "ipython",
    "version": 2
   },
   "file_extension": ".py",
   "mimetype": "text/x-python",
   "name": "python",
   "nbconvert_exporter": "python",
   "pygments_lexer": "ipython2",
   "version": "2.7.6"
  }
 },
 "nbformat": 4,
 "nbformat_minor": 0
}
